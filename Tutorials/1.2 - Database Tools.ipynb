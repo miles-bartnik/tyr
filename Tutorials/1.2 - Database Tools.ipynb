{
 "cells": [
  {
   "cell_type": "code",
   "execution_count": 1,
   "id": "initial_id",
   "metadata": {
    "collapsed": true,
    "ExecuteTime": {
     "end_time": "2025-10-15T06:43:57.102724005Z",
     "start_time": "2025-10-15T06:43:56.752324778Z"
    }
   },
   "outputs": [],
   "source": [
    "import tyr\n",
    "\n",
    "# Required to get relative path of test datasets\n",
    "import os\n",
    "\n",
    "from pprint import pprint"
   ]
  },
  {
   "cell_type": "code",
   "execution_count": 2,
   "outputs": [],
   "source": [
    "# Load schema from pkl\n",
    "source = tyr.lineage.schema.core.load_schema_from_pkl(\n",
    "    os.path.abspath(os.path.join(os.getcwd(), \"..\", \"tests/saved_schema/source.pkl\"))\n",
    ")\n",
    "staging = tyr.lineage.schema.core.load_schema_from_pkl(\n",
    "    os.path.abspath(os.path.join(os.getcwd(), \"..\", \"tests/saved_schema/staging.pkl\"))\n",
    ")"
   ],
   "metadata": {
    "collapsed": false,
    "ExecuteTime": {
     "end_time": "2025-10-15T06:43:57.163858377Z",
     "start_time": "2025-10-15T06:43:57.094940192Z"
    }
   },
   "id": "d1364a69ebac2a4a"
  },
  {
   "cell_type": "code",
   "execution_count": 3,
   "outputs": [],
   "source": [
    "# Defining connections\n",
    "conn = tyr.database.connections.Connection(\n",
    "    name=\"test\",\n",
    "    syntax=\"duckdb\",\n",
    "    database=os.path.abspath(os.path.join(os.getcwd(), \"..\", \"tests/test.duckdb\")),\n",
    "    read_only=False,\n",
    ")"
   ],
   "metadata": {
    "collapsed": false,
    "ExecuteTime": {
     "end_time": "2025-10-15T06:43:57.182335248Z",
     "start_time": "2025-10-15T06:43:57.173149063Z"
    }
   },
   "id": "b0def05363b607e0"
  },
  {
   "cell_type": "code",
   "execution_count": 4,
   "outputs": [
    {
     "name": "stdout",
     "output_type": "stream",
     "text": [
      "INSTALL 'spatial';\n",
      "\n",
      "LOAD 'spatial'\n",
      "\n",
      "\n",
      "INSTALL 'spatial';\n",
      "\n",
      "LOAD 'spatial'\n"
     ]
    },
    {
     "data": {
      "text/plain": "<tyr.database.connections.Response at 0x7fc267c94610>"
     },
     "execution_count": 4,
     "metadata": {},
     "output_type": "execute_result"
    }
   ],
   "source": [
    "# Before creating schema we need to execute the settings code to ensure the tables can be built\n",
    "print(source.settings.sql)\n",
    "conn.execute(source.settings.sql)\n",
    "\n",
    "print(\"\\n\")\n",
    "\n",
    "print(staging.settings.sql)\n",
    "conn.execute(staging.settings.sql)"
   ],
   "metadata": {
    "collapsed": false,
    "ExecuteTime": {
     "end_time": "2025-10-15T06:43:57.237113181Z",
     "start_time": "2025-10-15T06:43:57.176492566Z"
    }
   },
   "id": "13aa7d67386e4929"
  },
  {
   "cell_type": "code",
   "execution_count": 5,
   "outputs": [
    {
     "name": "stdout",
     "output_type": "stream",
     "text": [
      "SOURCE\n",
      "________________________________________________________________________\n",
      "Retrieving build order...\n",
      "Iterating through build order...\n",
      "car_location\n",
      "car_telemetry\n",
      "circuits\n",
      "meetings\n",
      "race_control\n",
      "session_status\n",
      "track_status\n",
      "sessions\n",
      "weather\n",
      "results\n",
      "['car_location', 'car_telemetry', 'circuits', 'meetings', 'race_control', 'session_status', 'track_status', 'sessions', 'weather', 'results']\n",
      "DROP TABLE IF EXISTS source.car_location;\n",
      "\n",
      "CREATE TABLE source.car_location AS\n",
      "SELECT DISTINCT *\n",
      "FROM read_csv_auto('/home/miles/tyr/tests/datasets/car_location_session_*.tsv', delim='\\t', header=True, union_by_name=True)\n",
      "DROP TABLE IF EXISTS source.car_telemetry;\n",
      "\n",
      "CREATE TABLE source.car_telemetry AS\n",
      "SELECT DISTINCT *\n",
      "FROM read_csv_auto('/home/miles/tyr/tests/datasets/car_telemetry_session_*.tsv', delim='\\t', header=True, union_by_name=True)\n",
      "DROP TABLE IF EXISTS source.circuits;\n",
      "\n",
      "CREATE TABLE source.circuits AS\n",
      "SELECT DISTINCT *\n",
      "FROM st_read('/home/miles/tyr/tests/datasets/f1_circuits.geojson')\n",
      "DROP TABLE IF EXISTS source.meetings;\n",
      "\n",
      "CREATE TABLE source.meetings AS\n",
      "SELECT DISTINCT *\n",
      "FROM read_csv_auto('/home/miles/tyr/tests/datasets/meetings.tsv', delim='\\t', header=True)\n",
      "DROP TABLE IF EXISTS source.race_control;\n",
      "\n",
      "CREATE TABLE source.race_control AS\n",
      "SELECT DISTINCT *\n",
      "FROM read_csv_auto('/home/miles/tyr/tests/datasets/race_control_session_*.tsv', delim='\\t', header=True, union_by_name=True)\n",
      "DROP TABLE IF EXISTS source.session_status;\n",
      "\n",
      "CREATE TABLE source.session_status AS\n",
      "SELECT DISTINCT *\n",
      "FROM read_csv_auto('/home/miles/tyr/tests/datasets/session_status_session_*.tsv', delim='\\t', header=True, union_by_name=True)\n",
      "DROP TABLE IF EXISTS source.track_status;\n",
      "\n",
      "CREATE TABLE source.track_status AS\n",
      "SELECT DISTINCT *\n",
      "FROM read_csv_auto('/home/miles/tyr/tests/datasets/track_status_session_*.tsv', delim='\\t', header=True, union_by_name=True)\n",
      "DROP TABLE IF EXISTS source.sessions;\n",
      "\n",
      "CREATE TABLE source.sessions AS\n",
      "SELECT DISTINCT *\n",
      "FROM read_csv_auto('/home/miles/tyr/tests/datasets/sessions.tsv', delim='\\t', header=True)\n",
      "DROP TABLE IF EXISTS source.weather;\n",
      "\n",
      "CREATE TABLE source.weather AS\n",
      "SELECT DISTINCT *\n",
      "FROM read_csv_auto('/home/miles/tyr/tests/datasets/weather_session_*.tsv', delim='\\t', header=True, union_by_name=True)\n",
      "DROP TABLE IF EXISTS source.results;\n",
      "\n",
      "CREATE TABLE source.results AS\n",
      "SELECT DISTINCT *\n",
      "FROM read_csv_auto('/home/miles/tyr/tests/datasets/results_session_*.tsv', delim='\\t', header=True, union_by_name=True)\n",
      "\n",
      "\n",
      "STAGING\n",
      "________________________________________________________________________\n",
      "Retrieving build order...\n",
      "Iterating through build order...\n",
      "car_location\n",
      "car_telemetry\n",
      "circuits\n",
      "meetings\n",
      "race_control\n",
      "session_status\n",
      "track_status\n",
      "sessions\n",
      "weather\n",
      "results\n",
      "['car_location', 'car_telemetry', 'circuits', 'meetings', 'race_control', 'session_status', 'track_status', 'sessions', 'weather', 'results']\n",
      "DROP TABLE IF EXISTS staging.car_location;\n",
      "\n",
      "CREATE TABLE staging.car_location AS\n",
      "SELECT DISTINCT STRPTIME(CASE\n",
      "                             WHEN REGEXP_FULL_MATCH(RIGHT(TRY_CAST(\"Date\" AS VARCHAR), 6), CAST('\\s\\d{2}\\:\\d{2}' AS VARCHAR)) THEN CONCAT(TRY_CAST(\"Date\" AS VARCHAR), CAST(':00.000' AS VARCHAR))\n",
      "                             WHEN REGEXP_FULL_MATCH(RIGHT(TRY_CAST(\"Date\" AS VARCHAR), 7), CAST('\\:\\d{2}\\.\\d{0,2}' AS VARCHAR)) THEN REGEXP_REPLACE(TRY_CAST(\"Date\" AS VARCHAR), CAST('\\:\\d{2}\\.\\d{0,2}' AS VARCHAR), RPAD(REGEXP_EXTRACT(RIGHT(TRY_CAST(\"Date\" AS VARCHAR), 7), CAST('\\:\\d{2}\\.\\d{0,2}' AS VARCHAR), 1), 6, CAST('0' AS VARCHAR)))\n",
      "                             WHEN REGEXP_FULL_MATCH(RIGHT(TRY_CAST(\"Date\" AS VARCHAR), 3), CAST('\\:\\d{2}' AS VARCHAR)) THEN CONCAT(TRY_CAST(\"Date\" AS VARCHAR), CAST('.000' AS VARCHAR))\n",
      "                             ELSE TRY_CAST(\"Date\" AS VARCHAR)\n",
      "                         END, CAST('%Y-%m-%d %H:%M:%S.%g' AS VARCHAR)) AS event_ts,\n",
      "                TRY_CAST(\"Status\" AS VARCHAR) AS status,\n",
      "                ROUND(TRY_CAST(\"X\" AS DECIMAL(15, 5)), 1) AS x,\n",
      "                ROUND(TRY_CAST(\"Y\" AS DECIMAL(15, 5)), 1) AS y,\n",
      "                ROUND(TRY_CAST(\"Z\" AS DECIMAL(15, 5)), 1) AS z,\n",
      "                TRY_CAST(\"Source\" AS VARCHAR) AS source,\n",
      "                TRY_CAST(\"Time\" AS INTERVAL) AS meeting_time,\n",
      "                TRY_CAST(\"SessionTime\" AS INTERVAL) AS session_time,\n",
      "                TRY_CAST(\"DriverNumber\" AS INTEGER) AS driver_number\n",
      "FROM source.car_location AS car_location\n",
      "DROP TABLE IF EXISTS staging.car_telemetry;\n",
      "\n",
      "CREATE TABLE staging.car_telemetry AS\n",
      "SELECT DISTINCT STRPTIME(CASE\n",
      "                             WHEN REGEXP_FULL_MATCH(RIGHT(TRY_CAST(\"Date\" AS VARCHAR), 6), CAST('\\s\\d{2}\\:\\d{2}' AS VARCHAR)) THEN CONCAT(TRY_CAST(\"Date\" AS VARCHAR), CAST(':00.000' AS VARCHAR))\n",
      "                             WHEN REGEXP_FULL_MATCH(RIGHT(TRY_CAST(\"Date\" AS VARCHAR), 7), CAST('\\:\\d{2}\\.\\d{0,2}' AS VARCHAR)) THEN REGEXP_REPLACE(TRY_CAST(\"Date\" AS VARCHAR), CAST('\\:\\d{2}\\.\\d{0,2}' AS VARCHAR), RPAD(REGEXP_EXTRACT(RIGHT(TRY_CAST(\"Date\" AS VARCHAR), 7), CAST('\\:\\d{2}\\.\\d{0,2}' AS VARCHAR), 1), 6, CAST('0' AS VARCHAR)))\n",
      "                             WHEN REGEXP_FULL_MATCH(RIGHT(TRY_CAST(\"Date\" AS VARCHAR), 3), CAST('\\:\\d{2}' AS VARCHAR)) THEN CONCAT(TRY_CAST(\"Date\" AS VARCHAR), CAST('.000' AS VARCHAR))\n",
      "                             ELSE TRY_CAST(\"Date\" AS VARCHAR)\n",
      "                         END, CAST('%Y-%m-%d %H:%M:%S.%g' AS VARCHAR)) AS event_ts,\n",
      "                ROUND(TRY_CAST(\"RPM\" AS DECIMAL(15, 5)), 0) AS rpm,\n",
      "                ROUND(TRY_CAST(\"Speed\" AS DECIMAL(15, 5)), 1) AS kmh,\n",
      "                TRY_CAST(\"nGear\" AS INTEGER) AS n_gear,\n",
      "                MULTIPLY(TRY_CAST(\"Throttle\" AS DECIMAL(15, 5)), CAST(0.01 AS FLOAT)) AS throttle,\n",
      "                TRY_CAST(\"Brake\" AS DECIMAL(15, 5)) AS brake,\n",
      "                TRY_CAST(\"DRS\" AS BOOLEAN) AS drs,\n",
      "                TRY_CAST(\"Source\" AS VARCHAR) AS source,\n",
      "                TRY_CAST(\"Time\" AS INTERVAL) AS meeting_time,\n",
      "                TRY_CAST(\"SessionTime\" AS INTERVAL) AS session_time,\n",
      "                TRY_CAST(\"DriverNumber\" AS INTEGER) AS driver_number\n",
      "FROM source.car_telemetry AS car_telemetry\n",
      "DROP TABLE IF EXISTS staging.circuits;\n",
      "\n",
      "CREATE TABLE staging.circuits AS\n",
      "SELECT DISTINCT TRY_CAST(\"id\" AS VARCHAR) AS circuit_key,\n",
      "                TRY_CAST(\"Location\" AS VARCHAR) AS location,\n",
      "                TRY_CAST(\"Name\" AS VARCHAR) AS name,\n",
      "                STRPTIME(TRY_CAST(\"opened\" AS VARCHAR), CAST('%Y' AS VARCHAR)) AS opened,\n",
      "                STRPTIME(TRY_CAST(\"firstgp\" AS VARCHAR), CAST('%Y' AS VARCHAR)) AS first_gp,\n",
      "                TRY_CAST(\"length\" AS INTEGER) AS length,\n",
      "                TRY_CAST(\"altitude\" AS INTEGER) AS altitude,\n",
      "                TRY_CAST(\"geom\" AS GEOMETRY) AS geometry\n",
      "FROM source.circuits AS circuits\n",
      "DROP TABLE IF EXISTS staging.meetings;\n",
      "\n",
      "CREATE TABLE staging.meetings AS\n",
      "SELECT DISTINCT TRY_CAST(\"Key\" AS INTEGER) AS meeting_key,\n",
      "                TRY_CAST(\"Name\" AS VARCHAR) AS meeting_name,\n",
      "                TRY_CAST(\"OfficialName\" AS VARCHAR) AS official_name,\n",
      "                TRY_CAST(\"Location\" AS VARCHAR) AS location,\n",
      "                TRY_CAST(\"CountryKey\" AS INTEGER) AS country_key,\n",
      "                TRY_CAST(\"CountryCode\" AS VARCHAR) AS country_code,\n",
      "                TRY_CAST(\"CountryName\" AS VARCHAR) AS country_name,\n",
      "                TRY_CAST(\"CircuitKey\" AS INTEGER) AS circuit_key,\n",
      "                TRY_CAST(\"CircuitShortName\" AS VARCHAR) AS circuit_short_name\n",
      "FROM source.meetings AS meetings\n",
      "DROP TABLE IF EXISTS staging.race_control;\n",
      "\n",
      "CREATE TABLE staging.race_control AS\n",
      "SELECT DISTINCT STRPTIME(CASE\n",
      "                             WHEN REGEXP_FULL_MATCH(RIGHT(TRY_CAST(\"Time\" AS VARCHAR), 6), CAST('\\s\\d{2}\\:\\d{2}' AS VARCHAR)) THEN CONCAT(TRY_CAST(\"Time\" AS VARCHAR), CAST(':00.000' AS VARCHAR))\n",
      "                             WHEN REGEXP_FULL_MATCH(RIGHT(TRY_CAST(\"Time\" AS VARCHAR), 7), CAST('\\:\\d{2}\\.\\d{0,2}' AS VARCHAR)) THEN REGEXP_REPLACE(TRY_CAST(\"Time\" AS VARCHAR), CAST('\\:\\d{2}\\.\\d{0,2}' AS VARCHAR), RPAD(REGEXP_EXTRACT(RIGHT(TRY_CAST(\"Time\" AS VARCHAR), 7), CAST('\\:\\d{2}\\.\\d{0,2}' AS VARCHAR), 1), 6, CAST('0' AS VARCHAR)))\n",
      "                             WHEN REGEXP_FULL_MATCH(RIGHT(TRY_CAST(\"Time\" AS VARCHAR), 3), CAST('\\:\\d{2}' AS VARCHAR)) THEN CONCAT(TRY_CAST(\"Time\" AS VARCHAR), CAST('.000' AS VARCHAR))\n",
      "                             ELSE TRY_CAST(\"Time\" AS VARCHAR)\n",
      "                         END, CAST('%Y-%m-%d %H:%M:%S.%g' AS VARCHAR)) AS event_ts,\n",
      "                TRY_CAST(\"Category\" AS VARCHAR) AS category,\n",
      "                TRY_CAST(\"Message\" AS TEXT) AS message,\n",
      "                TRY_CAST(\"Status\" AS VARCHAR) AS status,\n",
      "                TRY_CAST(\"Flag\" AS VARCHAR) AS flag,\n",
      "                TRY_CAST(\"Scope\" AS VARCHAR) AS scope,\n",
      "                TRY_CAST(\"Sector\" AS INTEGER) AS sector,\n",
      "                TRY_CAST(\"RacingNumber\" AS INTEGER) AS driver_number,\n",
      "                TRY_CAST(\"Lap\" AS INTEGER) AS lap\n",
      "FROM source.race_control AS race_control\n",
      "DROP TABLE IF EXISTS staging.session_status;\n",
      "\n",
      "CREATE TABLE staging.session_status AS\n",
      "SELECT DISTINCT TRY_CAST(\"SessionKey\" AS INTEGER) AS session_key,\n",
      "                TRY_CAST(\"Status\" AS VARCHAR) AS session_status\n",
      "FROM source.session_status AS session_status\n",
      "DROP TABLE IF EXISTS staging.track_status;\n",
      "\n",
      "CREATE TABLE staging.track_status AS\n",
      "SELECT DISTINCT TRY_CAST(\"Time\" AS INTERVAL) AS session_time,\n",
      "                TRY_CAST(\"Status\" AS VARCHAR) AS status,\n",
      "                TRY_CAST(\"Message\" AS TEXT) AS message\n",
      "FROM source.track_status AS track_status\n",
      "DROP TABLE IF EXISTS staging.sessions;\n",
      "\n",
      "CREATE TABLE staging.sessions AS\n",
      "SELECT DISTINCT TRY_CAST(\"Key\" AS INT) AS session_key,\n",
      "                TRY_CAST(\"Type\" AS VARCHAR) AS type,\n",
      "                TRY_CAST(\"Name\" AS VARCHAR) AS name,\n",
      "                STRPTIME(TRY_CAST(\"StartDate\" AS VARCHAR), CAST('%Y-%m-%d %H:%M:%S' AS VARCHAR)) AS start_date,\n",
      "                STRPTIME(TRY_CAST(\"EndDate\" AS VARCHAR), CAST('%Y-%m-%d %H:%M:%S' AS VARCHAR)) AS end_date,\n",
      "                TRY_CAST(\"GmtOffset\" AS INTERVAL) AS gmt_offset,\n",
      "                TRY_CAST(\"Path\" AS VARCHAR) AS path\n",
      "FROM source.sessions AS sessions\n",
      "DROP TABLE IF EXISTS staging.weather;\n",
      "\n",
      "CREATE TABLE staging.weather AS\n",
      "SELECT DISTINCT TRY_CAST(\"Time\" AS INTERVAL) AS session_time,\n",
      "                ROUND(TRY_CAST(\"AirTemp\" AS DECIMAL(15, 5)), 1) AS air_temp,\n",
      "                TRY_CAST(\"Humidity\" AS DECIMAL(15, 5)) AS humidity,\n",
      "                ROUND(TRY_CAST(\"Pressure\" AS DECIMAL(15, 5)), 0) AS pressure,\n",
      "                ROUND(TRY_CAST(\"Rainfall\" AS DECIMAL(15, 5)), 0) AS rainfall,\n",
      "                ROUND(TRY_CAST(\"TrackTemp\" AS DECIMAL(15, 5)), 1) AS track_temp,\n",
      "                ROUND(TRY_CAST(\"WindDirection\" AS DECIMAL(15, 5)), 0) AS wind_direction,\n",
      "                ROUND(MULTIPLY(MULTIPLY(MULTIPLY(MULTIPLY(TRY_CAST(\"WindSpeed\" AS DECIMAL(15, 5)), ROUND(CAST(1.9438461717893492 AS FLOAT), 5)), ROUND(CAST(3600.0 AS FLOAT), 5)), ROUND(CAST(0.001 AS FLOAT), 5)), ROUND(CAST(1.0 AS FLOAT), 5)), 1) AS wind_speed\n",
      "FROM source.weather AS weather\n",
      "DROP TABLE IF EXISTS staging.results;\n",
      "\n",
      "CREATE TABLE staging.results AS\n",
      "SELECT DISTINCT TRY_CAST(\"SessionKey\" AS INTEGER) AS session_key,\n",
      "                TRY_CAST(\"DriverNumber\" AS INTEGER) AS driver_number,\n",
      "                TRY_CAST(\"BroadcastName\" AS VARCHAR) AS broadcast_name,\n",
      "                TRY_CAST(\"Abbreviation\" AS VARCHAR) AS abbreviation,\n",
      "                TRY_CAST(\"DriverId\" AS VARCHAR) AS driver_id,\n",
      "                TRY_CAST(\"TeamName\" AS VARCHAR) AS team_name,\n",
      "                TRY_CAST(\"TeamColor\" AS VARCHAR) AS team_colour,\n",
      "                TRY_CAST(\"TeamId\" AS VARCHAR) AS team_id,\n",
      "                TRY_CAST(\"FirstName\" AS VARCHAR) AS first_name,\n",
      "                TRY_CAST(\"LastName\" AS VARCHAR) AS last_name,\n",
      "                TRY_CAST(\"FullName\" AS VARCHAR) AS full_name,\n",
      "                TRY_CAST(\"HeadshotUrl\" AS VARCHAR) AS headshot_url,\n",
      "                TRY_CAST(\"CountryCode\" AS VARCHAR) AS country_code,\n",
      "                TRY_CAST(\"Position\" AS INTEGER) AS position,\n",
      "                TRY_CAST(\"ClassifiedPosition\" AS INTEGER) AS classified_position,\n",
      "                TRY_CAST(\"GridPosition\" AS INTEGER) AS grid_position,\n",
      "                TRY_CAST(\"Q1\" AS INTERVAL) AS qualifying_1,\n",
      "                TRY_CAST(\"Q2\" AS INTERVAL) AS qualifying_2,\n",
      "                TRY_CAST(\"Q3\" AS INTERVAL) AS qualifying_3,\n",
      "                TRY_CAST(\"Time\" AS INTERVAL) AS classified_time,\n",
      "                TRY_CAST(\"Status\" AS VARCHAR) AS session_status,\n",
      "                TRY_CAST(\"Points\" AS INTEGER) AS points,\n",
      "                TRY_CAST(\"Laps\" AS INTEGER) AS laps_completed\n",
      "FROM source.results AS results\n"
     ]
    }
   ],
   "source": [
    "# Create the schema. Build upstream schema first\n",
    "print(\"SOURCE\")\n",
    "print(\"________________________________________________________________________\")\n",
    "tyr.database.core.create_tables(source, conn=conn)\n",
    "\n",
    "print(\"\\n\")\n",
    "print(\"STAGING\")\n",
    "print(\"________________________________________________________________________\")\n",
    "tyr.database.core.create_tables(staging, conn=conn)"
   ],
   "metadata": {
    "collapsed": false,
    "ExecuteTime": {
     "end_time": "2025-10-15T06:43:59.048693822Z",
     "start_time": "2025-10-15T06:43:57.242643495Z"
    }
   },
   "id": "6b2ea02d299d4232"
  },
  {
   "cell_type": "code",
   "execution_count": 6,
   "outputs": [
    {
     "name": "stdout",
     "output_type": "stream",
     "text": [
      "TABLES:\n"
     ]
    },
    {
     "data": {
      "text/plain": "   table_catalog table_schema      table_name  table_type  \\\n0           test    singapore    car_location  BASE TABLE   \n1           test    singapore   car_telemetry  BASE TABLE   \n2           test    singapore        circuits  BASE TABLE   \n3           test    singapore        meetings  BASE TABLE   \n4           test    singapore    race_control  BASE TABLE   \n5           test    singapore         results  BASE TABLE   \n6           test    singapore        sessions  BASE TABLE   \n7           test    singapore  session_status  BASE TABLE   \n8           test    singapore    track_status  BASE TABLE   \n9           test    singapore         weather  BASE TABLE   \n10          test       source    car_location  BASE TABLE   \n11          test       source   car_telemetry  BASE TABLE   \n12          test       source        circuits  BASE TABLE   \n13          test       source        meetings  BASE TABLE   \n14          test       source    race_control  BASE TABLE   \n15          test       source         results  BASE TABLE   \n16          test       source        sessions  BASE TABLE   \n17          test       source  session_status  BASE TABLE   \n18          test       source    track_status  BASE TABLE   \n19          test       source         weather  BASE TABLE   \n20          test      staging    car_location  BASE TABLE   \n21          test      staging   car_telemetry  BASE TABLE   \n22          test      staging        circuits  BASE TABLE   \n23          test      staging        meetings  BASE TABLE   \n24          test      staging    race_control  BASE TABLE   \n25          test      staging         results  BASE TABLE   \n26          test      staging        sessions  BASE TABLE   \n27          test      staging  session_status  BASE TABLE   \n28          test      staging    track_status  BASE TABLE   \n29          test      staging         weather  BASE TABLE   \n\n   self_referencing_column_name reference_generation  \\\n0                          None                 None   \n1                          None                 None   \n2                          None                 None   \n3                          None                 None   \n4                          None                 None   \n5                          None                 None   \n6                          None                 None   \n7                          None                 None   \n8                          None                 None   \n9                          None                 None   \n10                         None                 None   \n11                         None                 None   \n12                         None                 None   \n13                         None                 None   \n14                         None                 None   \n15                         None                 None   \n16                         None                 None   \n17                         None                 None   \n18                         None                 None   \n19                         None                 None   \n20                         None                 None   \n21                         None                 None   \n22                         None                 None   \n23                         None                 None   \n24                         None                 None   \n25                         None                 None   \n26                         None                 None   \n27                         None                 None   \n28                         None                 None   \n29                         None                 None   \n\n   user_defined_type_catalog user_defined_type_schema user_defined_type_name  \\\n0                       None                     None                   None   \n1                       None                     None                   None   \n2                       None                     None                   None   \n3                       None                     None                   None   \n4                       None                     None                   None   \n5                       None                     None                   None   \n6                       None                     None                   None   \n7                       None                     None                   None   \n8                       None                     None                   None   \n9                       None                     None                   None   \n10                      None                     None                   None   \n11                      None                     None                   None   \n12                      None                     None                   None   \n13                      None                     None                   None   \n14                      None                     None                   None   \n15                      None                     None                   None   \n16                      None                     None                   None   \n17                      None                     None                   None   \n18                      None                     None                   None   \n19                      None                     None                   None   \n20                      None                     None                   None   \n21                      None                     None                   None   \n22                      None                     None                   None   \n23                      None                     None                   None   \n24                      None                     None                   None   \n25                      None                     None                   None   \n26                      None                     None                   None   \n27                      None                     None                   None   \n28                      None                     None                   None   \n29                      None                     None                   None   \n\n   is_insertable_into is_typed commit_action TABLE_COMMENT  \n0                 YES       NO          None          None  \n1                 YES       NO          None          None  \n2                 YES       NO          None          None  \n3                 YES       NO          None          None  \n4                 YES       NO          None          None  \n5                 YES       NO          None          None  \n6                 YES       NO          None          None  \n7                 YES       NO          None          None  \n8                 YES       NO          None          None  \n9                 YES       NO          None          None  \n10                YES       NO          None          None  \n11                YES       NO          None          None  \n12                YES       NO          None          None  \n13                YES       NO          None          None  \n14                YES       NO          None          None  \n15                YES       NO          None          None  \n16                YES       NO          None          None  \n17                YES       NO          None          None  \n18                YES       NO          None          None  \n19                YES       NO          None          None  \n20                YES       NO          None          None  \n21                YES       NO          None          None  \n22                YES       NO          None          None  \n23                YES       NO          None          None  \n24                YES       NO          None          None  \n25                YES       NO          None          None  \n26                YES       NO          None          None  \n27                YES       NO          None          None  \n28                YES       NO          None          None  \n29                YES       NO          None          None  ",
      "text/html": "<div>\n<style scoped>\n    .dataframe tbody tr th:only-of-type {\n        vertical-align: middle;\n    }\n\n    .dataframe tbody tr th {\n        vertical-align: top;\n    }\n\n    .dataframe thead th {\n        text-align: right;\n    }\n</style>\n<table border=\"1\" class=\"dataframe\">\n  <thead>\n    <tr style=\"text-align: right;\">\n      <th></th>\n      <th>table_catalog</th>\n      <th>table_schema</th>\n      <th>table_name</th>\n      <th>table_type</th>\n      <th>self_referencing_column_name</th>\n      <th>reference_generation</th>\n      <th>user_defined_type_catalog</th>\n      <th>user_defined_type_schema</th>\n      <th>user_defined_type_name</th>\n      <th>is_insertable_into</th>\n      <th>is_typed</th>\n      <th>commit_action</th>\n      <th>TABLE_COMMENT</th>\n    </tr>\n  </thead>\n  <tbody>\n    <tr>\n      <th>0</th>\n      <td>test</td>\n      <td>singapore</td>\n      <td>car_location</td>\n      <td>BASE TABLE</td>\n      <td>None</td>\n      <td>None</td>\n      <td>None</td>\n      <td>None</td>\n      <td>None</td>\n      <td>YES</td>\n      <td>NO</td>\n      <td>None</td>\n      <td>None</td>\n    </tr>\n    <tr>\n      <th>1</th>\n      <td>test</td>\n      <td>singapore</td>\n      <td>car_telemetry</td>\n      <td>BASE TABLE</td>\n      <td>None</td>\n      <td>None</td>\n      <td>None</td>\n      <td>None</td>\n      <td>None</td>\n      <td>YES</td>\n      <td>NO</td>\n      <td>None</td>\n      <td>None</td>\n    </tr>\n    <tr>\n      <th>2</th>\n      <td>test</td>\n      <td>singapore</td>\n      <td>circuits</td>\n      <td>BASE TABLE</td>\n      <td>None</td>\n      <td>None</td>\n      <td>None</td>\n      <td>None</td>\n      <td>None</td>\n      <td>YES</td>\n      <td>NO</td>\n      <td>None</td>\n      <td>None</td>\n    </tr>\n    <tr>\n      <th>3</th>\n      <td>test</td>\n      <td>singapore</td>\n      <td>meetings</td>\n      <td>BASE TABLE</td>\n      <td>None</td>\n      <td>None</td>\n      <td>None</td>\n      <td>None</td>\n      <td>None</td>\n      <td>YES</td>\n      <td>NO</td>\n      <td>None</td>\n      <td>None</td>\n    </tr>\n    <tr>\n      <th>4</th>\n      <td>test</td>\n      <td>singapore</td>\n      <td>race_control</td>\n      <td>BASE TABLE</td>\n      <td>None</td>\n      <td>None</td>\n      <td>None</td>\n      <td>None</td>\n      <td>None</td>\n      <td>YES</td>\n      <td>NO</td>\n      <td>None</td>\n      <td>None</td>\n    </tr>\n    <tr>\n      <th>5</th>\n      <td>test</td>\n      <td>singapore</td>\n      <td>results</td>\n      <td>BASE TABLE</td>\n      <td>None</td>\n      <td>None</td>\n      <td>None</td>\n      <td>None</td>\n      <td>None</td>\n      <td>YES</td>\n      <td>NO</td>\n      <td>None</td>\n      <td>None</td>\n    </tr>\n    <tr>\n      <th>6</th>\n      <td>test</td>\n      <td>singapore</td>\n      <td>sessions</td>\n      <td>BASE TABLE</td>\n      <td>None</td>\n      <td>None</td>\n      <td>None</td>\n      <td>None</td>\n      <td>None</td>\n      <td>YES</td>\n      <td>NO</td>\n      <td>None</td>\n      <td>None</td>\n    </tr>\n    <tr>\n      <th>7</th>\n      <td>test</td>\n      <td>singapore</td>\n      <td>session_status</td>\n      <td>BASE TABLE</td>\n      <td>None</td>\n      <td>None</td>\n      <td>None</td>\n      <td>None</td>\n      <td>None</td>\n      <td>YES</td>\n      <td>NO</td>\n      <td>None</td>\n      <td>None</td>\n    </tr>\n    <tr>\n      <th>8</th>\n      <td>test</td>\n      <td>singapore</td>\n      <td>track_status</td>\n      <td>BASE TABLE</td>\n      <td>None</td>\n      <td>None</td>\n      <td>None</td>\n      <td>None</td>\n      <td>None</td>\n      <td>YES</td>\n      <td>NO</td>\n      <td>None</td>\n      <td>None</td>\n    </tr>\n    <tr>\n      <th>9</th>\n      <td>test</td>\n      <td>singapore</td>\n      <td>weather</td>\n      <td>BASE TABLE</td>\n      <td>None</td>\n      <td>None</td>\n      <td>None</td>\n      <td>None</td>\n      <td>None</td>\n      <td>YES</td>\n      <td>NO</td>\n      <td>None</td>\n      <td>None</td>\n    </tr>\n    <tr>\n      <th>10</th>\n      <td>test</td>\n      <td>source</td>\n      <td>car_location</td>\n      <td>BASE TABLE</td>\n      <td>None</td>\n      <td>None</td>\n      <td>None</td>\n      <td>None</td>\n      <td>None</td>\n      <td>YES</td>\n      <td>NO</td>\n      <td>None</td>\n      <td>None</td>\n    </tr>\n    <tr>\n      <th>11</th>\n      <td>test</td>\n      <td>source</td>\n      <td>car_telemetry</td>\n      <td>BASE TABLE</td>\n      <td>None</td>\n      <td>None</td>\n      <td>None</td>\n      <td>None</td>\n      <td>None</td>\n      <td>YES</td>\n      <td>NO</td>\n      <td>None</td>\n      <td>None</td>\n    </tr>\n    <tr>\n      <th>12</th>\n      <td>test</td>\n      <td>source</td>\n      <td>circuits</td>\n      <td>BASE TABLE</td>\n      <td>None</td>\n      <td>None</td>\n      <td>None</td>\n      <td>None</td>\n      <td>None</td>\n      <td>YES</td>\n      <td>NO</td>\n      <td>None</td>\n      <td>None</td>\n    </tr>\n    <tr>\n      <th>13</th>\n      <td>test</td>\n      <td>source</td>\n      <td>meetings</td>\n      <td>BASE TABLE</td>\n      <td>None</td>\n      <td>None</td>\n      <td>None</td>\n      <td>None</td>\n      <td>None</td>\n      <td>YES</td>\n      <td>NO</td>\n      <td>None</td>\n      <td>None</td>\n    </tr>\n    <tr>\n      <th>14</th>\n      <td>test</td>\n      <td>source</td>\n      <td>race_control</td>\n      <td>BASE TABLE</td>\n      <td>None</td>\n      <td>None</td>\n      <td>None</td>\n      <td>None</td>\n      <td>None</td>\n      <td>YES</td>\n      <td>NO</td>\n      <td>None</td>\n      <td>None</td>\n    </tr>\n    <tr>\n      <th>15</th>\n      <td>test</td>\n      <td>source</td>\n      <td>results</td>\n      <td>BASE TABLE</td>\n      <td>None</td>\n      <td>None</td>\n      <td>None</td>\n      <td>None</td>\n      <td>None</td>\n      <td>YES</td>\n      <td>NO</td>\n      <td>None</td>\n      <td>None</td>\n    </tr>\n    <tr>\n      <th>16</th>\n      <td>test</td>\n      <td>source</td>\n      <td>sessions</td>\n      <td>BASE TABLE</td>\n      <td>None</td>\n      <td>None</td>\n      <td>None</td>\n      <td>None</td>\n      <td>None</td>\n      <td>YES</td>\n      <td>NO</td>\n      <td>None</td>\n      <td>None</td>\n    </tr>\n    <tr>\n      <th>17</th>\n      <td>test</td>\n      <td>source</td>\n      <td>session_status</td>\n      <td>BASE TABLE</td>\n      <td>None</td>\n      <td>None</td>\n      <td>None</td>\n      <td>None</td>\n      <td>None</td>\n      <td>YES</td>\n      <td>NO</td>\n      <td>None</td>\n      <td>None</td>\n    </tr>\n    <tr>\n      <th>18</th>\n      <td>test</td>\n      <td>source</td>\n      <td>track_status</td>\n      <td>BASE TABLE</td>\n      <td>None</td>\n      <td>None</td>\n      <td>None</td>\n      <td>None</td>\n      <td>None</td>\n      <td>YES</td>\n      <td>NO</td>\n      <td>None</td>\n      <td>None</td>\n    </tr>\n    <tr>\n      <th>19</th>\n      <td>test</td>\n      <td>source</td>\n      <td>weather</td>\n      <td>BASE TABLE</td>\n      <td>None</td>\n      <td>None</td>\n      <td>None</td>\n      <td>None</td>\n      <td>None</td>\n      <td>YES</td>\n      <td>NO</td>\n      <td>None</td>\n      <td>None</td>\n    </tr>\n    <tr>\n      <th>20</th>\n      <td>test</td>\n      <td>staging</td>\n      <td>car_location</td>\n      <td>BASE TABLE</td>\n      <td>None</td>\n      <td>None</td>\n      <td>None</td>\n      <td>None</td>\n      <td>None</td>\n      <td>YES</td>\n      <td>NO</td>\n      <td>None</td>\n      <td>None</td>\n    </tr>\n    <tr>\n      <th>21</th>\n      <td>test</td>\n      <td>staging</td>\n      <td>car_telemetry</td>\n      <td>BASE TABLE</td>\n      <td>None</td>\n      <td>None</td>\n      <td>None</td>\n      <td>None</td>\n      <td>None</td>\n      <td>YES</td>\n      <td>NO</td>\n      <td>None</td>\n      <td>None</td>\n    </tr>\n    <tr>\n      <th>22</th>\n      <td>test</td>\n      <td>staging</td>\n      <td>circuits</td>\n      <td>BASE TABLE</td>\n      <td>None</td>\n      <td>None</td>\n      <td>None</td>\n      <td>None</td>\n      <td>None</td>\n      <td>YES</td>\n      <td>NO</td>\n      <td>None</td>\n      <td>None</td>\n    </tr>\n    <tr>\n      <th>23</th>\n      <td>test</td>\n      <td>staging</td>\n      <td>meetings</td>\n      <td>BASE TABLE</td>\n      <td>None</td>\n      <td>None</td>\n      <td>None</td>\n      <td>None</td>\n      <td>None</td>\n      <td>YES</td>\n      <td>NO</td>\n      <td>None</td>\n      <td>None</td>\n    </tr>\n    <tr>\n      <th>24</th>\n      <td>test</td>\n      <td>staging</td>\n      <td>race_control</td>\n      <td>BASE TABLE</td>\n      <td>None</td>\n      <td>None</td>\n      <td>None</td>\n      <td>None</td>\n      <td>None</td>\n      <td>YES</td>\n      <td>NO</td>\n      <td>None</td>\n      <td>None</td>\n    </tr>\n    <tr>\n      <th>25</th>\n      <td>test</td>\n      <td>staging</td>\n      <td>results</td>\n      <td>BASE TABLE</td>\n      <td>None</td>\n      <td>None</td>\n      <td>None</td>\n      <td>None</td>\n      <td>None</td>\n      <td>YES</td>\n      <td>NO</td>\n      <td>None</td>\n      <td>None</td>\n    </tr>\n    <tr>\n      <th>26</th>\n      <td>test</td>\n      <td>staging</td>\n      <td>sessions</td>\n      <td>BASE TABLE</td>\n      <td>None</td>\n      <td>None</td>\n      <td>None</td>\n      <td>None</td>\n      <td>None</td>\n      <td>YES</td>\n      <td>NO</td>\n      <td>None</td>\n      <td>None</td>\n    </tr>\n    <tr>\n      <th>27</th>\n      <td>test</td>\n      <td>staging</td>\n      <td>session_status</td>\n      <td>BASE TABLE</td>\n      <td>None</td>\n      <td>None</td>\n      <td>None</td>\n      <td>None</td>\n      <td>None</td>\n      <td>YES</td>\n      <td>NO</td>\n      <td>None</td>\n      <td>None</td>\n    </tr>\n    <tr>\n      <th>28</th>\n      <td>test</td>\n      <td>staging</td>\n      <td>track_status</td>\n      <td>BASE TABLE</td>\n      <td>None</td>\n      <td>None</td>\n      <td>None</td>\n      <td>None</td>\n      <td>None</td>\n      <td>YES</td>\n      <td>NO</td>\n      <td>None</td>\n      <td>None</td>\n    </tr>\n    <tr>\n      <th>29</th>\n      <td>test</td>\n      <td>staging</td>\n      <td>weather</td>\n      <td>BASE TABLE</td>\n      <td>None</td>\n      <td>None</td>\n      <td>None</td>\n      <td>None</td>\n      <td>None</td>\n      <td>YES</td>\n      <td>NO</td>\n      <td>None</td>\n      <td>None</td>\n    </tr>\n  </tbody>\n</table>\n</div>"
     },
     "metadata": {},
     "output_type": "display_data"
    },
    {
     "name": "stdout",
     "output_type": "stream",
     "text": [
      "\n",
      "\n",
      "COLUMNS:\n"
     ]
    },
    {
     "data": {
      "text/plain": "    table_catalog table_schema    table_name     column_name  \\\n0            test    singapore  car_location   driver_number   \n1            test    singapore  car_location        event_ts   \n2            test    singapore  car_location          status   \n3            test    singapore  car_location               x   \n4            test    singapore  car_location               y   \n..            ...          ...           ...             ...   \n265          test      staging       weather        pressure   \n266          test      staging       weather        rainfall   \n267          test      staging       weather      track_temp   \n268          test      staging       weather  wind_direction   \n269          test      staging       weather      wind_speed   \n\n     ordinal_position column_default is_nullable      data_type  \\\n0                   1           None         YES        INTEGER   \n1                   2           None         YES      TIMESTAMP   \n2                   3           None         YES        VARCHAR   \n3                   4           None         YES          FLOAT   \n4                   5           None         YES          FLOAT   \n..                ...            ...         ...            ...   \n265                 4           None         YES  DECIMAL(15,0)   \n266                 5           None         YES  DECIMAL(15,0)   \n267                 6           None         YES  DECIMAL(15,1)   \n268                 7           None         YES  DECIMAL(15,0)   \n269                 8           None         YES          FLOAT   \n\n     character_maximum_length  character_octet_length  ...  \\\n0                         NaN                     NaN  ...   \n1                         NaN                     NaN  ...   \n2                         NaN                     NaN  ...   \n3                         NaN                     NaN  ...   \n4                         NaN                     NaN  ...   \n..                        ...                     ...  ...   \n265                       NaN                     NaN  ...   \n266                       NaN                     NaN  ...   \n267                       NaN                     NaN  ...   \n268                       NaN                     NaN  ...   \n269                       NaN                     NaN  ...   \n\n     identity_generation  identity_start  identity_increment  \\\n0                   None            None                None   \n1                   None            None                None   \n2                   None            None                None   \n3                   None            None                None   \n4                   None            None                None   \n..                   ...             ...                 ...   \n265                 None            None                None   \n266                 None            None                None   \n267                 None            None                None   \n268                 None            None                None   \n269                 None            None                None   \n\n     identity_maximum identity_minimum  identity_cycle is_generated  \\\n0                None             None             NaN         None   \n1                None             None             NaN         None   \n2                None             None             NaN         None   \n3                None             None             NaN         None   \n4                None             None             NaN         None   \n..                ...              ...             ...          ...   \n265              None             None             NaN         None   \n266              None             None             NaN         None   \n267              None             None             NaN         None   \n268              None             None             NaN         None   \n269              None             None             NaN         None   \n\n    generation_expression is_updatable COLUMN_COMMENT  \n0                    None          NaN           None  \n1                    None          NaN           None  \n2                    None          NaN           None  \n3                    None          NaN           None  \n4                    None          NaN           None  \n..                    ...          ...            ...  \n265                  None          NaN           None  \n266                  None          NaN           None  \n267                  None          NaN           None  \n268                  None          NaN           None  \n269                  None          NaN           None  \n\n[270 rows x 45 columns]",
      "text/html": "<div>\n<style scoped>\n    .dataframe tbody tr th:only-of-type {\n        vertical-align: middle;\n    }\n\n    .dataframe tbody tr th {\n        vertical-align: top;\n    }\n\n    .dataframe thead th {\n        text-align: right;\n    }\n</style>\n<table border=\"1\" class=\"dataframe\">\n  <thead>\n    <tr style=\"text-align: right;\">\n      <th></th>\n      <th>table_catalog</th>\n      <th>table_schema</th>\n      <th>table_name</th>\n      <th>column_name</th>\n      <th>ordinal_position</th>\n      <th>column_default</th>\n      <th>is_nullable</th>\n      <th>data_type</th>\n      <th>character_maximum_length</th>\n      <th>character_octet_length</th>\n      <th>...</th>\n      <th>identity_generation</th>\n      <th>identity_start</th>\n      <th>identity_increment</th>\n      <th>identity_maximum</th>\n      <th>identity_minimum</th>\n      <th>identity_cycle</th>\n      <th>is_generated</th>\n      <th>generation_expression</th>\n      <th>is_updatable</th>\n      <th>COLUMN_COMMENT</th>\n    </tr>\n  </thead>\n  <tbody>\n    <tr>\n      <th>0</th>\n      <td>test</td>\n      <td>singapore</td>\n      <td>car_location</td>\n      <td>driver_number</td>\n      <td>1</td>\n      <td>None</td>\n      <td>YES</td>\n      <td>INTEGER</td>\n      <td>NaN</td>\n      <td>NaN</td>\n      <td>...</td>\n      <td>None</td>\n      <td>None</td>\n      <td>None</td>\n      <td>None</td>\n      <td>None</td>\n      <td>NaN</td>\n      <td>None</td>\n      <td>None</td>\n      <td>NaN</td>\n      <td>None</td>\n    </tr>\n    <tr>\n      <th>1</th>\n      <td>test</td>\n      <td>singapore</td>\n      <td>car_location</td>\n      <td>event_ts</td>\n      <td>2</td>\n      <td>None</td>\n      <td>YES</td>\n      <td>TIMESTAMP</td>\n      <td>NaN</td>\n      <td>NaN</td>\n      <td>...</td>\n      <td>None</td>\n      <td>None</td>\n      <td>None</td>\n      <td>None</td>\n      <td>None</td>\n      <td>NaN</td>\n      <td>None</td>\n      <td>None</td>\n      <td>NaN</td>\n      <td>None</td>\n    </tr>\n    <tr>\n      <th>2</th>\n      <td>test</td>\n      <td>singapore</td>\n      <td>car_location</td>\n      <td>status</td>\n      <td>3</td>\n      <td>None</td>\n      <td>YES</td>\n      <td>VARCHAR</td>\n      <td>NaN</td>\n      <td>NaN</td>\n      <td>...</td>\n      <td>None</td>\n      <td>None</td>\n      <td>None</td>\n      <td>None</td>\n      <td>None</td>\n      <td>NaN</td>\n      <td>None</td>\n      <td>None</td>\n      <td>NaN</td>\n      <td>None</td>\n    </tr>\n    <tr>\n      <th>3</th>\n      <td>test</td>\n      <td>singapore</td>\n      <td>car_location</td>\n      <td>x</td>\n      <td>4</td>\n      <td>None</td>\n      <td>YES</td>\n      <td>FLOAT</td>\n      <td>NaN</td>\n      <td>NaN</td>\n      <td>...</td>\n      <td>None</td>\n      <td>None</td>\n      <td>None</td>\n      <td>None</td>\n      <td>None</td>\n      <td>NaN</td>\n      <td>None</td>\n      <td>None</td>\n      <td>NaN</td>\n      <td>None</td>\n    </tr>\n    <tr>\n      <th>4</th>\n      <td>test</td>\n      <td>singapore</td>\n      <td>car_location</td>\n      <td>y</td>\n      <td>5</td>\n      <td>None</td>\n      <td>YES</td>\n      <td>FLOAT</td>\n      <td>NaN</td>\n      <td>NaN</td>\n      <td>...</td>\n      <td>None</td>\n      <td>None</td>\n      <td>None</td>\n      <td>None</td>\n      <td>None</td>\n      <td>NaN</td>\n      <td>None</td>\n      <td>None</td>\n      <td>NaN</td>\n      <td>None</td>\n    </tr>\n    <tr>\n      <th>...</th>\n      <td>...</td>\n      <td>...</td>\n      <td>...</td>\n      <td>...</td>\n      <td>...</td>\n      <td>...</td>\n      <td>...</td>\n      <td>...</td>\n      <td>...</td>\n      <td>...</td>\n      <td>...</td>\n      <td>...</td>\n      <td>...</td>\n      <td>...</td>\n      <td>...</td>\n      <td>...</td>\n      <td>...</td>\n      <td>...</td>\n      <td>...</td>\n      <td>...</td>\n      <td>...</td>\n    </tr>\n    <tr>\n      <th>265</th>\n      <td>test</td>\n      <td>staging</td>\n      <td>weather</td>\n      <td>pressure</td>\n      <td>4</td>\n      <td>None</td>\n      <td>YES</td>\n      <td>DECIMAL(15,0)</td>\n      <td>NaN</td>\n      <td>NaN</td>\n      <td>...</td>\n      <td>None</td>\n      <td>None</td>\n      <td>None</td>\n      <td>None</td>\n      <td>None</td>\n      <td>NaN</td>\n      <td>None</td>\n      <td>None</td>\n      <td>NaN</td>\n      <td>None</td>\n    </tr>\n    <tr>\n      <th>266</th>\n      <td>test</td>\n      <td>staging</td>\n      <td>weather</td>\n      <td>rainfall</td>\n      <td>5</td>\n      <td>None</td>\n      <td>YES</td>\n      <td>DECIMAL(15,0)</td>\n      <td>NaN</td>\n      <td>NaN</td>\n      <td>...</td>\n      <td>None</td>\n      <td>None</td>\n      <td>None</td>\n      <td>None</td>\n      <td>None</td>\n      <td>NaN</td>\n      <td>None</td>\n      <td>None</td>\n      <td>NaN</td>\n      <td>None</td>\n    </tr>\n    <tr>\n      <th>267</th>\n      <td>test</td>\n      <td>staging</td>\n      <td>weather</td>\n      <td>track_temp</td>\n      <td>6</td>\n      <td>None</td>\n      <td>YES</td>\n      <td>DECIMAL(15,1)</td>\n      <td>NaN</td>\n      <td>NaN</td>\n      <td>...</td>\n      <td>None</td>\n      <td>None</td>\n      <td>None</td>\n      <td>None</td>\n      <td>None</td>\n      <td>NaN</td>\n      <td>None</td>\n      <td>None</td>\n      <td>NaN</td>\n      <td>None</td>\n    </tr>\n    <tr>\n      <th>268</th>\n      <td>test</td>\n      <td>staging</td>\n      <td>weather</td>\n      <td>wind_direction</td>\n      <td>7</td>\n      <td>None</td>\n      <td>YES</td>\n      <td>DECIMAL(15,0)</td>\n      <td>NaN</td>\n      <td>NaN</td>\n      <td>...</td>\n      <td>None</td>\n      <td>None</td>\n      <td>None</td>\n      <td>None</td>\n      <td>None</td>\n      <td>NaN</td>\n      <td>None</td>\n      <td>None</td>\n      <td>NaN</td>\n      <td>None</td>\n    </tr>\n    <tr>\n      <th>269</th>\n      <td>test</td>\n      <td>staging</td>\n      <td>weather</td>\n      <td>wind_speed</td>\n      <td>8</td>\n      <td>None</td>\n      <td>YES</td>\n      <td>FLOAT</td>\n      <td>NaN</td>\n      <td>NaN</td>\n      <td>...</td>\n      <td>None</td>\n      <td>None</td>\n      <td>None</td>\n      <td>None</td>\n      <td>None</td>\n      <td>NaN</td>\n      <td>None</td>\n      <td>None</td>\n      <td>NaN</td>\n      <td>None</td>\n    </tr>\n  </tbody>\n</table>\n<p>270 rows × 45 columns</p>\n</div>"
     },
     "metadata": {},
     "output_type": "display_data"
    }
   ],
   "source": [
    "# Check that tables exist in the table catalogue\n",
    "\n",
    "print(\"TABLES:\")\n",
    "display(conn.tables())\n",
    "\n",
    "print(\"\\n\")\n",
    "print(\"COLUMNS:\")\n",
    "display(conn.columns())"
   ],
   "metadata": {
    "collapsed": false,
    "ExecuteTime": {
     "end_time": "2025-10-15T06:43:59.169915543Z",
     "start_time": "2025-10-15T06:43:59.050918571Z"
    }
   },
   "id": "5ed18d8716412252"
  },
  {
   "cell_type": "code",
   "execution_count": 7,
   "outputs": [
    {
     "data": {
      "text/plain": "    session_key  driver_number broadcast_name abbreviation        driver_id  \\\n0          9165             31         E OCON          OCO             ocon   \n1          9165             14       F ALONSO          ALO           alonso   \n2          9165              1   M VERSTAPPEN          VER   max_verstappen   \n3          9165              2     L SARGEANT          SAR         sargeant   \n4          9165             22      Y TSUNODA          TSU          tsunoda   \n5          9165             16      C LECLERC          LEC          leclerc   \n6          9165              4       L NORRIS          NOR           norris   \n7          9165             24         G ZHOU          ZHO             zhou   \n8          9165             55        C SAINZ          SAI            sainz   \n9          9165             44     L HAMILTON          HAM         hamilton   \n10         9165             77       V BOTTAS          BOT           bottas   \n11         9165             63      G RUSSELL          RUS          russell   \n12         9165             20    K MAGNUSSEN          MAG  kevin_magnussen   \n13         9165             10        P GASLY          GAS            gasly   \n14         9165             81      O PIASTRI          PIA          piastri   \n15         9165             18       L STROLL          STR           stroll   \n16         9165             23        A ALBON          ALB            albon   \n17         9165             11        S PEREZ          PER            perez   \n18         9165             27   N HULKENBERG          HUL       hulkenberg   \n19         9165             40       L LAWSON          LAW           lawson   \n\n          team_name team_colour       team_id first_name   last_name  ...  \\\n0            Alpine      2293D1        alpine    Esteban        Ocon  ...   \n1      Aston Martin      358C75  aston_martin   Fernando      Alonso  ...   \n2   Red Bull Racing      3671C6      red_bull        Max  Verstappen  ...   \n3          Williams      37BEDD      williams      Logan    Sargeant  ...   \n4        AlphaTauri      5E8FAA    alphatauri       Yuki     Tsunoda  ...   \n5           Ferrari      F91536       ferrari    Charles     Leclerc  ...   \n6           McLaren      F58020       mclaren      Lando      Norris  ...   \n7        Alfa Romeo      C92D4B          alfa     Guanyu        Zhou  ...   \n8           Ferrari      F91536       ferrari     Carlos       Sainz  ...   \n9          Mercedes      6CD3BF      mercedes      Lewis    Hamilton  ...   \n10       Alfa Romeo      C92D4B          alfa   Valtteri      Bottas  ...   \n11         Mercedes      6CD3BF      mercedes     George     Russell  ...   \n12     Haas F1 Team      B6BABD          haas      Kevin   Magnussen  ...   \n13           Alpine      2293D1        alpine     Pierre       Gasly  ...   \n14          McLaren      F58020       mclaren      Oscar     Piastri  ...   \n15     Aston Martin         nan  aston_martin      Lance      Stroll  ...   \n16         Williams      37BEDD      williams  Alexander       Albon  ...   \n17  Red Bull Racing      3671C6      red_bull     Sergio       Perez  ...   \n18     Haas F1 Team      B6BABD          haas       Nico  Hulkenberg  ...   \n19       AlphaTauri      5E8FAA    alphatauri       Liam      Lawson  ...   \n\n   position classified_position grid_position  qualifying_1  qualifying_2  \\\n0      18.0                 NaN           8.0           NaT           NaT   \n1      15.0                15.0           7.0           NaT           NaT   \n2       5.0                 5.0          11.0           NaT           NaT   \n3      14.0                14.0          18.0           NaT           NaT   \n4      19.0                 NaN          15.0           NaT           NaT   \n5       4.0                 4.0           3.0           NaT           NaT   \n6       2.0                 2.0           4.0           NaT           NaT   \n7      12.0                12.0          19.0           NaT           NaT   \n8       1.0                 1.0           1.0           NaT           NaT   \n9       3.0                 3.0           5.0           NaT           NaT   \n10     17.0                 NaN          16.0           NaT           NaT   \n11     16.0                16.0           2.0           NaT           NaT   \n12     10.0                10.0           6.0           NaT           NaT   \n13      6.0                 6.0          12.0           NaT           NaT   \n14      7.0                 7.0          17.0           NaT           NaT   \n15      NaN                 NaN           NaN           NaT           NaT   \n16     11.0                11.0          14.0           NaT           NaT   \n17      8.0                 8.0          13.0           NaT           NaT   \n18     13.0                13.0           9.0           NaT           NaT   \n19      9.0                 9.0          10.0           NaT           NaT   \n\n    qualifying_3        classified_time session_status points laps_completed  \n0            NaT                    NaT        Retired      0             42  \n1            NaT 0 days 00:01:27.603000       Finished      0             62  \n2            NaT 0 days 00:00:21.441000       Finished     10             62  \n3            NaT 0 days 00:01:26.889000       Finished      0             62  \n4            NaT                    NaT        Retired      0              0  \n5            NaT 0 days 00:00:21.177000       Finished     12             62  \n6            NaT 0 days 00:00:00.812000       Finished     18             62  \n7            NaT 0 days 00:01:23.649000       Finished      0             62  \n8            NaT 0 days 01:46:37.418000       Finished     25             62  \n9            NaT 0 days 00:00:01.269000       Finished     16             62  \n10           NaT                    NaT        Retired      0             51  \n11           NaT                    NaT       Finished      0             61  \n12           NaT 0 days 00:01:12.116000       Finished      1             62  \n13           NaT 0 days 00:00:38.441000       Finished      8             62  \n14           NaT 0 days 00:00:41.479000       Finished      6             62  \n15           NaT                    NaT       Withdrew      0              0  \n16           NaT 0 days 00:01:13.417000       Finished      0             62  \n17           NaT 0 days 00:00:59.534000       Finished      4             62  \n18           NaT 0 days 00:01:26.201000       Finished      0             62  \n19           NaT 0 days 00:01:05.918000       Finished      2             62  \n\n[20 rows x 23 columns]",
      "text/html": "<div>\n<style scoped>\n    .dataframe tbody tr th:only-of-type {\n        vertical-align: middle;\n    }\n\n    .dataframe tbody tr th {\n        vertical-align: top;\n    }\n\n    .dataframe thead th {\n        text-align: right;\n    }\n</style>\n<table border=\"1\" class=\"dataframe\">\n  <thead>\n    <tr style=\"text-align: right;\">\n      <th></th>\n      <th>session_key</th>\n      <th>driver_number</th>\n      <th>broadcast_name</th>\n      <th>abbreviation</th>\n      <th>driver_id</th>\n      <th>team_name</th>\n      <th>team_colour</th>\n      <th>team_id</th>\n      <th>first_name</th>\n      <th>last_name</th>\n      <th>...</th>\n      <th>position</th>\n      <th>classified_position</th>\n      <th>grid_position</th>\n      <th>qualifying_1</th>\n      <th>qualifying_2</th>\n      <th>qualifying_3</th>\n      <th>classified_time</th>\n      <th>session_status</th>\n      <th>points</th>\n      <th>laps_completed</th>\n    </tr>\n  </thead>\n  <tbody>\n    <tr>\n      <th>0</th>\n      <td>9165</td>\n      <td>31</td>\n      <td>E OCON</td>\n      <td>OCO</td>\n      <td>ocon</td>\n      <td>Alpine</td>\n      <td>2293D1</td>\n      <td>alpine</td>\n      <td>Esteban</td>\n      <td>Ocon</td>\n      <td>...</td>\n      <td>18.0</td>\n      <td>NaN</td>\n      <td>8.0</td>\n      <td>NaT</td>\n      <td>NaT</td>\n      <td>NaT</td>\n      <td>NaT</td>\n      <td>Retired</td>\n      <td>0</td>\n      <td>42</td>\n    </tr>\n    <tr>\n      <th>1</th>\n      <td>9165</td>\n      <td>14</td>\n      <td>F ALONSO</td>\n      <td>ALO</td>\n      <td>alonso</td>\n      <td>Aston Martin</td>\n      <td>358C75</td>\n      <td>aston_martin</td>\n      <td>Fernando</td>\n      <td>Alonso</td>\n      <td>...</td>\n      <td>15.0</td>\n      <td>15.0</td>\n      <td>7.0</td>\n      <td>NaT</td>\n      <td>NaT</td>\n      <td>NaT</td>\n      <td>0 days 00:01:27.603000</td>\n      <td>Finished</td>\n      <td>0</td>\n      <td>62</td>\n    </tr>\n    <tr>\n      <th>2</th>\n      <td>9165</td>\n      <td>1</td>\n      <td>M VERSTAPPEN</td>\n      <td>VER</td>\n      <td>max_verstappen</td>\n      <td>Red Bull Racing</td>\n      <td>3671C6</td>\n      <td>red_bull</td>\n      <td>Max</td>\n      <td>Verstappen</td>\n      <td>...</td>\n      <td>5.0</td>\n      <td>5.0</td>\n      <td>11.0</td>\n      <td>NaT</td>\n      <td>NaT</td>\n      <td>NaT</td>\n      <td>0 days 00:00:21.441000</td>\n      <td>Finished</td>\n      <td>10</td>\n      <td>62</td>\n    </tr>\n    <tr>\n      <th>3</th>\n      <td>9165</td>\n      <td>2</td>\n      <td>L SARGEANT</td>\n      <td>SAR</td>\n      <td>sargeant</td>\n      <td>Williams</td>\n      <td>37BEDD</td>\n      <td>williams</td>\n      <td>Logan</td>\n      <td>Sargeant</td>\n      <td>...</td>\n      <td>14.0</td>\n      <td>14.0</td>\n      <td>18.0</td>\n      <td>NaT</td>\n      <td>NaT</td>\n      <td>NaT</td>\n      <td>0 days 00:01:26.889000</td>\n      <td>Finished</td>\n      <td>0</td>\n      <td>62</td>\n    </tr>\n    <tr>\n      <th>4</th>\n      <td>9165</td>\n      <td>22</td>\n      <td>Y TSUNODA</td>\n      <td>TSU</td>\n      <td>tsunoda</td>\n      <td>AlphaTauri</td>\n      <td>5E8FAA</td>\n      <td>alphatauri</td>\n      <td>Yuki</td>\n      <td>Tsunoda</td>\n      <td>...</td>\n      <td>19.0</td>\n      <td>NaN</td>\n      <td>15.0</td>\n      <td>NaT</td>\n      <td>NaT</td>\n      <td>NaT</td>\n      <td>NaT</td>\n      <td>Retired</td>\n      <td>0</td>\n      <td>0</td>\n    </tr>\n    <tr>\n      <th>5</th>\n      <td>9165</td>\n      <td>16</td>\n      <td>C LECLERC</td>\n      <td>LEC</td>\n      <td>leclerc</td>\n      <td>Ferrari</td>\n      <td>F91536</td>\n      <td>ferrari</td>\n      <td>Charles</td>\n      <td>Leclerc</td>\n      <td>...</td>\n      <td>4.0</td>\n      <td>4.0</td>\n      <td>3.0</td>\n      <td>NaT</td>\n      <td>NaT</td>\n      <td>NaT</td>\n      <td>0 days 00:00:21.177000</td>\n      <td>Finished</td>\n      <td>12</td>\n      <td>62</td>\n    </tr>\n    <tr>\n      <th>6</th>\n      <td>9165</td>\n      <td>4</td>\n      <td>L NORRIS</td>\n      <td>NOR</td>\n      <td>norris</td>\n      <td>McLaren</td>\n      <td>F58020</td>\n      <td>mclaren</td>\n      <td>Lando</td>\n      <td>Norris</td>\n      <td>...</td>\n      <td>2.0</td>\n      <td>2.0</td>\n      <td>4.0</td>\n      <td>NaT</td>\n      <td>NaT</td>\n      <td>NaT</td>\n      <td>0 days 00:00:00.812000</td>\n      <td>Finished</td>\n      <td>18</td>\n      <td>62</td>\n    </tr>\n    <tr>\n      <th>7</th>\n      <td>9165</td>\n      <td>24</td>\n      <td>G ZHOU</td>\n      <td>ZHO</td>\n      <td>zhou</td>\n      <td>Alfa Romeo</td>\n      <td>C92D4B</td>\n      <td>alfa</td>\n      <td>Guanyu</td>\n      <td>Zhou</td>\n      <td>...</td>\n      <td>12.0</td>\n      <td>12.0</td>\n      <td>19.0</td>\n      <td>NaT</td>\n      <td>NaT</td>\n      <td>NaT</td>\n      <td>0 days 00:01:23.649000</td>\n      <td>Finished</td>\n      <td>0</td>\n      <td>62</td>\n    </tr>\n    <tr>\n      <th>8</th>\n      <td>9165</td>\n      <td>55</td>\n      <td>C SAINZ</td>\n      <td>SAI</td>\n      <td>sainz</td>\n      <td>Ferrari</td>\n      <td>F91536</td>\n      <td>ferrari</td>\n      <td>Carlos</td>\n      <td>Sainz</td>\n      <td>...</td>\n      <td>1.0</td>\n      <td>1.0</td>\n      <td>1.0</td>\n      <td>NaT</td>\n      <td>NaT</td>\n      <td>NaT</td>\n      <td>0 days 01:46:37.418000</td>\n      <td>Finished</td>\n      <td>25</td>\n      <td>62</td>\n    </tr>\n    <tr>\n      <th>9</th>\n      <td>9165</td>\n      <td>44</td>\n      <td>L HAMILTON</td>\n      <td>HAM</td>\n      <td>hamilton</td>\n      <td>Mercedes</td>\n      <td>6CD3BF</td>\n      <td>mercedes</td>\n      <td>Lewis</td>\n      <td>Hamilton</td>\n      <td>...</td>\n      <td>3.0</td>\n      <td>3.0</td>\n      <td>5.0</td>\n      <td>NaT</td>\n      <td>NaT</td>\n      <td>NaT</td>\n      <td>0 days 00:00:01.269000</td>\n      <td>Finished</td>\n      <td>16</td>\n      <td>62</td>\n    </tr>\n    <tr>\n      <th>10</th>\n      <td>9165</td>\n      <td>77</td>\n      <td>V BOTTAS</td>\n      <td>BOT</td>\n      <td>bottas</td>\n      <td>Alfa Romeo</td>\n      <td>C92D4B</td>\n      <td>alfa</td>\n      <td>Valtteri</td>\n      <td>Bottas</td>\n      <td>...</td>\n      <td>17.0</td>\n      <td>NaN</td>\n      <td>16.0</td>\n      <td>NaT</td>\n      <td>NaT</td>\n      <td>NaT</td>\n      <td>NaT</td>\n      <td>Retired</td>\n      <td>0</td>\n      <td>51</td>\n    </tr>\n    <tr>\n      <th>11</th>\n      <td>9165</td>\n      <td>63</td>\n      <td>G RUSSELL</td>\n      <td>RUS</td>\n      <td>russell</td>\n      <td>Mercedes</td>\n      <td>6CD3BF</td>\n      <td>mercedes</td>\n      <td>George</td>\n      <td>Russell</td>\n      <td>...</td>\n      <td>16.0</td>\n      <td>16.0</td>\n      <td>2.0</td>\n      <td>NaT</td>\n      <td>NaT</td>\n      <td>NaT</td>\n      <td>NaT</td>\n      <td>Finished</td>\n      <td>0</td>\n      <td>61</td>\n    </tr>\n    <tr>\n      <th>12</th>\n      <td>9165</td>\n      <td>20</td>\n      <td>K MAGNUSSEN</td>\n      <td>MAG</td>\n      <td>kevin_magnussen</td>\n      <td>Haas F1 Team</td>\n      <td>B6BABD</td>\n      <td>haas</td>\n      <td>Kevin</td>\n      <td>Magnussen</td>\n      <td>...</td>\n      <td>10.0</td>\n      <td>10.0</td>\n      <td>6.0</td>\n      <td>NaT</td>\n      <td>NaT</td>\n      <td>NaT</td>\n      <td>0 days 00:01:12.116000</td>\n      <td>Finished</td>\n      <td>1</td>\n      <td>62</td>\n    </tr>\n    <tr>\n      <th>13</th>\n      <td>9165</td>\n      <td>10</td>\n      <td>P GASLY</td>\n      <td>GAS</td>\n      <td>gasly</td>\n      <td>Alpine</td>\n      <td>2293D1</td>\n      <td>alpine</td>\n      <td>Pierre</td>\n      <td>Gasly</td>\n      <td>...</td>\n      <td>6.0</td>\n      <td>6.0</td>\n      <td>12.0</td>\n      <td>NaT</td>\n      <td>NaT</td>\n      <td>NaT</td>\n      <td>0 days 00:00:38.441000</td>\n      <td>Finished</td>\n      <td>8</td>\n      <td>62</td>\n    </tr>\n    <tr>\n      <th>14</th>\n      <td>9165</td>\n      <td>81</td>\n      <td>O PIASTRI</td>\n      <td>PIA</td>\n      <td>piastri</td>\n      <td>McLaren</td>\n      <td>F58020</td>\n      <td>mclaren</td>\n      <td>Oscar</td>\n      <td>Piastri</td>\n      <td>...</td>\n      <td>7.0</td>\n      <td>7.0</td>\n      <td>17.0</td>\n      <td>NaT</td>\n      <td>NaT</td>\n      <td>NaT</td>\n      <td>0 days 00:00:41.479000</td>\n      <td>Finished</td>\n      <td>6</td>\n      <td>62</td>\n    </tr>\n    <tr>\n      <th>15</th>\n      <td>9165</td>\n      <td>18</td>\n      <td>L STROLL</td>\n      <td>STR</td>\n      <td>stroll</td>\n      <td>Aston Martin</td>\n      <td>nan</td>\n      <td>aston_martin</td>\n      <td>Lance</td>\n      <td>Stroll</td>\n      <td>...</td>\n      <td>NaN</td>\n      <td>NaN</td>\n      <td>NaN</td>\n      <td>NaT</td>\n      <td>NaT</td>\n      <td>NaT</td>\n      <td>NaT</td>\n      <td>Withdrew</td>\n      <td>0</td>\n      <td>0</td>\n    </tr>\n    <tr>\n      <th>16</th>\n      <td>9165</td>\n      <td>23</td>\n      <td>A ALBON</td>\n      <td>ALB</td>\n      <td>albon</td>\n      <td>Williams</td>\n      <td>37BEDD</td>\n      <td>williams</td>\n      <td>Alexander</td>\n      <td>Albon</td>\n      <td>...</td>\n      <td>11.0</td>\n      <td>11.0</td>\n      <td>14.0</td>\n      <td>NaT</td>\n      <td>NaT</td>\n      <td>NaT</td>\n      <td>0 days 00:01:13.417000</td>\n      <td>Finished</td>\n      <td>0</td>\n      <td>62</td>\n    </tr>\n    <tr>\n      <th>17</th>\n      <td>9165</td>\n      <td>11</td>\n      <td>S PEREZ</td>\n      <td>PER</td>\n      <td>perez</td>\n      <td>Red Bull Racing</td>\n      <td>3671C6</td>\n      <td>red_bull</td>\n      <td>Sergio</td>\n      <td>Perez</td>\n      <td>...</td>\n      <td>8.0</td>\n      <td>8.0</td>\n      <td>13.0</td>\n      <td>NaT</td>\n      <td>NaT</td>\n      <td>NaT</td>\n      <td>0 days 00:00:59.534000</td>\n      <td>Finished</td>\n      <td>4</td>\n      <td>62</td>\n    </tr>\n    <tr>\n      <th>18</th>\n      <td>9165</td>\n      <td>27</td>\n      <td>N HULKENBERG</td>\n      <td>HUL</td>\n      <td>hulkenberg</td>\n      <td>Haas F1 Team</td>\n      <td>B6BABD</td>\n      <td>haas</td>\n      <td>Nico</td>\n      <td>Hulkenberg</td>\n      <td>...</td>\n      <td>13.0</td>\n      <td>13.0</td>\n      <td>9.0</td>\n      <td>NaT</td>\n      <td>NaT</td>\n      <td>NaT</td>\n      <td>0 days 00:01:26.201000</td>\n      <td>Finished</td>\n      <td>0</td>\n      <td>62</td>\n    </tr>\n    <tr>\n      <th>19</th>\n      <td>9165</td>\n      <td>40</td>\n      <td>L LAWSON</td>\n      <td>LAW</td>\n      <td>lawson</td>\n      <td>AlphaTauri</td>\n      <td>5E8FAA</td>\n      <td>alphatauri</td>\n      <td>Liam</td>\n      <td>Lawson</td>\n      <td>...</td>\n      <td>9.0</td>\n      <td>9.0</td>\n      <td>10.0</td>\n      <td>NaT</td>\n      <td>NaT</td>\n      <td>NaT</td>\n      <td>0 days 00:01:05.918000</td>\n      <td>Finished</td>\n      <td>2</td>\n      <td>62</td>\n    </tr>\n  </tbody>\n</table>\n<p>20 rows × 23 columns</p>\n</div>"
     },
     "execution_count": 7,
     "metadata": {},
     "output_type": "execute_result"
    }
   ],
   "source": [
    "# Now that the tables are built, we can query them with the connection\n",
    "conn.execute(staging.tables.results.sql).df()"
   ],
   "metadata": {
    "collapsed": false,
    "ExecuteTime": {
     "end_time": "2025-10-15T06:43:59.222180768Z",
     "start_time": "2025-10-15T06:43:59.124918192Z"
    }
   },
   "id": "f64ece69e6f9a84"
  },
  {
   "cell_type": "code",
   "execution_count": 8,
   "outputs": [],
   "source": [
    "# Ensure that the connection is closed when finished\n",
    "conn.close()"
   ],
   "metadata": {
    "collapsed": false,
    "ExecuteTime": {
     "end_time": "2025-10-15T06:43:59.300111610Z",
     "start_time": "2025-10-15T06:43:59.151066364Z"
    }
   },
   "id": "7b8a3caf24e431c2"
  },
  {
   "cell_type": "code",
   "execution_count": 8,
   "outputs": [],
   "source": [],
   "metadata": {
    "collapsed": false,
    "ExecuteTime": {
     "end_time": "2025-10-15T06:43:59.366563227Z",
     "start_time": "2025-10-15T06:43:59.222304088Z"
    }
   },
   "id": "b213b7ab13db0ef8"
  }
 ],
 "metadata": {
  "kernelspec": {
   "display_name": "Python 3",
   "language": "python",
   "name": "python3"
  },
  "language_info": {
   "codemirror_mode": {
    "name": "ipython",
    "version": 2
   },
   "file_extension": ".py",
   "mimetype": "text/x-python",
   "name": "python",
   "nbconvert_exporter": "python",
   "pygments_lexer": "ipython2",
   "version": "2.7.6"
  }
 },
 "nbformat": 4,
 "nbformat_minor": 5
}
