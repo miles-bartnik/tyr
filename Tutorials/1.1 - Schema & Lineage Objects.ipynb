{
 "cells": [
  {
   "cell_type": "markdown",
   "id": "8cb589317a0c2129",
   "metadata": {
    "collapsed": false
   },
   "source": [
    "<h1>Chapter 1: Schema & Lineage Objects</h1>\n",
    "\n",
    "<p>\n",
    "Source and staging are pre-defined schemas that represent the first two stages of the data ingestion pipeline.\n",
    "They are defined as follows: \n",
    "</p>\n",
    "\n",
    "<span>Source - Raw, unprocessed source data pulled from source files</span>\n",
    "<ul> <code>SELECT * FROM {source_file}</code> </ul>\n",
    "\n",
    "<span>Staging - Processed data from source with column metadata information applied</span>\n",
    "<ul><code>SELECT TRY_CAST({column} AS {column_metadata.data_type}) AS {column} FROM source.{table}</code></ul>"
   ]
  },
  {
   "cell_type": "code",
   "execution_count": 1,
   "id": "7397e92e23e7abe8",
   "metadata": {
    "collapsed": false,
    "ExecuteTime": {
     "end_time": "2025-10-19T12:09:50.702934949Z",
     "start_time": "2025-10-19T12:09:50.303953079Z"
    }
   },
   "outputs": [],
   "source": [
    "import tyr\n",
    "\n",
    "# Required to get relative path of test datasets\n",
    "import os\n",
    "\n",
    "# Required to illustrate how metadata is used\n",
    "import pandas as pd\n",
    "\n",
    "from pprint import pprint"
   ]
  },
  {
   "cell_type": "markdown",
   "id": "5bef709a-bc02-4718-b49f-e05bc136ea7b",
   "metadata": {},
   "source": [
    "# About The Data\n",
    "\n",
    "The data used in this tutorial is from the 2023 Formula 1 Singapore Grand Prix, courtesy of FastF1 and the OpenF1 api.\n",
    "This data is useful as it provides multiple tables connected by common ids, and numeric data with which we can calculate\n",
    "various metrics (averages, std_dev, etc.).\n",
    "\n",
    "Thank you to both of these projects for providing such a fantastic data source. If you want to check them out, they\n",
    "can be found at the following addresses:\n",
    "\n",
    "- https://github.com/theOehrly/Fast-F1\n",
    "- https://openf1.org/"
   ]
  },
  {
   "cell_type": "code",
   "execution_count": 2,
   "id": "8acc8e1e48c74d8b",
   "metadata": {
    "collapsed": false,
    "ExecuteTime": {
     "end_time": "2025-10-19T12:09:50.756261283Z",
     "start_time": "2025-10-19T12:09:50.743318938Z"
    }
   },
   "outputs": [
    {
     "data": {
      "text/plain": "     schema         dataset  \\\n0   staging    car_location   \n1   staging   car_telemetry   \n2   staging        circuits   \n3   staging        meetings   \n4   staging    race_control   \n5   staging  session_status   \n6   staging    track_status   \n7   staging        sessions   \n8   staging         weather   \n9   staging         results   \n10  staging    track_status   \n11  staging      team_radio   \n12  staging       pit_stops   \n13  staging        position   \n14  staging       intervals   \n\n                                           file_regex    delim  distinct  \n0   /home/miles/tyr/tests/datasets/car_location_se...        t      True  \n1   /home/miles/tyr/tests/datasets/car_telemetry_s...        t      True  \n2   /home/miles/tyr/tests/datasets/f1_circuits.geo...  geojson      True  \n3         /home/miles/tyr/tests/datasets/meetings.tsv        t      True  \n4   /home/miles/tyr/tests/datasets/race_control_se...        t      True  \n5   /home/miles/tyr/tests/datasets/session_status_...        t      True  \n6   /home/miles/tyr/tests/datasets/track_status_se...        t      True  \n7         /home/miles/tyr/tests/datasets/sessions.tsv        t      True  \n8   /home/miles/tyr/tests/datasets/weather_session...        t      True  \n9   /home/miles/tyr/tests/datasets/results_session...        t      True  \n10  /home/miles/tyr/tests/datasets/track_status_se...        t      True  \n11  /home/miles/tyr/tests/datasets/team_radio_sess...        t      True  \n12   /home/miles/tyr/tests/datasets/pit_session_*.tsv        t      True  \n13  /home/miles/tyr/tests/datasets/position_sessio...        t      True  \n14  /home/miles/tyr/tests/datasets/intervals_sessi...        t      True  ",
      "text/html": "<div>\n<style scoped>\n    .dataframe tbody tr th:only-of-type {\n        vertical-align: middle;\n    }\n\n    .dataframe tbody tr th {\n        vertical-align: top;\n    }\n\n    .dataframe thead th {\n        text-align: right;\n    }\n</style>\n<table border=\"1\" class=\"dataframe\">\n  <thead>\n    <tr style=\"text-align: right;\">\n      <th></th>\n      <th>schema</th>\n      <th>dataset</th>\n      <th>file_regex</th>\n      <th>delim</th>\n      <th>distinct</th>\n    </tr>\n  </thead>\n  <tbody>\n    <tr>\n      <th>0</th>\n      <td>staging</td>\n      <td>car_location</td>\n      <td>/home/miles/tyr/tests/datasets/car_location_se...</td>\n      <td>t</td>\n      <td>True</td>\n    </tr>\n    <tr>\n      <th>1</th>\n      <td>staging</td>\n      <td>car_telemetry</td>\n      <td>/home/miles/tyr/tests/datasets/car_telemetry_s...</td>\n      <td>t</td>\n      <td>True</td>\n    </tr>\n    <tr>\n      <th>2</th>\n      <td>staging</td>\n      <td>circuits</td>\n      <td>/home/miles/tyr/tests/datasets/f1_circuits.geo...</td>\n      <td>geojson</td>\n      <td>True</td>\n    </tr>\n    <tr>\n      <th>3</th>\n      <td>staging</td>\n      <td>meetings</td>\n      <td>/home/miles/tyr/tests/datasets/meetings.tsv</td>\n      <td>t</td>\n      <td>True</td>\n    </tr>\n    <tr>\n      <th>4</th>\n      <td>staging</td>\n      <td>race_control</td>\n      <td>/home/miles/tyr/tests/datasets/race_control_se...</td>\n      <td>t</td>\n      <td>True</td>\n    </tr>\n    <tr>\n      <th>5</th>\n      <td>staging</td>\n      <td>session_status</td>\n      <td>/home/miles/tyr/tests/datasets/session_status_...</td>\n      <td>t</td>\n      <td>True</td>\n    </tr>\n    <tr>\n      <th>6</th>\n      <td>staging</td>\n      <td>track_status</td>\n      <td>/home/miles/tyr/tests/datasets/track_status_se...</td>\n      <td>t</td>\n      <td>True</td>\n    </tr>\n    <tr>\n      <th>7</th>\n      <td>staging</td>\n      <td>sessions</td>\n      <td>/home/miles/tyr/tests/datasets/sessions.tsv</td>\n      <td>t</td>\n      <td>True</td>\n    </tr>\n    <tr>\n      <th>8</th>\n      <td>staging</td>\n      <td>weather</td>\n      <td>/home/miles/tyr/tests/datasets/weather_session...</td>\n      <td>t</td>\n      <td>True</td>\n    </tr>\n    <tr>\n      <th>9</th>\n      <td>staging</td>\n      <td>results</td>\n      <td>/home/miles/tyr/tests/datasets/results_session...</td>\n      <td>t</td>\n      <td>True</td>\n    </tr>\n    <tr>\n      <th>10</th>\n      <td>staging</td>\n      <td>track_status</td>\n      <td>/home/miles/tyr/tests/datasets/track_status_se...</td>\n      <td>t</td>\n      <td>True</td>\n    </tr>\n    <tr>\n      <th>11</th>\n      <td>staging</td>\n      <td>team_radio</td>\n      <td>/home/miles/tyr/tests/datasets/team_radio_sess...</td>\n      <td>t</td>\n      <td>True</td>\n    </tr>\n    <tr>\n      <th>12</th>\n      <td>staging</td>\n      <td>pit_stops</td>\n      <td>/home/miles/tyr/tests/datasets/pit_session_*.tsv</td>\n      <td>t</td>\n      <td>True</td>\n    </tr>\n    <tr>\n      <th>13</th>\n      <td>staging</td>\n      <td>position</td>\n      <td>/home/miles/tyr/tests/datasets/position_sessio...</td>\n      <td>t</td>\n      <td>True</td>\n    </tr>\n    <tr>\n      <th>14</th>\n      <td>staging</td>\n      <td>intervals</td>\n      <td>/home/miles/tyr/tests/datasets/intervals_sessi...</td>\n      <td>t</td>\n      <td>True</td>\n    </tr>\n  </tbody>\n</table>\n</div>"
     },
     "metadata": {},
     "output_type": "display_data"
    },
    {
     "data": {
      "text/plain": "{'car_location': <tyr.lineage.schema.source.FileMetadata at 0x7f327b692340>,\n 'car_telemetry': <tyr.lineage.schema.source.FileMetadata at 0x7f327beefcd0>,\n 'circuits': <tyr.lineage.schema.source.FileMetadata at 0x7f327b6924c0>,\n 'meetings': <tyr.lineage.schema.source.FileMetadata at 0x7f327b692430>,\n 'race_control': <tyr.lineage.schema.source.FileMetadata at 0x7f323b778c70>,\n 'session_status': <tyr.lineage.schema.source.FileMetadata at 0x7f323b778d00>,\n 'track_status': <tyr.lineage.schema.source.FileMetadata at 0x7f323b778dc0>,\n 'sessions': <tyr.lineage.schema.source.FileMetadata at 0x7f323b778a90>,\n 'weather': <tyr.lineage.schema.source.FileMetadata at 0x7f323b778af0>,\n 'results': <tyr.lineage.schema.source.FileMetadata at 0x7f323b778d30>,\n 'team_radio': <tyr.lineage.schema.source.FileMetadata at 0x7f323b778f70>,\n 'pit_stops': <tyr.lineage.schema.source.FileMetadata at 0x7f323b778ac0>,\n 'position': <tyr.lineage.schema.source.FileMetadata at 0x7f323b7331c0>,\n 'intervals': <tyr.lineage.schema.source.FileMetadata at 0x7f323b733070>}"
     },
     "execution_count": 2,
     "metadata": {},
     "output_type": "execute_result"
    }
   ],
   "source": [
    "# This is the full process to read in file metadata. There is a function to do this in source called read_file_metadata\n",
    "\n",
    "file_metadata = pd.read_csv(\n",
    "    os.path.abspath(\n",
    "        os.path.join(os.getcwd(), \"..\", \"tests/configurations/file_metadata.tsv\")\n",
    "    ),\n",
    "    sep=\"\\t\",\n",
    ")\n",
    "\n",
    "display(file_metadata)\n",
    "\n",
    "file_metadata = {\n",
    "    row.dataset: tyr.lineage.schema.source.FileMetadata(row)\n",
    "    for index, row in file_metadata.iterrows()\n",
    "}\n",
    "\n",
    "file_metadata"
   ]
  },
  {
   "cell_type": "code",
   "execution_count": 3,
   "id": "38a5da7700e18b66",
   "metadata": {
    "collapsed": false,
    "ExecuteTime": {
     "end_time": "2025-10-19T12:09:51.691302789Z",
     "start_time": "2025-10-19T12:09:50.744991509Z"
    }
   },
   "outputs": [
    {
     "data": {
      "text/plain": "      schema       dataset    column_name column_alias     var_type  \\\n0    staging  car_location           Date     event_ts    timestamp   \n1    staging  car_location         Status       status  categorical   \n2    staging  car_location              X            x      numeric   \n3    staging  car_location              Y            y      numeric   \n4    staging  car_location              Z            z      numeric   \n..       ...           ...            ...          ...          ...   \n104  staging     intervals           date     event_ts    timestamp   \n105  staging     intervals    session_key                       key   \n106  staging     intervals  driver_number                       key   \n107  staging     intervals  gap_to_leader                   numeric   \n108  staging     intervals       interval                   numeric   \n\n         data_type on_null  is_primary_key  is_event_time filter_values  \\\n0        TIMESTAMP    PASS            True           True            []   \n1          VARCHAR    PASS           False          False            []   \n2    DECIMAL(15,5)    PASS           False          False            []   \n3    DECIMAL(15,5)    PASS           False          False            []   \n4    DECIMAL(15,5)    PASS           False          False            []   \n..             ...     ...             ...            ...           ...   \n104      TIMESTAMP    PASS            True           True            []   \n105        INTEGER    PASS            True          False            []   \n106        INTEGER    PASS            True          False            []   \n107          FLOAT    PASS           False          False            []   \n108          FLOAT    PASS           False          False            []   \n\n    on_filter                 regex source_unit target_unit scale_factor  \\\n0        PASS  %Y-%m-%d %H:%M:%S.%g                                        \n1        PASS                                                              \n2        PASS                               m^1                            \n3        PASS                               m^1                            \n4        PASS                               m^1                            \n..        ...                   ...         ...         ...          ...   \n104      PASS                                                              \n105      PASS                                                              \n106      PASS                                                              \n107      PASS                               s^1                            \n108      PASS                               s^1                            \n\n    precision  ordinal_position  \n0                             0  \n1                             2  \n2         1dp                 3  \n3         1dp                 4  \n4         1dp                 5  \n..        ...               ...  \n104                           0  \n105                           1  \n106                           2  \n107                           3  \n108                           4  \n\n[109 rows x 17 columns]",
      "text/html": "<div>\n<style scoped>\n    .dataframe tbody tr th:only-of-type {\n        vertical-align: middle;\n    }\n\n    .dataframe tbody tr th {\n        vertical-align: top;\n    }\n\n    .dataframe thead th {\n        text-align: right;\n    }\n</style>\n<table border=\"1\" class=\"dataframe\">\n  <thead>\n    <tr style=\"text-align: right;\">\n      <th></th>\n      <th>schema</th>\n      <th>dataset</th>\n      <th>column_name</th>\n      <th>column_alias</th>\n      <th>var_type</th>\n      <th>data_type</th>\n      <th>on_null</th>\n      <th>is_primary_key</th>\n      <th>is_event_time</th>\n      <th>filter_values</th>\n      <th>on_filter</th>\n      <th>regex</th>\n      <th>source_unit</th>\n      <th>target_unit</th>\n      <th>scale_factor</th>\n      <th>precision</th>\n      <th>ordinal_position</th>\n    </tr>\n  </thead>\n  <tbody>\n    <tr>\n      <th>0</th>\n      <td>staging</td>\n      <td>car_location</td>\n      <td>Date</td>\n      <td>event_ts</td>\n      <td>timestamp</td>\n      <td>TIMESTAMP</td>\n      <td>PASS</td>\n      <td>True</td>\n      <td>True</td>\n      <td>[]</td>\n      <td>PASS</td>\n      <td>%Y-%m-%d %H:%M:%S.%g</td>\n      <td></td>\n      <td></td>\n      <td></td>\n      <td></td>\n      <td>0</td>\n    </tr>\n    <tr>\n      <th>1</th>\n      <td>staging</td>\n      <td>car_location</td>\n      <td>Status</td>\n      <td>status</td>\n      <td>categorical</td>\n      <td>VARCHAR</td>\n      <td>PASS</td>\n      <td>False</td>\n      <td>False</td>\n      <td>[]</td>\n      <td>PASS</td>\n      <td></td>\n      <td></td>\n      <td></td>\n      <td></td>\n      <td></td>\n      <td>2</td>\n    </tr>\n    <tr>\n      <th>2</th>\n      <td>staging</td>\n      <td>car_location</td>\n      <td>X</td>\n      <td>x</td>\n      <td>numeric</td>\n      <td>DECIMAL(15,5)</td>\n      <td>PASS</td>\n      <td>False</td>\n      <td>False</td>\n      <td>[]</td>\n      <td>PASS</td>\n      <td></td>\n      <td>m^1</td>\n      <td></td>\n      <td></td>\n      <td>1dp</td>\n      <td>3</td>\n    </tr>\n    <tr>\n      <th>3</th>\n      <td>staging</td>\n      <td>car_location</td>\n      <td>Y</td>\n      <td>y</td>\n      <td>numeric</td>\n      <td>DECIMAL(15,5)</td>\n      <td>PASS</td>\n      <td>False</td>\n      <td>False</td>\n      <td>[]</td>\n      <td>PASS</td>\n      <td></td>\n      <td>m^1</td>\n      <td></td>\n      <td></td>\n      <td>1dp</td>\n      <td>4</td>\n    </tr>\n    <tr>\n      <th>4</th>\n      <td>staging</td>\n      <td>car_location</td>\n      <td>Z</td>\n      <td>z</td>\n      <td>numeric</td>\n      <td>DECIMAL(15,5)</td>\n      <td>PASS</td>\n      <td>False</td>\n      <td>False</td>\n      <td>[]</td>\n      <td>PASS</td>\n      <td></td>\n      <td>m^1</td>\n      <td></td>\n      <td></td>\n      <td>1dp</td>\n      <td>5</td>\n    </tr>\n    <tr>\n      <th>...</th>\n      <td>...</td>\n      <td>...</td>\n      <td>...</td>\n      <td>...</td>\n      <td>...</td>\n      <td>...</td>\n      <td>...</td>\n      <td>...</td>\n      <td>...</td>\n      <td>...</td>\n      <td>...</td>\n      <td>...</td>\n      <td>...</td>\n      <td>...</td>\n      <td>...</td>\n      <td>...</td>\n      <td>...</td>\n    </tr>\n    <tr>\n      <th>104</th>\n      <td>staging</td>\n      <td>intervals</td>\n      <td>date</td>\n      <td>event_ts</td>\n      <td>timestamp</td>\n      <td>TIMESTAMP</td>\n      <td>PASS</td>\n      <td>True</td>\n      <td>True</td>\n      <td>[]</td>\n      <td>PASS</td>\n      <td></td>\n      <td></td>\n      <td></td>\n      <td></td>\n      <td></td>\n      <td>0</td>\n    </tr>\n    <tr>\n      <th>105</th>\n      <td>staging</td>\n      <td>intervals</td>\n      <td>session_key</td>\n      <td></td>\n      <td>key</td>\n      <td>INTEGER</td>\n      <td>PASS</td>\n      <td>True</td>\n      <td>False</td>\n      <td>[]</td>\n      <td>PASS</td>\n      <td></td>\n      <td></td>\n      <td></td>\n      <td></td>\n      <td></td>\n      <td>1</td>\n    </tr>\n    <tr>\n      <th>106</th>\n      <td>staging</td>\n      <td>intervals</td>\n      <td>driver_number</td>\n      <td></td>\n      <td>key</td>\n      <td>INTEGER</td>\n      <td>PASS</td>\n      <td>True</td>\n      <td>False</td>\n      <td>[]</td>\n      <td>PASS</td>\n      <td></td>\n      <td></td>\n      <td></td>\n      <td></td>\n      <td></td>\n      <td>2</td>\n    </tr>\n    <tr>\n      <th>107</th>\n      <td>staging</td>\n      <td>intervals</td>\n      <td>gap_to_leader</td>\n      <td></td>\n      <td>numeric</td>\n      <td>FLOAT</td>\n      <td>PASS</td>\n      <td>False</td>\n      <td>False</td>\n      <td>[]</td>\n      <td>PASS</td>\n      <td></td>\n      <td>s^1</td>\n      <td></td>\n      <td></td>\n      <td></td>\n      <td>3</td>\n    </tr>\n    <tr>\n      <th>108</th>\n      <td>staging</td>\n      <td>intervals</td>\n      <td>interval</td>\n      <td></td>\n      <td>numeric</td>\n      <td>FLOAT</td>\n      <td>PASS</td>\n      <td>False</td>\n      <td>False</td>\n      <td>[]</td>\n      <td>PASS</td>\n      <td></td>\n      <td>s^1</td>\n      <td></td>\n      <td></td>\n      <td></td>\n      <td>4</td>\n    </tr>\n  </tbody>\n</table>\n<p>109 rows × 17 columns</p>\n</div>"
     },
     "metadata": {},
     "output_type": "display_data"
    },
    {
     "data": {
      "text/plain": "{'car_location': {'Date': <tyr.lineage.schema.source.ColumnMetadata at 0x7f323b6d54f0>,\n  'Status': <tyr.lineage.schema.source.ColumnMetadata at 0x7f323b6d5520>,\n  'X': <tyr.lineage.schema.source.ColumnMetadata at 0x7f323b6d5dc0>,\n  'Y': <tyr.lineage.schema.source.ColumnMetadata at 0x7f323b6de3a0>,\n  'Z': <tyr.lineage.schema.source.ColumnMetadata at 0x7f323b6dea60>,\n  'Source': <tyr.lineage.schema.source.ColumnMetadata at 0x7f323b6edc70>,\n  'Time': <tyr.lineage.schema.source.ColumnMetadata at 0x7f323b6edd90>,\n  'SessionTime': <tyr.lineage.schema.source.ColumnMetadata at 0x7f323b6eda90>,\n  'DriverNumber': <tyr.lineage.schema.source.ColumnMetadata at 0x7f323b6e79d0>},\n 'car_telemetry': {'Date': <tyr.lineage.schema.source.ColumnMetadata at 0x7f323b6e7dc0>,\n  'RPM': <tyr.lineage.schema.source.ColumnMetadata at 0x7f323b6e7100>,\n  'Speed': <tyr.lineage.schema.source.ColumnMetadata at 0x7f323b6f3850>,\n  'nGear': <tyr.lineage.schema.source.ColumnMetadata at 0x7f323b6f38e0>,\n  'Throttle': <tyr.lineage.schema.source.ColumnMetadata at 0x7f323b6f3cd0>,\n  'Brake': <tyr.lineage.schema.source.ColumnMetadata at 0x7f323b6f59d0>,\n  'DRS': <tyr.lineage.schema.source.ColumnMetadata at 0x7f323b6f5a60>,\n  'Source': <tyr.lineage.schema.source.ColumnMetadata at 0x7f323b712d60>,\n  'Time': <tyr.lineage.schema.source.ColumnMetadata at 0x7f323b712be0>,\n  'SessionTime': <tyr.lineage.schema.source.ColumnMetadata at 0x7f323b712610>,\n  'DriverNumber': <tyr.lineage.schema.source.ColumnMetadata at 0x7f3234e89160>},\n 'meetings': {'Key': <tyr.lineage.schema.source.ColumnMetadata at 0x7f3234e89970>,\n  'Name': <tyr.lineage.schema.source.ColumnMetadata at 0x7f3234e89190>,\n  'OfficialName': <tyr.lineage.schema.source.ColumnMetadata at 0x7f3234e8c1c0>,\n  'Location': <tyr.lineage.schema.source.ColumnMetadata at 0x7f3234e8c700>,\n  'CountryKey': <tyr.lineage.schema.source.ColumnMetadata at 0x7f3234e8c730>,\n  'CountryCode': <tyr.lineage.schema.source.ColumnMetadata at 0x7f3234e90040>,\n  'CountryName': <tyr.lineage.schema.source.ColumnMetadata at 0x7f3234e901f0>,\n  'CircuitKey': <tyr.lineage.schema.source.ColumnMetadata at 0x7f3234e90730>,\n  'CircuitShortName': <tyr.lineage.schema.source.ColumnMetadata at 0x7f3234e92100>},\n 'race_control': {'Time': <tyr.lineage.schema.source.ColumnMetadata at 0x7f3234e92940>,\n  'Category': <tyr.lineage.schema.source.ColumnMetadata at 0x7f3234e92190>,\n  'Message': <tyr.lineage.schema.source.ColumnMetadata at 0x7f3234e96070>,\n  'Status': <tyr.lineage.schema.source.ColumnMetadata at 0x7f3234e966a0>,\n  'Flag': <tyr.lineage.schema.source.ColumnMetadata at 0x7f3234e966d0>,\n  'Scope': <tyr.lineage.schema.source.ColumnMetadata at 0x7f3234e9b0a0>,\n  'Sector': <tyr.lineage.schema.source.ColumnMetadata at 0x7f3234e9b070>,\n  'RacingNumber': <tyr.lineage.schema.source.ColumnMetadata at 0x7f3234e9b6d0>,\n  'Lap': <tyr.lineage.schema.source.ColumnMetadata at 0x7f3234ea1100>},\n 'track_status': {'Time': <tyr.lineage.schema.source.ColumnMetadata at 0x7f3234ea1940>,\n  'Status': <tyr.lineage.schema.source.ColumnMetadata at 0x7f3234ea1190>,\n  'Message': <tyr.lineage.schema.source.ColumnMetadata at 0x7f3234ea4040>},\n 'sessions': {'Key': <tyr.lineage.schema.source.ColumnMetadata at 0x7f3234ea4940>,\n  'Type': <tyr.lineage.schema.source.ColumnMetadata at 0x7f3234ea46a0>,\n  'Name': <tyr.lineage.schema.source.ColumnMetadata at 0x7f3234ea9070>,\n  'StartDate': <tyr.lineage.schema.source.ColumnMetadata at 0x7f3234ea96a0>,\n  'EndDate': <tyr.lineage.schema.source.ColumnMetadata at 0x7f3234ea96d0>,\n  'GmtOffset': <tyr.lineage.schema.source.ColumnMetadata at 0x7f3234eb0100>,\n  'Path': <tyr.lineage.schema.source.ColumnMetadata at 0x7f3234eb0190>},\n 'weather': {'SessionKey': <tyr.lineage.schema.source.ColumnMetadata at 0x7f323b6d5550>,\n  'Time': <tyr.lineage.schema.source.ColumnMetadata at 0x7f323b6d53d0>,\n  'AirTemp': <tyr.lineage.schema.source.ColumnMetadata at 0x7f3234eb5400>,\n  'Humidity': <tyr.lineage.schema.source.ColumnMetadata at 0x7f3234eb5040>,\n  'Pressure': <tyr.lineage.schema.source.ColumnMetadata at 0x7f3234eb8100>,\n  'Rainfall': <tyr.lineage.schema.source.ColumnMetadata at 0x7f3234eb8070>,\n  'TrackTemp': <tyr.lineage.schema.source.ColumnMetadata at 0x7f3234eb8dc0>,\n  'WindDirection': <tyr.lineage.schema.source.ColumnMetadata at 0x7f3234eb8d00>,\n  'WindSpeed': <tyr.lineage.schema.source.ColumnMetadata at 0x7f323bc54640>},\n 'circuits': {'id': <tyr.lineage.schema.source.ColumnMetadata at 0x7f3234e4eeb0>,\n  'Location': <tyr.lineage.schema.source.ColumnMetadata at 0x7f3234e4e250>,\n  'Name': <tyr.lineage.schema.source.ColumnMetadata at 0x7f3234e4ee50>,\n  'opened': <tyr.lineage.schema.source.ColumnMetadata at 0x7f3234e5fa30>,\n  'firstgp': <tyr.lineage.schema.source.ColumnMetadata at 0x7f3234e5fa00>,\n  'length': <tyr.lineage.schema.source.ColumnMetadata at 0x7f3234e62310>,\n  'altitude': <tyr.lineage.schema.source.ColumnMetadata at 0x7f3234e621c0>,\n  'geom': <tyr.lineage.schema.source.ColumnMetadata at 0x7f3234e62a90>},\n 'results': {'SessionKey': <tyr.lineage.schema.source.ColumnMetadata at 0x7f323b6d50d0>,\n  'DriverNumber': <tyr.lineage.schema.source.ColumnMetadata at 0x7f323b778070>,\n  'BroadcastName': <tyr.lineage.schema.source.ColumnMetadata at 0x7f3234e6a460>,\n  'Abbreviation': <tyr.lineage.schema.source.ColumnMetadata at 0x7f3234e65460>,\n  'DriverId': <tyr.lineage.schema.source.ColumnMetadata at 0x7f3234e65e20>,\n  'TeamName': <tyr.lineage.schema.source.ColumnMetadata at 0x7f3234e65b80>,\n  'TeamColor': <tyr.lineage.schema.source.ColumnMetadata at 0x7f3234e753d0>,\n  'TeamId': <tyr.lineage.schema.source.ColumnMetadata at 0x7f3234e75400>,\n  'FirstName': <tyr.lineage.schema.source.ColumnMetadata at 0x7f3234e771f0>,\n  'LastName': <tyr.lineage.schema.source.ColumnMetadata at 0x7f3234e77400>,\n  'FullName': <tyr.lineage.schema.source.ColumnMetadata at 0x7f3234e77430>,\n  'HeadshotUrl': <tyr.lineage.schema.source.ColumnMetadata at 0x7f3234e7a1f0>,\n  'CountryCode': <tyr.lineage.schema.source.ColumnMetadata at 0x7f3234e7a400>,\n  'Position': <tyr.lineage.schema.source.ColumnMetadata at 0x7f3234e7a430>,\n  'ClassifiedPosition': <tyr.lineage.schema.source.ColumnMetadata at 0x7f3234e7d1f0>,\n  'GridPosition': <tyr.lineage.schema.source.ColumnMetadata at 0x7f3234e7d400>,\n  'Q1': <tyr.lineage.schema.source.ColumnMetadata at 0x7f3234e7d430>,\n  'Q2': <tyr.lineage.schema.source.ColumnMetadata at 0x7f3234e811f0>,\n  'Q3': <tyr.lineage.schema.source.ColumnMetadata at 0x7f3234e81400>,\n  'Time': <tyr.lineage.schema.source.ColumnMetadata at 0x7f3234e81430>,\n  'Status': <tyr.lineage.schema.source.ColumnMetadata at 0x7f3234e861f0>,\n  'Points': <tyr.lineage.schema.source.ColumnMetadata at 0x7f3234e86400>,\n  'Laps': <tyr.lineage.schema.source.ColumnMetadata at 0x7f3234e86430>},\n 'session_status': {'SessionKey': <tyr.lineage.schema.source.ColumnMetadata at 0x7f323b699160>,\n  'Time': <tyr.lineage.schema.source.ColumnMetadata at 0x7f323b6991f0>,\n  'Status': <tyr.lineage.schema.source.ColumnMetadata at 0x7f323b6996a0>},\n 'team_radio': {'session_key': <tyr.lineage.schema.source.ColumnMetadata at 0x7f323b69d160>,\n  'driver_number': <tyr.lineage.schema.source.ColumnMetadata at 0x7f323b69d1f0>,\n  'date': <tyr.lineage.schema.source.ColumnMetadata at 0x7f323b69d6a0>,\n  'recording_url': <tyr.lineage.schema.source.ColumnMetadata at 0x7f323b6a11f0>},\n 'pit_stops': {'date': <tyr.lineage.schema.source.ColumnMetadata at 0x7f323b6a16a0>,\n  'session_key': <tyr.lineage.schema.source.ColumnMetadata at 0x7f323b6a1400>,\n  'driver_number': <tyr.lineage.schema.source.ColumnMetadata at 0x7f323b6a6040>,\n  'pit_duration': <tyr.lineage.schema.source.ColumnMetadata at 0x7f323b6a6400>,\n  'lap_number': <tyr.lineage.schema.source.ColumnMetadata at 0x7f323b6a6430>},\n 'position': {'date': <tyr.lineage.schema.source.ColumnMetadata at 0x7f323b6ab160>,\n  'session_key': <tyr.lineage.schema.source.ColumnMetadata at 0x7f323b6ab1f0>,\n  'driver_number': <tyr.lineage.schema.source.ColumnMetadata at 0x7f323b6ab5e0>,\n  'position': <tyr.lineage.schema.source.ColumnMetadata at 0x7f323b6b2040>},\n 'intervals': {'date': <tyr.lineage.schema.source.ColumnMetadata at 0x7f323b6b28b0>,\n  'session_key': <tyr.lineage.schema.source.ColumnMetadata at 0x7f323b6b2610>,\n  'driver_number': <tyr.lineage.schema.source.ColumnMetadata at 0x7f323b6bf100>,\n  'gap_to_leader': <tyr.lineage.schema.source.ColumnMetadata at 0x7f323b6bf640>,\n  'interval': <tyr.lineage.schema.source.ColumnMetadata at 0x7f323b6bf670>}}"
     },
     "execution_count": 3,
     "metadata": {},
     "output_type": "execute_result"
    }
   ],
   "source": [
    "# This is the full process to read in column metadata. There is a function to do this in source called read_column_metadata\n",
    "column_metadata = pd.read_csv(\n",
    "    os.path.abspath(\n",
    "        os.path.join(os.getcwd(), \"..\", \"tests/configurations/column_metadata.tsv\")\n",
    "    ),\n",
    "    sep=\"\\t\",\n",
    ")\n",
    "\n",
    "column_metadata[\"ordinal_position\"] = column_metadata[\"ordinal_position\"].astype(int)\n",
    "\n",
    "column_metadata[\"is_primary_key\"] = column_metadata[\"is_primary_key\"].astype(bool)\n",
    "\n",
    "column_metadata[\"is_event_time\"] = column_metadata[\"is_event_time\"].astype(bool)\n",
    "\n",
    "column_metadata[\"filter_values\"] = column_metadata[\"filter_values\"].fillna(\"[]\")\n",
    "\n",
    "for column in [\n",
    "    column\n",
    "    for column in column_metadata.columns.tolist()\n",
    "    if column\n",
    "    not in [\"ordinal_position\", \"is_primary_key\", \"is_event_time\", \"filter_values\"]\n",
    "]:\n",
    "    column_metadata[column] = column_metadata[column].fillna(\"\")\n",
    "    column_metadata[column] = column_metadata[column].astype(str)\n",
    "\n",
    "display(column_metadata)\n",
    "\n",
    "column_metadata = {\n",
    "    dataset: {\n",
    "        row.column_name: tyr.lineage.schema.source.ColumnMetadata(row)\n",
    "        for index, row in column_metadata[\n",
    "            column_metadata[\"dataset\"] == dataset\n",
    "        ].iterrows()\n",
    "    }\n",
    "    for dataset in column_metadata.dataset.unique()\n",
    "}\n",
    "\n",
    "column_metadata"
   ]
  },
  {
   "cell_type": "markdown",
   "id": "9ec470823cfd00f1",
   "metadata": {
    "collapsed": false
   },
   "source": [
    "_________________________________________________________________________________________________________________\n",
    "# Editing Metadata\n",
    "\n",
    "We're going to build source to illustrate how column metadata affects the construction of a staging table.\n",
    "\n",
    "**This is bad practice.** \n",
    "\n",
    "Always update column and file metadata in the configuration files and rebuild from\n",
    "the configuration files. We're only doing this to demonstrate how changing column metadata\n",
    "changes the staging query."
   ]
  },
  {
   "cell_type": "code",
   "execution_count": 4,
   "id": "3c5b5d7d7e7146aa",
   "metadata": {
    "collapsed": false,
    "ExecuteTime": {
     "end_time": "2025-10-19T12:09:52.031283163Z",
     "start_time": "2025-10-19T12:09:51.698628573Z"
    }
   },
   "outputs": [
    {
     "ename": "KeyError",
     "evalue": "'name'",
     "output_type": "error",
     "traceback": [
      "\u001B[0;31m---------------------------------------------------------------------------\u001B[0m",
      "\u001B[0;31mKeyError\u001B[0m                                  Traceback (most recent call last)",
      "Cell \u001B[0;32mIn[4], line 2\u001B[0m\n\u001B[1;32m      1\u001B[0m source \u001B[38;5;241m=\u001B[39m tyr\u001B[38;5;241m.\u001B[39mlineage\u001B[38;5;241m.\u001B[39mschema\u001B[38;5;241m.\u001B[39msource\u001B[38;5;241m.\u001B[39mSource(\n\u001B[0;32m----> 2\u001B[0m     settings\u001B[38;5;241m=\u001B[39m\u001B[43mtyr\u001B[49m\u001B[38;5;241;43m.\u001B[39;49m\u001B[43mlineage\u001B[49m\u001B[38;5;241;43m.\u001B[39;49m\u001B[43mschema\u001B[49m\u001B[38;5;241;43m.\u001B[39;49m\u001B[43msource\u001B[49m\u001B[38;5;241;43m.\u001B[39;49m\u001B[43mSourceSettings\u001B[49m\u001B[43m(\u001B[49m\n\u001B[1;32m      3\u001B[0m \u001B[43m        \u001B[49m\u001B[43mfile_metadata\u001B[49m\u001B[38;5;241;43m=\u001B[39;49m\u001B[43mfile_metadata\u001B[49m\u001B[43m,\u001B[49m\n\u001B[1;32m      4\u001B[0m \u001B[43m        \u001B[49m\u001B[43mexpected_column_metadata\u001B[49m\u001B[38;5;241;43m=\u001B[39;49m\u001B[43mcolumn_metadata\u001B[49m\u001B[43m,\u001B[49m\n\u001B[1;32m      5\u001B[0m \u001B[43m        \u001B[49m\u001B[43mextensions\u001B[49m\u001B[38;5;241;43m=\u001B[39;49m\u001B[43m[\u001B[49m\u001B[43m{\u001B[49m\u001B[38;5;124;43m'\u001B[39;49m\u001B[38;5;124;43mpackage\u001B[39;49m\u001B[38;5;124;43m'\u001B[39;49m\u001B[43m:\u001B[49m\u001B[38;5;124;43m\"\u001B[39;49m\u001B[38;5;124;43mspatial\u001B[39;49m\u001B[38;5;124;43m\"\u001B[39;49m\u001B[43m,\u001B[49m\u001B[43m \u001B[49m\u001B[38;5;124;43m'\u001B[39;49m\u001B[38;5;124;43morigin\u001B[39;49m\u001B[38;5;124;43m'\u001B[39;49m\u001B[43m:\u001B[49m\u001B[38;5;124;43m'\u001B[39;49m\u001B[38;5;124;43mduckdb\u001B[39;49m\u001B[38;5;124;43m'\u001B[39;49m\u001B[43m}\u001B[49m\u001B[43m]\u001B[49m\u001B[43m,\u001B[49m\n\u001B[1;32m      6\u001B[0m \u001B[43m    \u001B[49m\u001B[43m)\u001B[49m\n\u001B[1;32m      7\u001B[0m )\n\u001B[1;32m      9\u001B[0m \u001B[38;5;66;03m# Staging columns are built using a function called lineage.macros.columns.staging_column_transform()\u001B[39;00m\n\u001B[1;32m     10\u001B[0m \u001B[38;5;66;03m# Here, we will call it on a single source column.\u001B[39;00m\n\u001B[1;32m     12\u001B[0m car_location_subquery \u001B[38;5;241m=\u001B[39m tyr\u001B[38;5;241m.\u001B[39mlineage\u001B[38;5;241m.\u001B[39mtables\u001B[38;5;241m.\u001B[39mSubquery(source\u001B[38;5;241m.\u001B[39mtables\u001B[38;5;241m.\u001B[39mcar_location)\n",
      "File \u001B[0;32m~/tyr/src/tyr/lineage/schema/source.py:272\u001B[0m, in \u001B[0;36mSourceSettings.__init__\u001B[0;34m(self, file_metadata, expected_column_metadata, substitutions, extensions, connection)\u001B[0m\n\u001B[1;32m    264\u001B[0m \u001B[38;5;28;01mdef\u001B[39;00m\u001B[38;5;250m \u001B[39m\u001B[38;5;21m__init__\u001B[39m(\n\u001B[1;32m    265\u001B[0m     \u001B[38;5;28mself\u001B[39m,\n\u001B[1;32m    266\u001B[0m     file_metadata: Dict[\u001B[38;5;28mstr\u001B[39m, FileMetadata],\n\u001B[0;32m   (...)\u001B[0m\n\u001B[1;32m    270\u001B[0m     connection\u001B[38;5;241m=\u001B[39m{},\n\u001B[1;32m    271\u001B[0m ):\n\u001B[0;32m--> 272\u001B[0m     \u001B[38;5;28;43msuper\u001B[39;49m\u001B[43m(\u001B[49m\u001B[43m)\u001B[49m\u001B[38;5;241;43m.\u001B[39;49m\u001B[38;5;21;43m__init__\u001B[39;49m\u001B[43m(\u001B[49m\n\u001B[1;32m    273\u001B[0m \u001B[43m        \u001B[49m\u001B[43mname\u001B[49m\u001B[38;5;241;43m=\u001B[39;49m\u001B[38;5;124;43m\"\u001B[39;49m\u001B[38;5;124;43msource\u001B[39;49m\u001B[38;5;124;43m\"\u001B[39;49m\u001B[43m,\u001B[49m\n\u001B[1;32m    274\u001B[0m \u001B[43m        \u001B[49m\u001B[43msubstitutions\u001B[49m\u001B[38;5;241;43m=\u001B[39;49m\u001B[43msubstitutions\u001B[49m\u001B[43m,\u001B[49m\n\u001B[1;32m    275\u001B[0m \u001B[43m        \u001B[49m\u001B[43mextensions\u001B[49m\u001B[38;5;241;43m=\u001B[39;49m\u001B[43mextensions\u001B[49m\u001B[43m,\u001B[49m\n\u001B[1;32m    276\u001B[0m \u001B[43m        \u001B[49m\u001B[43mconnection\u001B[49m\u001B[38;5;241;43m=\u001B[39;49m\u001B[43mconnection\u001B[49m\u001B[43m,\u001B[49m\n\u001B[1;32m    277\u001B[0m \u001B[43m    \u001B[49m\u001B[43m)\u001B[49m\n\u001B[1;32m    279\u001B[0m     \u001B[38;5;28mself\u001B[39m\u001B[38;5;241m.\u001B[39mfile_metadata \u001B[38;5;241m=\u001B[39m file_metadata\n\u001B[1;32m    280\u001B[0m     \u001B[38;5;28mself\u001B[39m\u001B[38;5;241m.\u001B[39mexpected_column_metadata \u001B[38;5;241m=\u001B[39m expected_column_metadata\n",
      "File \u001B[0;32m~/tyr/src/tyr/lineage/schema/core.py:41\u001B[0m, in \u001B[0;36m_SchemaSettings.__init__\u001B[0;34m(self, name, substitutions, extensions, connection, configuration)\u001B[0m\n\u001B[1;32m     38\u001B[0m \u001B[38;5;28mself\u001B[39m\u001B[38;5;241m.\u001B[39mconnection \u001B[38;5;241m=\u001B[39m connection\n\u001B[1;32m     39\u001B[0m \u001B[38;5;28mself\u001B[39m\u001B[38;5;241m.\u001B[39mconfiguration \u001B[38;5;241m=\u001B[39m configuration\n\u001B[1;32m     40\u001B[0m \u001B[38;5;28mself\u001B[39m\u001B[38;5;241m.\u001B[39msql \u001B[38;5;241m=\u001B[39m sqlparse\u001B[38;5;241m.\u001B[39mformat(\n\u001B[0;32m---> 41\u001B[0m     \u001B[43m_interpreters\u001B[49m\u001B[43m[\u001B[49m\u001B[38;5;124;43m\"\u001B[39;49m\u001B[38;5;124;43mbeeswax_duckdb\u001B[39;49m\u001B[38;5;124;43m\"\u001B[39;49m\u001B[43m]\u001B[49m\u001B[38;5;241;43m.\u001B[39;49m\u001B[43mto_sql\u001B[49m\u001B[43m(\u001B[49m\u001B[38;5;28;43mself\u001B[39;49m\u001B[43m)\u001B[49m, reindent\u001B[38;5;241m=\u001B[39m\u001B[38;5;28;01mTrue\u001B[39;00m\n\u001B[1;32m     42\u001B[0m )\n",
      "File \u001B[0;32m~/tyr/src/tyr/interpreter.py:13\u001B[0m, in \u001B[0;36mInterpreter.to_sql\u001B[0;34m(self, item)\u001B[0m\n\u001B[1;32m     12\u001B[0m \u001B[38;5;28;01mdef\u001B[39;00m\u001B[38;5;250m \u001B[39m\u001B[38;5;21mto_sql\u001B[39m(\u001B[38;5;28mself\u001B[39m, item):\n\u001B[0;32m---> 13\u001B[0m     \u001B[38;5;28;01mreturn\u001B[39;00m \u001B[38;5;28;43mself\u001B[39;49m\u001B[38;5;241;43m.\u001B[39;49m\u001B[43msyntax\u001B[49m\u001B[38;5;241;43m.\u001B[39;49m\u001B[43mitem_to_sql\u001B[49m\u001B[43m(\u001B[49m\u001B[43mitem\u001B[49m\u001B[43m)\u001B[49m\n",
      "File \u001B[0;32m~/tyr/src/tyr/syntax/core.py:240\u001B[0m, in \u001B[0;36mSyntax.item_to_sql\u001B[0;34m(self, item)\u001B[0m\n\u001B[1;32m    239\u001B[0m \u001B[38;5;28;01mdef\u001B[39;00m\u001B[38;5;250m \u001B[39m\u001B[38;5;21mitem_to_sql\u001B[39m(\u001B[38;5;28mself\u001B[39m, item):\n\u001B[0;32m--> 240\u001B[0m     \u001B[38;5;28;01mreturn\u001B[39;00m \u001B[38;5;28;43mself\u001B[39;49m\u001B[38;5;241;43m.\u001B[39;49m\u001B[43msyntax\u001B[49m\u001B[38;5;241;43m.\u001B[39;49m\u001B[38;5;18;43m__dict__\u001B[39;49m\u001B[43m[\u001B[49m\u001B[43mselector\u001B[49m\u001B[43m(\u001B[49m\u001B[43mitem\u001B[49m\u001B[43m)\u001B[49m\u001B[43m]\u001B[49m\u001B[43m(\u001B[49m\u001B[43mitem\u001B[49m\u001B[43m)\u001B[49m\n",
      "File \u001B[0;32m~/tyr/src/tyr/syntax/duckdb.py:12\u001B[0m, in \u001B[0;36mschema_settings\u001B[0;34m(item)\u001B[0m\n\u001B[1;32m      8\u001B[0m \u001B[38;5;28;01mdef\u001B[39;00m\u001B[38;5;250m \u001B[39m\u001B[38;5;21mschema_settings\u001B[39m(item):\n\u001B[1;32m      9\u001B[0m     base_sql \u001B[38;5;241m=\u001B[39m [\u001B[38;5;124mrf\u001B[39m\u001B[38;5;124m\"\u001B[39m\u001B[38;5;124mSET \u001B[39m\u001B[38;5;132;01m{\u001B[39;00mkey\u001B[38;5;132;01m}\u001B[39;00m\u001B[38;5;124m=\u001B[39m\u001B[38;5;132;01m{\u001B[39;00mvalue\u001B[38;5;132;01m}\u001B[39;00m\u001B[38;5;124m\"\u001B[39m \u001B[38;5;28;01mfor\u001B[39;00m key, value \u001B[38;5;129;01min\u001B[39;00m item\u001B[38;5;241m.\u001B[39mconnection\u001B[38;5;241m.\u001B[39mitems()]\n\u001B[1;32m     11\u001B[0m     base_sql\u001B[38;5;241m.\u001B[39mextend(\n\u001B[0;32m---> 12\u001B[0m         [\n\u001B[1;32m     13\u001B[0m             \u001B[38;5;124mrf\u001B[39m\u001B[38;5;124m\"\"\"\u001B[39m\u001B[38;5;124mINSTALL \u001B[39m\u001B[38;5;124m'\u001B[39m\u001B[38;5;132;01m{\u001B[39;00mpackage[\u001B[38;5;124m'\u001B[39m\u001B[38;5;124mname\u001B[39m\u001B[38;5;124m'\u001B[39m]\u001B[38;5;132;01m}\u001B[39;00m\u001B[38;5;124m'\u001B[39m\u001B[38;5;124m FROM community; LOAD \u001B[39m\u001B[38;5;124m'\u001B[39m\u001B[38;5;132;01m{\u001B[39;00mpackage[\u001B[38;5;124m'\u001B[39m\u001B[38;5;124mname\u001B[39m\u001B[38;5;124m'\u001B[39m]\u001B[38;5;132;01m}\u001B[39;00m\u001B[38;5;124m'\u001B[39m\u001B[38;5;124m\"\"\"\u001B[39m\n\u001B[1;32m     14\u001B[0m             \u001B[38;5;28;01mif\u001B[39;00m package[\u001B[38;5;124m\"\u001B[39m\u001B[38;5;124morigin\u001B[39m\u001B[38;5;124m\"\u001B[39m] \u001B[38;5;241m==\u001B[39m \u001B[38;5;124m\"\u001B[39m\u001B[38;5;124mduckdb_ce\u001B[39m\u001B[38;5;124m\"\u001B[39m\n\u001B[1;32m     15\u001B[0m             \u001B[38;5;28;01melse\u001B[39;00m \u001B[38;5;124mrf\u001B[39m\u001B[38;5;124m\"\"\"\u001B[39m\u001B[38;5;124mINSTALL \u001B[39m\u001B[38;5;124m'\u001B[39m\u001B[38;5;132;01m{\u001B[39;00mpackage[\u001B[38;5;124m'\u001B[39m\u001B[38;5;124mname\u001B[39m\u001B[38;5;124m'\u001B[39m]\u001B[38;5;132;01m}\u001B[39;00m\u001B[38;5;124m'\u001B[39m\u001B[38;5;124m; LOAD \u001B[39m\u001B[38;5;124m'\u001B[39m\u001B[38;5;132;01m{\u001B[39;00mpackage[\u001B[38;5;124m'\u001B[39m\u001B[38;5;124mname\u001B[39m\u001B[38;5;124m'\u001B[39m]\u001B[38;5;132;01m}\u001B[39;00m\u001B[38;5;124m'\u001B[39m\u001B[38;5;124m\"\"\"\u001B[39m\n\u001B[1;32m     16\u001B[0m             \u001B[38;5;28;01mfor\u001B[39;00m package \u001B[38;5;129;01min\u001B[39;00m item\u001B[38;5;241m.\u001B[39mextensions\n\u001B[1;32m     17\u001B[0m         ]\n\u001B[1;32m     18\u001B[0m     )\n\u001B[1;32m     20\u001B[0m     base_sql \u001B[38;5;241m=\u001B[39m \u001B[38;5;124m\"\u001B[39m\u001B[38;5;124m; \u001B[39m\u001B[38;5;124m\"\u001B[39m\u001B[38;5;241m.\u001B[39mjoin(base_sql)\n\u001B[1;32m     22\u001B[0m     \u001B[38;5;28;01mreturn\u001B[39;00m base_sql\n",
      "File \u001B[0;32m~/tyr/src/tyr/syntax/duckdb.py:15\u001B[0m, in \u001B[0;36m<listcomp>\u001B[0;34m(.0)\u001B[0m\n\u001B[1;32m      8\u001B[0m \u001B[38;5;28;01mdef\u001B[39;00m\u001B[38;5;250m \u001B[39m\u001B[38;5;21mschema_settings\u001B[39m(item):\n\u001B[1;32m      9\u001B[0m     base_sql \u001B[38;5;241m=\u001B[39m [\u001B[38;5;124mrf\u001B[39m\u001B[38;5;124m\"\u001B[39m\u001B[38;5;124mSET \u001B[39m\u001B[38;5;132;01m{\u001B[39;00mkey\u001B[38;5;132;01m}\u001B[39;00m\u001B[38;5;124m=\u001B[39m\u001B[38;5;132;01m{\u001B[39;00mvalue\u001B[38;5;132;01m}\u001B[39;00m\u001B[38;5;124m\"\u001B[39m \u001B[38;5;28;01mfor\u001B[39;00m key, value \u001B[38;5;129;01min\u001B[39;00m item\u001B[38;5;241m.\u001B[39mconnection\u001B[38;5;241m.\u001B[39mitems()]\n\u001B[1;32m     11\u001B[0m     base_sql\u001B[38;5;241m.\u001B[39mextend(\n\u001B[1;32m     12\u001B[0m         [\n\u001B[1;32m     13\u001B[0m             \u001B[38;5;124mrf\u001B[39m\u001B[38;5;124m\"\"\"\u001B[39m\u001B[38;5;124mINSTALL \u001B[39m\u001B[38;5;124m'\u001B[39m\u001B[38;5;132;01m{\u001B[39;00mpackage[\u001B[38;5;124m'\u001B[39m\u001B[38;5;124mname\u001B[39m\u001B[38;5;124m'\u001B[39m]\u001B[38;5;132;01m}\u001B[39;00m\u001B[38;5;124m'\u001B[39m\u001B[38;5;124m FROM community; LOAD \u001B[39m\u001B[38;5;124m'\u001B[39m\u001B[38;5;132;01m{\u001B[39;00mpackage[\u001B[38;5;124m'\u001B[39m\u001B[38;5;124mname\u001B[39m\u001B[38;5;124m'\u001B[39m]\u001B[38;5;132;01m}\u001B[39;00m\u001B[38;5;124m'\u001B[39m\u001B[38;5;124m\"\"\"\u001B[39m\n\u001B[1;32m     14\u001B[0m             \u001B[38;5;28;01mif\u001B[39;00m package[\u001B[38;5;124m\"\u001B[39m\u001B[38;5;124morigin\u001B[39m\u001B[38;5;124m\"\u001B[39m] \u001B[38;5;241m==\u001B[39m \u001B[38;5;124m\"\u001B[39m\u001B[38;5;124mduckdb_ce\u001B[39m\u001B[38;5;124m\"\u001B[39m\n\u001B[0;32m---> 15\u001B[0m             \u001B[38;5;28;01melse\u001B[39;00m \u001B[38;5;124mrf\u001B[39m\u001B[38;5;124m\"\"\"\u001B[39m\u001B[38;5;124mINSTALL \u001B[39m\u001B[38;5;124m'\u001B[39m\u001B[38;5;132;01m{\u001B[39;00mpackage[\u001B[38;5;124m'\u001B[39m\u001B[38;5;124mname\u001B[39m\u001B[38;5;124m'\u001B[39m]\u001B[38;5;132;01m}\u001B[39;00m\u001B[38;5;124m'\u001B[39m\u001B[38;5;124m; LOAD \u001B[39m\u001B[38;5;124m'\u001B[39m\u001B[38;5;132;01m{\u001B[39;00mpackage[\u001B[38;5;124m'\u001B[39m\u001B[38;5;124mname\u001B[39m\u001B[38;5;124m'\u001B[39m]\u001B[38;5;132;01m}\u001B[39;00m\u001B[38;5;124m'\u001B[39m\u001B[38;5;124m\"\"\"\u001B[39m\n\u001B[1;32m     16\u001B[0m             \u001B[38;5;28;01mfor\u001B[39;00m package \u001B[38;5;129;01min\u001B[39;00m item\u001B[38;5;241m.\u001B[39mextensions\n\u001B[1;32m     17\u001B[0m         ]\n\u001B[1;32m     18\u001B[0m     )\n\u001B[1;32m     20\u001B[0m     base_sql \u001B[38;5;241m=\u001B[39m \u001B[38;5;124m\"\u001B[39m\u001B[38;5;124m; \u001B[39m\u001B[38;5;124m\"\u001B[39m\u001B[38;5;241m.\u001B[39mjoin(base_sql)\n\u001B[1;32m     22\u001B[0m     \u001B[38;5;28;01mreturn\u001B[39;00m base_sql\n",
      "\u001B[0;31mKeyError\u001B[0m: 'name'"
     ]
    }
   ],
   "source": [
    "source = tyr.lineage.schema.source.Source(\n",
    "    settings=tyr.lineage.schema.source.SourceSettings(\n",
    "        file_metadata=file_metadata,\n",
    "        expected_column_metadata=column_metadata,\n",
    "        extensions=[{'name':\"spatial\", 'origin':'duckdb'}],\n",
    "    )\n",
    ")\n",
    "\n",
    "# Staging columns are built using a function called lineage.macros.columns.staging_column_transform()\n",
    "# Here, we will call it on a single source column.\n",
    "\n",
    "car_location_subquery = tyr.lineage.tables.Subquery(source.tables.car_location)\n",
    "\n",
    "source_table = tyr.lineage.tables.Core(\n",
    "    name=\"test_column_metadata_change\",\n",
    "    source=car_location_subquery,\n",
    "    columns=tyr.lineage.core.ColumnList(\n",
    "        [\n",
    "            tyr.lineage.macros.columns.staging_column_transform(\n",
    "                tyr.lineage.tables.Select(\n",
    "                    source.tables.car_location\n",
    "                ).columns.list_columns_()[0],\n",
    "                source.tables.car_location.expected_column_metadata[\"X\"],\n",
    "            )\n",
    "        ]\n",
    "    ),\n",
    ")\n",
    "\n",
    "print(\"Query with 1dp precision\")\n",
    "print(source_table.sql)\n",
    "\n",
    "# Let's update the precision of X from 1dp to 0dp\n",
    "source.tables.car_location.expected_column_metadata[\"X\"].precision = \"0dp\"\n",
    "\n",
    "# Any object downstream relying on this information must be reinitialized\n",
    "source_table = tyr.lineage.tables.Core(\n",
    "    name=\"test_column_metadata_change\",\n",
    "    source=car_location_subquery,\n",
    "    columns=tyr.lineage.core.ColumnList(\n",
    "        [\n",
    "            tyr.lineage.macros.columns.staging_column_transform(\n",
    "                tyr.lineage.tables.Select(\n",
    "                    source.tables.car_location\n",
    "                ).columns.list_columns_()[0],\n",
    "                source.tables.car_location.expected_column_metadata[\"X\"],\n",
    "            )\n",
    "        ]\n",
    "    ),\n",
    ")\n",
    "\n",
    "print(\"\\n\")\n",
    "print(\"Query with 0dp precision\")\n",
    "print(source_table.sql)\n",
    "\n",
    "# Note that re-running this cell without the following line does not reset the column precision to 0dp\n",
    "# This is because the column metadata has not been re-read from file\n",
    "source.tables.car_location.expected_column_metadata[\"X\"].precision = \"1dp\""
   ]
  },
  {
   "cell_type": "markdown",
   "id": "735c97775be1d1e0",
   "metadata": {
    "collapsed": false
   },
   "source": [
    "Experiment with changing parameters in the configuration files:\n",
    "- <code>tyr/test/configurations/column_metadata.tsv</code>\n",
    "- <code>tyr/test/configurations/file_metadata.tsv</code>\n",
    "\n",
    "A full list of parameters can be queried in the ColumnMetadata object docs\n",
    "\n"
   ]
  },
  {
   "cell_type": "code",
   "execution_count": null,
   "id": "69cedaed2c08d672",
   "metadata": {
    "collapsed": false,
    "ExecuteTime": {
     "end_time": "2025-10-19T12:09:52.035063894Z",
     "start_time": "2025-10-19T12:09:52.032276348Z"
    }
   },
   "outputs": [],
   "source": [
    "print(tyr.lineage.schema.source.ColumnMetadata.__doc__)"
   ]
  },
  {
   "cell_type": "markdown",
   "id": "37afb623bfdfdae0",
   "metadata": {
    "collapsed": false
   },
   "source": [
    "________________________________________________________________________________________________________________\n",
    "# Building Source & Staging\n",
    "\n",
    "<p>Now that we have our metadata objects read in, we can construct source and staging. It is importand to note that, although source takes <code>expected_column_metadata</code> as an argument, this isn't used in the construction of the sql query. It is stored within the source table object and used downstream by staging. The <code>SourceSettings</code> and <code>StagingSettings</code> objects are required for their respective schemas to read in the information correctly. The <code>extensions</code> parameter is used to install any necessary duckdb extensions. In this case, <code>spatial</code> will be required as geometry objects exist in the files.</p>"
   ]
  },
  {
   "cell_type": "code",
   "execution_count": null,
   "id": "initial_id",
   "metadata": {
    "collapsed": true,
    "jupyter": {
     "outputs_hidden": true
    },
    "ExecuteTime": {
     "start_time": "2025-10-19T12:09:52.034834546Z"
    }
   },
   "outputs": [],
   "source": [
    "source = tyr.lineage.schema.source.Source(\n",
    "    settings=tyr.lineage.schema.source.SourceSettings(\n",
    "        file_metadata=file_metadata,\n",
    "        expected_column_metadata=column_metadata,\n",
    "        extensions=[{'name':\"spatial\", 'origin':'duckdb'}],\n",
    "    )\n",
    ")\n",
    "\n",
    "staging = tyr.lineage.schema.staging.Staging(\n",
    "    source=source,\n",
    "    settings=tyr.lineage.schema.staging.StagingSettings(\n",
    "        name=\"staging\", extensions=[{'name':\"spatial\", 'origin':'duckdb'}]\n",
    "    ),\n",
    ")"
   ]
  },
  {
   "cell_type": "markdown",
   "id": "66715bbff2c7743b",
   "metadata": {
    "collapsed": false
   },
   "source": [
    "_________________________________________________________________________________________________________\n",
    "# Saving schemas\n",
    "\n",
    "We can save schemas to recall them in other files without re-reading metadata. \n",
    "Note that this will mean that changing the metadata files will not update the schema. \n",
    "Only recreating them from the files will do this.\n",
    "\n",
    "This practice is useful for version controlling schemas."
   ]
  },
  {
   "cell_type": "code",
   "execution_count": null,
   "id": "ebba0ce076d3fc4c",
   "metadata": {
    "collapsed": false,
    "ExecuteTime": {
     "end_time": "2025-10-19T12:09:52.038615547Z",
     "start_time": "2025-10-19T12:09:52.036822826Z"
    }
   },
   "outputs": [],
   "source": [
    "# Note that after this operation, the saved schema will appear in the tests/saved_schema/ directory\n",
    "source.save(os.path.abspath(os.path.join(os.getcwd(), \"..\", \"tests/saved_schema\")))\n",
    "staging.save(os.path.abspath(os.path.join(os.getcwd(), \"..\", \"tests/saved_schema\")))\n",
    "\n",
    "source = tyr.lineage.schema.core.load_schema_from_pkl(\n",
    "    os.path.abspath(os.path.join(os.getcwd(), \"..\", \"tests/saved_schema/source.pkl\"))\n",
    ")\n",
    "staging = tyr.lineage.schema.core.load_schema_from_pkl(\n",
    "    os.path.abspath(os.path.join(os.getcwd(), \"..\", \"tests/saved_schema/staging.pkl\"))\n",
    ")"
   ]
  },
  {
   "cell_type": "markdown",
   "id": "9c6629905aa63f49",
   "metadata": {
    "collapsed": false
   },
   "source": [
    "___________________________________________________________________________________________________________________________________________________\n",
    "# Interacting with lineage objects\n",
    "<p>Now we can interact with the table objects and retrieve their attributes as follows: </p>"
   ]
  },
  {
   "cell_type": "code",
   "execution_count": null,
   "id": "36fe8644c649e044",
   "metadata": {
    "collapsed": false,
    "ExecuteTime": {
     "start_time": "2025-10-19T12:09:52.038523998Z"
    }
   },
   "outputs": [],
   "source": [
    "# Retrieve name\n",
    "print(\"\\n\")\n",
    "print(rf\"Table name: {staging.tables.sessions.name}\")\n",
    "\n",
    "# Retrieve column names\n",
    "print(\"\\n\")\n",
    "print(\"Column Names:\")\n",
    "print(staging.tables.sessions.columns.list_names_())\n",
    "\n",
    "# Column attributes can be achieved through attribute name or string indexing\n",
    "print(\"\\n\")\n",
    "print(\"Column from attribute name:\")\n",
    "print(staging.tables.sessions.columns.start_date.__dict__)\n",
    "\n",
    "print(\"\\n\")\n",
    "print(\"Column from string index:\")\n",
    "print(staging.tables.sessions.columns[\"start_date\"].__dict__)\n",
    "\n",
    "# Retrieve primary key\n",
    "print(\"\\n\")\n",
    "print(\"Primary Key:\")\n",
    "print(staging.tables.sessions.primary_key.list_names_())\n",
    "\n",
    "# Retrieve query\n",
    "print(\"\\n\")\n",
    "print(\"SQL:\")\n",
    "print(staging.tables.sessions.sql)\n",
    "\n",
    "# Retrieve schema of table\n",
    "print(\"\\n\")\n",
    "print(\"Schema name:\")\n",
    "print(staging.tables.sessions.schema.name)\n",
    "\n",
    "# Retrieve name of source table with schema\n",
    "print(\"\\n\")\n",
    "print(\"Source table name:\")\n",
    "print(\n",
    "    rf\"{staging.tables.sessions.source.schema.name}.{staging.tables.sessions.source.name}\"\n",
    ")"
   ]
  },
  {
   "cell_type": "markdown",
   "id": "a45f56c4379e9cd9",
   "metadata": {
    "collapsed": false
   },
   "source": [
    "______________________________________________________________________________________________________________________________________________________\n",
    "# Retreiving attributes to root\n",
    "Attributes can be chained until no root attribute exists"
   ]
  },
  {
   "cell_type": "code",
   "execution_count": null,
   "id": "8f7316bb1a9ef1a",
   "metadata": {
    "collapsed": false,
    "ExecuteTime": {
     "start_time": "2025-10-19T12:09:52.040430618Z"
    }
   },
   "outputs": [],
   "source": [
    "# Schema\n",
    "print(staging)\n",
    "print(staging.name)"
   ]
  },
  {
   "cell_type": "code",
   "execution_count": null,
   "id": "ad9d0b87b4a1d751",
   "metadata": {
    "collapsed": false,
    "ExecuteTime": {
     "start_time": "2025-10-19T12:09:52.042176219Z"
    }
   },
   "outputs": [],
   "source": [
    "# Schema tables\n",
    "print(staging.tables)\n",
    "print(staging.tables.list_names_())"
   ]
  },
  {
   "cell_type": "code",
   "execution_count": null,
   "id": "dcb8718a494491f1",
   "metadata": {
    "collapsed": false,
    "ExecuteTime": {
     "end_time": "2025-10-19T12:09:52.045713612Z",
     "start_time": "2025-10-19T12:09:52.043134915Z"
    }
   },
   "outputs": [],
   "source": [
    "# car_telemetry table\n",
    "print(staging.tables.car_telemetry)\n",
    "# TableList can also be accessed with string index\n",
    "print(staging.tables[\"car_telemetry\"].name)"
   ]
  },
  {
   "cell_type": "code",
   "execution_count": null,
   "id": "96d7c31e9d65bfc7",
   "metadata": {
    "collapsed": false,
    "ExecuteTime": {
     "start_time": "2025-10-19T12:09:52.044055710Z"
    }
   },
   "outputs": [],
   "source": [
    "# car_telemetry columns\n",
    "print(staging.tables.car_telemetry.columns)\n",
    "print(staging.tables.car_telemetry.columns.list_names_())"
   ]
  },
  {
   "cell_type": "code",
   "execution_count": null,
   "id": "78a76b11c9a6d117",
   "metadata": {
    "collapsed": false,
    "ExecuteTime": {
     "start_time": "2025-10-19T12:09:52.045016495Z"
    }
   },
   "outputs": [],
   "source": [
    "# kmh column in car_telemetry\n",
    "print(staging.tables.car_telemetry.columns.kmh)\n",
    "# kmh column name\n",
    "print(staging.tables.car_telemetry.columns.kmh.name)\n",
    "# check attributes of kmh\n",
    "print(rf\"var_type: {staging.tables.car_telemetry.columns.kmh.var_type}\")\n",
    "print(rf\"data_type: {staging.tables.car_telemetry.columns.kmh.data_type.value}\")\n",
    "print(rf\"unit: {staging.tables.car_telemetry.columns.kmh.unit.name}\")\n",
    "print(rf\"sql: {staging.tables.car_telemetry.columns.kmh.sql}\")"
   ]
  },
  {
   "cell_type": "code",
   "execution_count": null,
   "id": "d1c382e831c02b05",
   "metadata": {
    "collapsed": false,
    "ExecuteTime": {
     "start_time": "2025-10-19T12:09:52.067508153Z"
    }
   },
   "outputs": [],
   "source": [
    "# kmh column source in car_telemetry - math ROUND function\n",
    "print(staging.tables.car_telemetry.columns.kmh.source)\n",
    "# At any point we can query sql. This will display sql down to the root level\n",
    "print(staging.tables.car_telemetry.columns.kmh.source.sql)"
   ]
  },
  {
   "cell_type": "code",
   "execution_count": null,
   "id": "779ba5553bf6b5b5",
   "metadata": {
    "collapsed": false,
    "ExecuteTime": {
     "start_time": "2025-10-19T12:09:52.067770251Z"
    }
   },
   "outputs": [],
   "source": [
    "# math ROUND function arg[0] - data_type TRYCAST function\n",
    "print(staging.tables.car_telemetry.columns.kmh.source.args[0])\n",
    "print(staging.tables.car_telemetry.columns.kmh.source.args[0].sql)"
   ]
  },
  {
   "cell_type": "code",
   "execution_count": null,
   "id": "45fe8e9100faad37",
   "metadata": {
    "collapsed": false,
    "ExecuteTime": {
     "start_time": "2025-10-19T12:09:52.067938041Z"
    }
   },
   "outputs": [],
   "source": [
    "# data_type TRYCAST function arg[0] - expression AS\n",
    "print(staging.tables.car_telemetry.columns.kmh.source.args[0].args[0])\n",
    "print(staging.tables.car_telemetry.columns.kmh.source.args[0].args[0].sql)"
   ]
  },
  {
   "cell_type": "code",
   "execution_count": null,
   "id": "2191a65ae1fb9e0",
   "metadata": {
    "collapsed": false,
    "ExecuteTime": {
     "start_time": "2025-10-19T12:09:52.068097530Z"
    }
   },
   "outputs": [],
   "source": [
    "# expression AS left object - utility function SourceWildToStaging <- This initializes the lineage tree for column objects\n",
    "print(staging.tables.car_telemetry.columns.kmh.source.args[0].args[0].left)\n",
    "# We can check which attributes are available to query using the .__dict__ method\n",
    "pprint(staging.tables.car_telemetry.columns.kmh.source.args[0].args[0].left.__dict__)"
   ]
  },
  {
   "cell_type": "code",
   "execution_count": null,
   "id": "ab1587cfa48b0e51",
   "metadata": {
    "collapsed": false,
    "ExecuteTime": {
     "start_time": "2025-10-19T12:09:52.068259069Z"
    }
   },
   "outputs": [],
   "source": [
    "# Get WildCard column from SourceWildToStaging\n",
    "print(staging.tables.car_telemetry.columns.kmh.source.args[0].args[0].left.args[0])\n",
    "\n",
    "# We can check the current table of this object to determine the source table\n",
    "print(\n",
    "    \"Source table: \"\n",
    "    + staging.tables.car_telemetry.columns.kmh.source.args[0]\n",
    "    .args[0]\n",
    "    .left.args[0]\n",
    "    .current_table.schema.name\n",
    "    + \".\"\n",
    "    + staging.tables.car_telemetry.columns.kmh.source.args[0]\n",
    "    .args[0]\n",
    "    .left.args[0]\n",
    "    .current_table.name\n",
    ")"
   ]
  },
  {
   "cell_type": "code",
   "execution_count": null,
   "id": "ac99ca07b0d57567",
   "metadata": {
    "collapsed": false,
    "ExecuteTime": {
     "start_time": "2025-10-19T12:09:52.068432648Z"
    }
   },
   "outputs": [],
   "source": [
    "# The WildCard value is the root object and therefore has no source\n",
    "print(\n",
    "    staging.tables.car_telemetry.columns.kmh.source.args[0]\n",
    "    .args[0]\n",
    "    .left.args[0]\n",
    "    .source.__dict__\n",
    ")"
   ]
  },
  {
   "cell_type": "code",
   "execution_count": null,
   "outputs": [],
   "source": [],
   "metadata": {
    "collapsed": false,
    "ExecuteTime": {
     "start_time": "2025-10-19T12:09:52.068590727Z"
    }
   },
   "id": "cb08f784808f3d11"
  }
 ],
 "metadata": {
  "kernelspec": {
   "display_name": "Python 3 (ipykernel)",
   "language": "python",
   "name": "python3"
  },
  "language_info": {
   "codemirror_mode": {
    "name": "ipython",
    "version": 3
   },
   "file_extension": ".py",
   "mimetype": "text/x-python",
   "name": "python",
   "nbconvert_exporter": "python",
   "pygments_lexer": "ipython3",
   "version": "3.9.19"
  }
 },
 "nbformat": 4,
 "nbformat_minor": 5
}
