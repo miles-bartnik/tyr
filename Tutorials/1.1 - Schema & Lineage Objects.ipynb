{
 "cells": [
  {
   "cell_type": "markdown",
   "id": "8cb589317a0c2129",
   "metadata": {
    "collapsed": false
   },
   "source": [
    "<h1>Chapter 1: Schema & Lineage Objects</h1>\n",
    "\n",
    "<p>\n",
    "Source and staging are pre-defined schemas that represent the first two stages of the data ingestion pipeline.\n",
    "They are defined as follows: \n",
    "</p>\n",
    "\n",
    "<span>Source - Raw, unprocessed source data pulled from source files</span>\n",
    "<ul> <code>SELECT * FROM {source_file}</code> </ul>\n",
    "\n",
    "<span>Staging - Processed data from source with column metadata information applied</span>\n",
    "<ul><code>SELECT TRY_CAST({column} AS {column_metadata.data_type}) AS {column} FROM source.{table}</code></ul>"
   ]
  },
  {
   "cell_type": "code",
   "execution_count": 1,
   "id": "7397e92e23e7abe8",
   "metadata": {
    "collapsed": false,
    "ExecuteTime": {
     "end_time": "2025-10-16T06:19:23.119696031Z",
     "start_time": "2025-10-16T06:19:22.738709665Z"
    }
   },
   "outputs": [],
   "source": [
    "import tyr\n",
    "\n",
    "# Required to get relative path of test datasets\n",
    "import os\n",
    "\n",
    "# Required to illustrate how metadata is used\n",
    "import pandas as pd\n",
    "\n",
    "from pprint import pprint"
   ]
  },
  {
   "cell_type": "markdown",
   "id": "5bef709a-bc02-4718-b49f-e05bc136ea7b",
   "metadata": {},
   "source": [
    "# About The Data\n",
    "\n",
    "The data used in this tutorial is from the 2023 Formula 1 Singapore Grand Prix, courtesy of FastF1 and the OpenF1 api.\n",
    "This data is useful as it provides multiple tables connected by common ids, and numeric data with which we can calculate\n",
    "various metrics (averages, std_dev, etc.).\n",
    "\n",
    "Thank you to both of these projects for providing such a fantastic data source. If you want to check them out, they\n",
    "can be found at the following addresses:\n",
    "\n",
    "- https://github.com/theOehrly/Fast-F1\n",
    "- https://openf1.org/"
   ]
  },
  {
   "cell_type": "code",
   "execution_count": 2,
   "id": "8acc8e1e48c74d8b",
   "metadata": {
    "collapsed": false,
    "ExecuteTime": {
     "end_time": "2025-10-16T06:19:23.126575601Z",
     "start_time": "2025-10-16T06:19:23.112017764Z"
    }
   },
   "outputs": [
    {
     "data": {
      "text/plain": "     schema         dataset  \\\n0   staging    car_location   \n1   staging   car_telemetry   \n2   staging        circuits   \n3   staging        meetings   \n4   staging    race_control   \n5   staging  session_status   \n6   staging    track_status   \n7   staging        sessions   \n8   staging         weather   \n9   staging         results   \n10  staging    track_status   \n11  staging      team_radio   \n12  staging       pit_stops   \n13  staging        position   \n14  staging       intervals   \n\n                                           file_regex    delim  distinct  \n0   /home/miles/tyr/tests/datasets/car_location_se...        t      True  \n1   /home/miles/tyr/tests/datasets/car_telemetry_s...        t      True  \n2   /home/miles/tyr/tests/datasets/f1_circuits.geo...  geojson      True  \n3         /home/miles/tyr/tests/datasets/meetings.tsv        t      True  \n4   /home/miles/tyr/tests/datasets/race_control_se...        t      True  \n5   /home/miles/tyr/tests/datasets/session_status_...        t      True  \n6   /home/miles/tyr/tests/datasets/track_status_se...        t      True  \n7         /home/miles/tyr/tests/datasets/sessions.tsv        t      True  \n8   /home/miles/tyr/tests/datasets/weather_session...        t      True  \n9   /home/miles/tyr/tests/datasets/results_session...        t      True  \n10  /home/miles/tyr/tests/datasets/track_status_se...        t      True  \n11  /home/miles/tyr/tests/datasets/team_radio_sess...        t      True  \n12   /home/miles/tyr/tests/datasets/pit_session_*.tsv        t      True  \n13  /home/miles/tyr/tests/datasets/position_sessio...        t      True  \n14  /home/miles/tyr/tests/datasets/intervals_sessi...        t      True  ",
      "text/html": "<div>\n<style scoped>\n    .dataframe tbody tr th:only-of-type {\n        vertical-align: middle;\n    }\n\n    .dataframe tbody tr th {\n        vertical-align: top;\n    }\n\n    .dataframe thead th {\n        text-align: right;\n    }\n</style>\n<table border=\"1\" class=\"dataframe\">\n  <thead>\n    <tr style=\"text-align: right;\">\n      <th></th>\n      <th>schema</th>\n      <th>dataset</th>\n      <th>file_regex</th>\n      <th>delim</th>\n      <th>distinct</th>\n    </tr>\n  </thead>\n  <tbody>\n    <tr>\n      <th>0</th>\n      <td>staging</td>\n      <td>car_location</td>\n      <td>/home/miles/tyr/tests/datasets/car_location_se...</td>\n      <td>t</td>\n      <td>True</td>\n    </tr>\n    <tr>\n      <th>1</th>\n      <td>staging</td>\n      <td>car_telemetry</td>\n      <td>/home/miles/tyr/tests/datasets/car_telemetry_s...</td>\n      <td>t</td>\n      <td>True</td>\n    </tr>\n    <tr>\n      <th>2</th>\n      <td>staging</td>\n      <td>circuits</td>\n      <td>/home/miles/tyr/tests/datasets/f1_circuits.geo...</td>\n      <td>geojson</td>\n      <td>True</td>\n    </tr>\n    <tr>\n      <th>3</th>\n      <td>staging</td>\n      <td>meetings</td>\n      <td>/home/miles/tyr/tests/datasets/meetings.tsv</td>\n      <td>t</td>\n      <td>True</td>\n    </tr>\n    <tr>\n      <th>4</th>\n      <td>staging</td>\n      <td>race_control</td>\n      <td>/home/miles/tyr/tests/datasets/race_control_se...</td>\n      <td>t</td>\n      <td>True</td>\n    </tr>\n    <tr>\n      <th>5</th>\n      <td>staging</td>\n      <td>session_status</td>\n      <td>/home/miles/tyr/tests/datasets/session_status_...</td>\n      <td>t</td>\n      <td>True</td>\n    </tr>\n    <tr>\n      <th>6</th>\n      <td>staging</td>\n      <td>track_status</td>\n      <td>/home/miles/tyr/tests/datasets/track_status_se...</td>\n      <td>t</td>\n      <td>True</td>\n    </tr>\n    <tr>\n      <th>7</th>\n      <td>staging</td>\n      <td>sessions</td>\n      <td>/home/miles/tyr/tests/datasets/sessions.tsv</td>\n      <td>t</td>\n      <td>True</td>\n    </tr>\n    <tr>\n      <th>8</th>\n      <td>staging</td>\n      <td>weather</td>\n      <td>/home/miles/tyr/tests/datasets/weather_session...</td>\n      <td>t</td>\n      <td>True</td>\n    </tr>\n    <tr>\n      <th>9</th>\n      <td>staging</td>\n      <td>results</td>\n      <td>/home/miles/tyr/tests/datasets/results_session...</td>\n      <td>t</td>\n      <td>True</td>\n    </tr>\n    <tr>\n      <th>10</th>\n      <td>staging</td>\n      <td>track_status</td>\n      <td>/home/miles/tyr/tests/datasets/track_status_se...</td>\n      <td>t</td>\n      <td>True</td>\n    </tr>\n    <tr>\n      <th>11</th>\n      <td>staging</td>\n      <td>team_radio</td>\n      <td>/home/miles/tyr/tests/datasets/team_radio_sess...</td>\n      <td>t</td>\n      <td>True</td>\n    </tr>\n    <tr>\n      <th>12</th>\n      <td>staging</td>\n      <td>pit_stops</td>\n      <td>/home/miles/tyr/tests/datasets/pit_session_*.tsv</td>\n      <td>t</td>\n      <td>True</td>\n    </tr>\n    <tr>\n      <th>13</th>\n      <td>staging</td>\n      <td>position</td>\n      <td>/home/miles/tyr/tests/datasets/position_sessio...</td>\n      <td>t</td>\n      <td>True</td>\n    </tr>\n    <tr>\n      <th>14</th>\n      <td>staging</td>\n      <td>intervals</td>\n      <td>/home/miles/tyr/tests/datasets/intervals_sessi...</td>\n      <td>t</td>\n      <td>True</td>\n    </tr>\n  </tbody>\n</table>\n</div>"
     },
     "metadata": {},
     "output_type": "display_data"
    },
    {
     "data": {
      "text/plain": "{'car_location': <tyr.lineage.schema.source.FileMetadata at 0x7f90000658e0>,\n 'car_telemetry': <tyr.lineage.schema.source.FileMetadata at 0x7f900005f730>,\n 'circuits': <tyr.lineage.schema.source.FileMetadata at 0x7f8fa10cceb0>,\n 'meetings': <tyr.lineage.schema.source.FileMetadata at 0x7f8fa10cce80>,\n 'race_control': <tyr.lineage.schema.source.FileMetadata at 0x7f8fa1083160>,\n 'session_status': <tyr.lineage.schema.source.FileMetadata at 0x7f8fa10831f0>,\n 'track_status': <tyr.lineage.schema.source.FileMetadata at 0x7f8fa10832b0>,\n 'sessions': <tyr.lineage.schema.source.FileMetadata at 0x7f8fa10830d0>,\n 'weather': <tyr.lineage.schema.source.FileMetadata at 0x7f8fa1083070>,\n 'results': <tyr.lineage.schema.source.FileMetadata at 0x7f8fa1083220>,\n 'team_radio': <tyr.lineage.schema.source.FileMetadata at 0x7f8fa1083340>,\n 'pit_stops': <tyr.lineage.schema.source.FileMetadata at 0x7f8fa10830a0>,\n 'position': <tyr.lineage.schema.source.FileMetadata at 0x7f8fa1083460>,\n 'intervals': <tyr.lineage.schema.source.FileMetadata at 0x7f8fa10833d0>}"
     },
     "execution_count": 2,
     "metadata": {},
     "output_type": "execute_result"
    }
   ],
   "source": [
    "# This is the full process to read in file metadata. There is a function to do this in source called read_file_metadata\n",
    "\n",
    "file_metadata = pd.read_csv(\n",
    "    os.path.abspath(\n",
    "        os.path.join(os.getcwd(), \"..\", \"tests/configurations/file_metadata.tsv\")\n",
    "    ),\n",
    "    sep=\"\\t\",\n",
    ")\n",
    "\n",
    "display(file_metadata)\n",
    "\n",
    "file_metadata = {\n",
    "    row.dataset: tyr.lineage.schema.source.FileMetadata(row)\n",
    "    for index, row in file_metadata.iterrows()\n",
    "}\n",
    "\n",
    "file_metadata"
   ]
  },
  {
   "cell_type": "code",
   "execution_count": 3,
   "id": "38a5da7700e18b66",
   "metadata": {
    "collapsed": false,
    "ExecuteTime": {
     "end_time": "2025-10-16T06:19:24.038069288Z",
     "start_time": "2025-10-16T06:19:23.128920470Z"
    }
   },
   "outputs": [
    {
     "data": {
      "text/plain": "      schema       dataset    column_name column_alias     var_type  \\\n0    staging  car_location           Date     event_ts    timestamp   \n1    staging  car_location         Status       status  categorical   \n2    staging  car_location              X            x      numeric   \n3    staging  car_location              Y            y      numeric   \n4    staging  car_location              Z            z      numeric   \n..       ...           ...            ...          ...          ...   \n104  staging     intervals           date     event_ts    timestamp   \n105  staging     intervals    session_key                       key   \n106  staging     intervals  driver_number                       key   \n107  staging     intervals  gap_to_leader                   numeric   \n108  staging     intervals       interval                   numeric   \n\n         data_type on_null  is_primary_key  is_event_time filter_values  \\\n0        TIMESTAMP    PASS            True           True            []   \n1          VARCHAR    PASS           False          False            []   \n2    DECIMAL(15,5)    PASS           False          False            []   \n3    DECIMAL(15,5)    PASS           False          False            []   \n4    DECIMAL(15,5)    PASS           False          False            []   \n..             ...     ...             ...            ...           ...   \n104      TIMESTAMP    PASS            True           True            []   \n105        INTEGER    PASS            True          False            []   \n106        INTEGER    PASS            True          False            []   \n107          FLOAT    PASS           False          False            []   \n108          FLOAT    PASS           False          False            []   \n\n    on_filter                 regex source_unit target_unit scale_factor  \\\n0        PASS  %Y-%m-%d %H:%M:%S.%g                                        \n1        PASS                                                              \n2        PASS                               m^1                            \n3        PASS                               m^1                            \n4        PASS                               m^1                            \n..        ...                   ...         ...         ...          ...   \n104      PASS                                                              \n105      PASS                                                              \n106      PASS                                                              \n107      PASS                               s^1                            \n108      PASS                               s^1                            \n\n    precision  ordinal_position  \n0                             0  \n1                             2  \n2         1dp                 3  \n3         1dp                 4  \n4         1dp                 5  \n..        ...               ...  \n104                           0  \n105                           1  \n106                           2  \n107                           3  \n108                           4  \n\n[109 rows x 17 columns]",
      "text/html": "<div>\n<style scoped>\n    .dataframe tbody tr th:only-of-type {\n        vertical-align: middle;\n    }\n\n    .dataframe tbody tr th {\n        vertical-align: top;\n    }\n\n    .dataframe thead th {\n        text-align: right;\n    }\n</style>\n<table border=\"1\" class=\"dataframe\">\n  <thead>\n    <tr style=\"text-align: right;\">\n      <th></th>\n      <th>schema</th>\n      <th>dataset</th>\n      <th>column_name</th>\n      <th>column_alias</th>\n      <th>var_type</th>\n      <th>data_type</th>\n      <th>on_null</th>\n      <th>is_primary_key</th>\n      <th>is_event_time</th>\n      <th>filter_values</th>\n      <th>on_filter</th>\n      <th>regex</th>\n      <th>source_unit</th>\n      <th>target_unit</th>\n      <th>scale_factor</th>\n      <th>precision</th>\n      <th>ordinal_position</th>\n    </tr>\n  </thead>\n  <tbody>\n    <tr>\n      <th>0</th>\n      <td>staging</td>\n      <td>car_location</td>\n      <td>Date</td>\n      <td>event_ts</td>\n      <td>timestamp</td>\n      <td>TIMESTAMP</td>\n      <td>PASS</td>\n      <td>True</td>\n      <td>True</td>\n      <td>[]</td>\n      <td>PASS</td>\n      <td>%Y-%m-%d %H:%M:%S.%g</td>\n      <td></td>\n      <td></td>\n      <td></td>\n      <td></td>\n      <td>0</td>\n    </tr>\n    <tr>\n      <th>1</th>\n      <td>staging</td>\n      <td>car_location</td>\n      <td>Status</td>\n      <td>status</td>\n      <td>categorical</td>\n      <td>VARCHAR</td>\n      <td>PASS</td>\n      <td>False</td>\n      <td>False</td>\n      <td>[]</td>\n      <td>PASS</td>\n      <td></td>\n      <td></td>\n      <td></td>\n      <td></td>\n      <td></td>\n      <td>2</td>\n    </tr>\n    <tr>\n      <th>2</th>\n      <td>staging</td>\n      <td>car_location</td>\n      <td>X</td>\n      <td>x</td>\n      <td>numeric</td>\n      <td>DECIMAL(15,5)</td>\n      <td>PASS</td>\n      <td>False</td>\n      <td>False</td>\n      <td>[]</td>\n      <td>PASS</td>\n      <td></td>\n      <td>m^1</td>\n      <td></td>\n      <td></td>\n      <td>1dp</td>\n      <td>3</td>\n    </tr>\n    <tr>\n      <th>3</th>\n      <td>staging</td>\n      <td>car_location</td>\n      <td>Y</td>\n      <td>y</td>\n      <td>numeric</td>\n      <td>DECIMAL(15,5)</td>\n      <td>PASS</td>\n      <td>False</td>\n      <td>False</td>\n      <td>[]</td>\n      <td>PASS</td>\n      <td></td>\n      <td>m^1</td>\n      <td></td>\n      <td></td>\n      <td>1dp</td>\n      <td>4</td>\n    </tr>\n    <tr>\n      <th>4</th>\n      <td>staging</td>\n      <td>car_location</td>\n      <td>Z</td>\n      <td>z</td>\n      <td>numeric</td>\n      <td>DECIMAL(15,5)</td>\n      <td>PASS</td>\n      <td>False</td>\n      <td>False</td>\n      <td>[]</td>\n      <td>PASS</td>\n      <td></td>\n      <td>m^1</td>\n      <td></td>\n      <td></td>\n      <td>1dp</td>\n      <td>5</td>\n    </tr>\n    <tr>\n      <th>...</th>\n      <td>...</td>\n      <td>...</td>\n      <td>...</td>\n      <td>...</td>\n      <td>...</td>\n      <td>...</td>\n      <td>...</td>\n      <td>...</td>\n      <td>...</td>\n      <td>...</td>\n      <td>...</td>\n      <td>...</td>\n      <td>...</td>\n      <td>...</td>\n      <td>...</td>\n      <td>...</td>\n      <td>...</td>\n    </tr>\n    <tr>\n      <th>104</th>\n      <td>staging</td>\n      <td>intervals</td>\n      <td>date</td>\n      <td>event_ts</td>\n      <td>timestamp</td>\n      <td>TIMESTAMP</td>\n      <td>PASS</td>\n      <td>True</td>\n      <td>True</td>\n      <td>[]</td>\n      <td>PASS</td>\n      <td></td>\n      <td></td>\n      <td></td>\n      <td></td>\n      <td></td>\n      <td>0</td>\n    </tr>\n    <tr>\n      <th>105</th>\n      <td>staging</td>\n      <td>intervals</td>\n      <td>session_key</td>\n      <td></td>\n      <td>key</td>\n      <td>INTEGER</td>\n      <td>PASS</td>\n      <td>True</td>\n      <td>False</td>\n      <td>[]</td>\n      <td>PASS</td>\n      <td></td>\n      <td></td>\n      <td></td>\n      <td></td>\n      <td></td>\n      <td>1</td>\n    </tr>\n    <tr>\n      <th>106</th>\n      <td>staging</td>\n      <td>intervals</td>\n      <td>driver_number</td>\n      <td></td>\n      <td>key</td>\n      <td>INTEGER</td>\n      <td>PASS</td>\n      <td>True</td>\n      <td>False</td>\n      <td>[]</td>\n      <td>PASS</td>\n      <td></td>\n      <td></td>\n      <td></td>\n      <td></td>\n      <td></td>\n      <td>2</td>\n    </tr>\n    <tr>\n      <th>107</th>\n      <td>staging</td>\n      <td>intervals</td>\n      <td>gap_to_leader</td>\n      <td></td>\n      <td>numeric</td>\n      <td>FLOAT</td>\n      <td>PASS</td>\n      <td>False</td>\n      <td>False</td>\n      <td>[]</td>\n      <td>PASS</td>\n      <td></td>\n      <td>s^1</td>\n      <td></td>\n      <td></td>\n      <td></td>\n      <td>3</td>\n    </tr>\n    <tr>\n      <th>108</th>\n      <td>staging</td>\n      <td>intervals</td>\n      <td>interval</td>\n      <td></td>\n      <td>numeric</td>\n      <td>FLOAT</td>\n      <td>PASS</td>\n      <td>False</td>\n      <td>False</td>\n      <td>[]</td>\n      <td>PASS</td>\n      <td></td>\n      <td>s^1</td>\n      <td></td>\n      <td></td>\n      <td></td>\n      <td>4</td>\n    </tr>\n  </tbody>\n</table>\n<p>109 rows × 17 columns</p>\n</div>"
     },
     "metadata": {},
     "output_type": "display_data"
    },
    {
     "data": {
      "text/plain": "{'car_location': {'Date': <tyr.lineage.schema.source.ColumnMetadata at 0x7f8fa108e550>,\n  'Status': <tyr.lineage.schema.source.ColumnMetadata at 0x7f8fa108e520>,\n  'X': <tyr.lineage.schema.source.ColumnMetadata at 0x7f8fa10322b0>,\n  'Y': <tyr.lineage.schema.source.ColumnMetadata at 0x7f8fa1032850>,\n  'Z': <tyr.lineage.schema.source.ColumnMetadata at 0x7f8fa10449a0>,\n  'Source': <tyr.lineage.schema.source.ColumnMetadata at 0x7f8fa1032a30>,\n  'Time': <tyr.lineage.schema.source.ColumnMetadata at 0x7f8fa1032a00>,\n  'SessionTime': <tyr.lineage.schema.source.ColumnMetadata at 0x7f8fa103ea90>,\n  'DriverNumber': <tyr.lineage.schema.source.ColumnMetadata at 0x7f8fa1037370>},\n 'car_telemetry': {'Date': <tyr.lineage.schema.source.ColumnMetadata at 0x7f8fa10370a0>,\n  'RPM': <tyr.lineage.schema.source.ColumnMetadata at 0x7f8fa1037580>,\n  'Speed': <tyr.lineage.schema.source.ColumnMetadata at 0x7f8fa1044580>,\n  'nGear': <tyr.lineage.schema.source.ColumnMetadata at 0x7f8fa1044550>,\n  'Throttle': <tyr.lineage.schema.source.ColumnMetadata at 0x7f8fa1044370>,\n  'Brake': <tyr.lineage.schema.source.ColumnMetadata at 0x7f8f999c46a0>,\n  'DRS': <tyr.lineage.schema.source.ColumnMetadata at 0x7f8f999c4a30>,\n  'Source': <tyr.lineage.schema.source.ColumnMetadata at 0x7f8f999cdaf0>,\n  'Time': <tyr.lineage.schema.source.ColumnMetadata at 0x7f8f999cdd90>,\n  'SessionTime': <tyr.lineage.schema.source.ColumnMetadata at 0x7f8f999d7040>,\n  'DriverNumber': <tyr.lineage.schema.source.ColumnMetadata at 0x7f8f999d7640>},\n 'meetings': {'Key': <tyr.lineage.schema.source.ColumnMetadata at 0x7f8fa1085dc0>,\n  'Name': <tyr.lineage.schema.source.ColumnMetadata at 0x7f8fa1085f10>,\n  'OfficialName': <tyr.lineage.schema.source.ColumnMetadata at 0x7f8f999dc3a0>,\n  'Location': <tyr.lineage.schema.source.ColumnMetadata at 0x7f8f999dc040>,\n  'CountryKey': <tyr.lineage.schema.source.ColumnMetadata at 0x7f8f999df160>,\n  'CountryCode': <tyr.lineage.schema.source.ColumnMetadata at 0x7f8f999df130>,\n  'CountryName': <tyr.lineage.schema.source.ColumnMetadata at 0x7f8f999df6a0>,\n  'CircuitKey': <tyr.lineage.schema.source.ColumnMetadata at 0x7f8f999e2070>,\n  'CircuitShortName': <tyr.lineage.schema.source.ColumnMetadata at 0x7f8f999e2040>},\n 'race_control': {'Time': <tyr.lineage.schema.source.ColumnMetadata at 0x7f8fa1085a60>,\n  'Category': <tyr.lineage.schema.source.ColumnMetadata at 0x7f8fa1083c40>,\n  'Message': <tyr.lineage.schema.source.ColumnMetadata at 0x7f8f999e6370>,\n  'Status': <tyr.lineage.schema.source.ColumnMetadata at 0x7f8f999e6040>,\n  'Flag': <tyr.lineage.schema.source.ColumnMetadata at 0x7f8f999ec040>,\n  'Scope': <tyr.lineage.schema.source.ColumnMetadata at 0x7f8f999ec610>,\n  'Sector': <tyr.lineage.schema.source.ColumnMetadata at 0x7f8f999ec640>,\n  'RacingNumber': <tyr.lineage.schema.source.ColumnMetadata at 0x7f8f999f0040>,\n  'Lap': <tyr.lineage.schema.source.ColumnMetadata at 0x7f8f999f0610>},\n 'track_status': {'Time': <tyr.lineage.schema.source.ColumnMetadata at 0x7f8fa108ed60>,\n  'Status': <tyr.lineage.schema.source.ColumnMetadata at 0x7f8fa1ce7070>,\n  'Message': <tyr.lineage.schema.source.ColumnMetadata at 0x7f8f999f5370>},\n 'sessions': {'Key': <tyr.lineage.schema.source.ColumnMetadata at 0x7f8f999d7f10>,\n  'Type': <tyr.lineage.schema.source.ColumnMetadata at 0x7f8f999d7e20>,\n  'Name': <tyr.lineage.schema.source.ColumnMetadata at 0x7f8f999f9370>,\n  'StartDate': <tyr.lineage.schema.source.ColumnMetadata at 0x7f8f999f9040>,\n  'EndDate': <tyr.lineage.schema.source.ColumnMetadata at 0x7f8f999fc0d0>,\n  'GmtOffset': <tyr.lineage.schema.source.ColumnMetadata at 0x7f8f999fc610>,\n  'Path': <tyr.lineage.schema.source.ColumnMetadata at 0x7f8f999fc640>},\n 'weather': {'SessionKey': <tyr.lineage.schema.source.ColumnMetadata at 0x7f8fa0fd7370>,\n  'Time': <tyr.lineage.schema.source.ColumnMetadata at 0x7f8fa0fd7040>,\n  'AirTemp': <tyr.lineage.schema.source.ColumnMetadata at 0x7f8fa0fd78b0>,\n  'Humidity': <tyr.lineage.schema.source.ColumnMetadata at 0x7f8fa0fdb040>,\n  'Pressure': <tyr.lineage.schema.source.ColumnMetadata at 0x7f8fa0fdbe80>,\n  'Rainfall': <tyr.lineage.schema.source.ColumnMetadata at 0x7f8fa0fdb640>,\n  'TrackTemp': <tyr.lineage.schema.source.ColumnMetadata at 0x7f8fa1049250>,\n  'WindDirection': <tyr.lineage.schema.source.ColumnMetadata at 0x7f8fa1049310>,\n  'WindSpeed': <tyr.lineage.schema.source.ColumnMetadata at 0x7f8f999dab50>},\n 'circuits': {'id': <tyr.lineage.schema.source.ColumnMetadata at 0x7f8f999daca0>,\n  'Location': <tyr.lineage.schema.source.ColumnMetadata at 0x7f8f999da130>,\n  'Name': <tyr.lineage.schema.source.ColumnMetadata at 0x7f8fa0ffd790>,\n  'opened': <tyr.lineage.schema.source.ColumnMetadata at 0x7f8fa0ffd700>,\n  'firstgp': <tyr.lineage.schema.source.ColumnMetadata at 0x7f8fa1004100>,\n  'length': <tyr.lineage.schema.source.ColumnMetadata at 0x7f8fa1004190>,\n  'altitude': <tyr.lineage.schema.source.ColumnMetadata at 0x7f8fa10046d0>,\n  'geom': <tyr.lineage.schema.source.ColumnMetadata at 0x7f8fa100b5b0>},\n 'results': {'SessionKey': <tyr.lineage.schema.source.ColumnMetadata at 0x7f8fa100b7c0>,\n  'DriverNumber': <tyr.lineage.schema.source.ColumnMetadata at 0x7f8fa100bbe0>,\n  'BroadcastName': <tyr.lineage.schema.source.ColumnMetadata at 0x7f8fa10060a0>,\n  'Abbreviation': <tyr.lineage.schema.source.ColumnMetadata at 0x7f8fa1006f70>,\n  'DriverId': <tyr.lineage.schema.source.ColumnMetadata at 0x7f8f9a78b370>,\n  'TeamName': <tyr.lineage.schema.source.ColumnMetadata at 0x7f8f9a78b580>,\n  'TeamColor': <tyr.lineage.schema.source.ColumnMetadata at 0x7f8f9a78b5b0>,\n  'TeamId': <tyr.lineage.schema.source.ColumnMetadata at 0x7f8f9a78c3a0>,\n  'FirstName': <tyr.lineage.schema.source.ColumnMetadata at 0x7f8f9a78c5b0>,\n  'LastName': <tyr.lineage.schema.source.ColumnMetadata at 0x7f8f9a78c5e0>,\n  'FullName': <tyr.lineage.schema.source.ColumnMetadata at 0x7f8f9a78e3a0>,\n  'HeadshotUrl': <tyr.lineage.schema.source.ColumnMetadata at 0x7f8f9a78e5b0>,\n  'CountryCode': <tyr.lineage.schema.source.ColumnMetadata at 0x7f8f9a78e5e0>,\n  'Position': <tyr.lineage.schema.source.ColumnMetadata at 0x7f8f9a7903a0>,\n  'ClassifiedPosition': <tyr.lineage.schema.source.ColumnMetadata at 0x7f8f9a7905b0>,\n  'GridPosition': <tyr.lineage.schema.source.ColumnMetadata at 0x7f8f9a7905e0>,\n  'Q1': <tyr.lineage.schema.source.ColumnMetadata at 0x7f8f9a7953a0>,\n  'Q2': <tyr.lineage.schema.source.ColumnMetadata at 0x7f8f9a7955b0>,\n  'Q3': <tyr.lineage.schema.source.ColumnMetadata at 0x7f8f9a7955e0>,\n  'Time': <tyr.lineage.schema.source.ColumnMetadata at 0x7f8f9a7993a0>,\n  'Status': <tyr.lineage.schema.source.ColumnMetadata at 0x7f8f9a7995b0>,\n  'Points': <tyr.lineage.schema.source.ColumnMetadata at 0x7f8f9a7995e0>,\n  'Laps': <tyr.lineage.schema.source.ColumnMetadata at 0x7f8f9a79e3a0>},\n 'session_status': {'SessionKey': <tyr.lineage.schema.source.ColumnMetadata at 0x7f8f9a79e850>,\n  'Time': <tyr.lineage.schema.source.ColumnMetadata at 0x7f8f9a79e5b0>,\n  'Status': <tyr.lineage.schema.source.ColumnMetadata at 0x7f8f9a7a13a0>},\n 'team_radio': {'session_key': <tyr.lineage.schema.source.ColumnMetadata at 0x7f8f9a7a1850>,\n  'driver_number': <tyr.lineage.schema.source.ColumnMetadata at 0x7f8f9a7a15b0>,\n  'date': <tyr.lineage.schema.source.ColumnMetadata at 0x7f8f9a7a53a0>,\n  'recording_url': <tyr.lineage.schema.source.ColumnMetadata at 0x7f8f9a7a55b0>},\n 'pit_stops': {'date': <tyr.lineage.schema.source.ColumnMetadata at 0x7f8f999f0f40>,\n  'session_key': <tyr.lineage.schema.source.ColumnMetadata at 0x7f8f999f0ee0>,\n  'driver_number': <tyr.lineage.schema.source.ColumnMetadata at 0x7f8f9a7a9310>,\n  'pit_duration': <tyr.lineage.schema.source.ColumnMetadata at 0x7f8f9a7a93a0>,\n  'lap_number': <tyr.lineage.schema.source.ColumnMetadata at 0x7f8f9a7b13a0>},\n 'position': {'date': <tyr.lineage.schema.source.ColumnMetadata at 0x7f8f9a7b1850>,\n  'session_key': <tyr.lineage.schema.source.ColumnMetadata at 0x7f8f9a7b15b0>,\n  'driver_number': <tyr.lineage.schema.source.ColumnMetadata at 0x7f8f9a7b1c40>,\n  'position': <tyr.lineage.schema.source.ColumnMetadata at 0x7f8f9a7b5580>},\n 'intervals': {'date': <tyr.lineage.schema.source.ColumnMetadata at 0x7f8f9a7c30d0>,\n  'session_key': <tyr.lineage.schema.source.ColumnMetadata at 0x7f8f9a7a55e0>,\n  'driver_number': <tyr.lineage.schema.source.ColumnMetadata at 0x7f8f9a7c3760>,\n  'gap_to_leader': <tyr.lineage.schema.source.ColumnMetadata at 0x7f8f9a7c30a0>,\n  'interval': <tyr.lineage.schema.source.ColumnMetadata at 0x7f8fa0f942b0>}}"
     },
     "execution_count": 3,
     "metadata": {},
     "output_type": "execute_result"
    }
   ],
   "source": [
    "# This is the full process to read in column metadata. There is a function to do this in source called read_column_metadata\n",
    "column_metadata = pd.read_csv(\n",
    "    os.path.abspath(\n",
    "        os.path.join(os.getcwd(), \"..\", \"tests/configurations/column_metadata.tsv\")\n",
    "    ),\n",
    "    sep=\"\\t\",\n",
    ")\n",
    "\n",
    "column_metadata[\"ordinal_position\"] = column_metadata[\"ordinal_position\"].astype(int)\n",
    "\n",
    "column_metadata[\"is_primary_key\"] = column_metadata[\"is_primary_key\"].astype(bool)\n",
    "\n",
    "column_metadata[\"is_event_time\"] = column_metadata[\"is_event_time\"].astype(bool)\n",
    "\n",
    "column_metadata[\"filter_values\"] = column_metadata[\"filter_values\"].fillna(\"[]\")\n",
    "\n",
    "for column in [\n",
    "    column\n",
    "    for column in column_metadata.columns.tolist()\n",
    "    if column\n",
    "    not in [\"ordinal_position\", \"is_primary_key\", \"is_event_time\", \"filter_values\"]\n",
    "]:\n",
    "    column_metadata[column] = column_metadata[column].fillna(\"\")\n",
    "    column_metadata[column] = column_metadata[column].astype(str)\n",
    "\n",
    "display(column_metadata)\n",
    "\n",
    "column_metadata = {\n",
    "    dataset: {\n",
    "        row.column_name: tyr.lineage.schema.source.ColumnMetadata(row)\n",
    "        for index, row in column_metadata[\n",
    "            column_metadata[\"dataset\"] == dataset\n",
    "        ].iterrows()\n",
    "    }\n",
    "    for dataset in column_metadata.dataset.unique()\n",
    "}\n",
    "\n",
    "column_metadata"
   ]
  },
  {
   "cell_type": "markdown",
   "id": "9ec470823cfd00f1",
   "metadata": {
    "collapsed": false
   },
   "source": [
    "_________________________________________________________________________________________________________________\n",
    "# Editing Metadata\n",
    "\n",
    "We're going to build source to illustrate how column metadata affects the construction of a staging table.\n",
    "\n",
    "**This is bad practice.** \n",
    "\n",
    "Always update column and file metadata in the configuration files and rebuild from\n",
    "the configuration files. We're only doing this to demonstrate how changing column metadata\n",
    "changes the staging query."
   ]
  },
  {
   "cell_type": "code",
   "execution_count": 4,
   "id": "3c5b5d7d7e7146aa",
   "metadata": {
    "collapsed": false,
    "ExecuteTime": {
     "end_time": "2025-10-16T06:19:24.256208985Z",
     "start_time": "2025-10-16T06:19:24.041784352Z"
    }
   },
   "outputs": [
    {
     "name": "stdout",
     "output_type": "stream",
     "text": [
      "Query with 1dp precision\n",
      "SELECT ROUND(TRY_CAST(\"X\" AS DECIMAL(15, 5)), 1) AS x\n",
      "FROM\n",
      "  (SELECT DISTINCT *\n",
      "   FROM READ_CSV(CAST('/home/miles/tyr/tests/datasets/car_location_session_*.tsv' AS VARCHAR), union_by_name=TRUE, header=TRUE, all_varchar=TRUE)) AS car_location\n",
      "\n",
      "\n",
      "Query with 0dp precision\n",
      "SELECT ROUND(TRY_CAST(\"X\" AS DECIMAL(15, 5)), 0) AS x\n",
      "FROM\n",
      "  (SELECT DISTINCT *\n",
      "   FROM READ_CSV(CAST('/home/miles/tyr/tests/datasets/car_location_session_*.tsv' AS VARCHAR), union_by_name=TRUE, header=TRUE, all_varchar=TRUE)) AS car_location\n"
     ]
    }
   ],
   "source": [
    "source = tyr.lineage.schema.source.Source(\n",
    "    settings=tyr.lineage.schema.source.SourceSettings(\n",
    "        file_metadata=file_metadata,\n",
    "        expected_column_metadata=column_metadata,\n",
    "        extensions=[\"spatial\"],\n",
    "    )\n",
    ")\n",
    "\n",
    "# Staging columns are built using a function called lineage.macros.columns.staging_column_transform()\n",
    "# Here, we will call it on a single source column.\n",
    "\n",
    "car_location_subquery = tyr.lineage.tables.Subquery(source.tables.car_location)\n",
    "\n",
    "source_table = tyr.lineage.tables.Core(\n",
    "    name=\"test_column_metadata_change\",\n",
    "    source=car_location_subquery,\n",
    "    columns=tyr.lineage.core.ColumnList(\n",
    "        [\n",
    "            tyr.lineage.macros.columns.staging_column_transform(\n",
    "                tyr.lineage.tables.Select(\n",
    "                    source.tables.car_location\n",
    "                ).columns.list_columns_()[0],\n",
    "                source.tables.car_location.expected_column_metadata[\"X\"],\n",
    "            )\n",
    "        ]\n",
    "    ),\n",
    ")\n",
    "\n",
    "print(\"Query with 1dp precision\")\n",
    "print(source_table.sql)\n",
    "\n",
    "# Let's update the precision of X from 1dp to 0dp\n",
    "source.tables.car_location.expected_column_metadata[\"X\"].precision = \"0dp\"\n",
    "\n",
    "# Any object downstream relying on this information must be reinitialized\n",
    "source_table = tyr.lineage.tables.Core(\n",
    "    name=\"test_column_metadata_change\",\n",
    "    source=car_location_subquery,\n",
    "    columns=tyr.lineage.core.ColumnList(\n",
    "        [\n",
    "            tyr.lineage.macros.columns.staging_column_transform(\n",
    "                tyr.lineage.tables.Select(\n",
    "                    source.tables.car_location\n",
    "                ).columns.list_columns_()[0],\n",
    "                source.tables.car_location.expected_column_metadata[\"X\"],\n",
    "            )\n",
    "        ]\n",
    "    ),\n",
    ")\n",
    "\n",
    "print(\"\\n\")\n",
    "print(\"Query with 0dp precision\")\n",
    "print(source_table.sql)\n",
    "\n",
    "# Note that re-running this cell without the following line does not reset the column precision to 0dp\n",
    "# This is because the column metadata has not been re-read from file\n",
    "source.tables.car_location.expected_column_metadata[\"X\"].precision = \"1dp\""
   ]
  },
  {
   "cell_type": "markdown",
   "id": "735c97775be1d1e0",
   "metadata": {
    "collapsed": false
   },
   "source": [
    "Experiment with changing parameters in the configuration files:\n",
    "- <code>tyr/test/configurations/column_metadata.tsv</code>\n",
    "- <code>tyr/test/configurations/file_metadata.tsv</code>\n",
    "\n",
    "A full list of parameters can be queried in the ColumnMetadata object docs\n",
    "\n"
   ]
  },
  {
   "cell_type": "code",
   "execution_count": 5,
   "id": "69cedaed2c08d672",
   "metadata": {
    "collapsed": false,
    "ExecuteTime": {
     "end_time": "2025-10-16T06:19:24.290896633Z",
     "start_time": "2025-10-16T06:19:24.248532768Z"
    }
   },
   "outputs": [
    {
     "name": "stdout",
     "output_type": "stream",
     "text": [
      "\n",
      "    The ColumnMetadata object takes the following pd.Series as an argument\n",
      "\n",
      "    :param schema: Schema containing table\n",
      "    :type schema: str\n",
      "    :param dataset: Dataset name. Will be used as table name in schema\n",
      "    :type dataset: str\n",
      "    :param column_name: Column name in source.\n",
      "    :type column_name: str\n",
      "    :param column_alias: Column alias.\n",
      "    :type column_alias: str\n",
      "    :param var_type: Options: Variable type. Used to determine which validation tests are run.\n",
      "     ``'numeric'``/``'categorical'``/``'string'``/``'timedelta'``/``'datetime'``/``'key'``/``'sequential'``/``''``\n",
      "     Default: ``''``\n",
      "    :type var_type: str\n",
      "    :param data_type: SQL data_type of column to cast to\n",
      "    :type data_type: str\n",
      "    :param source_unit: Unit of measurement of column in source file. Default: ``''``\n",
      "    :type source_unit: str\n",
      "    :param target_unit: Target unit of measurement to convert to in source table. Default: ``''``\n",
      "    :type target_unit: str\n",
      "    :param precision: Precision to round column to. Options: ``'{n}dp'``/``'{n}sf'`` Default: ``''``\n",
      "    :type precision: str\n",
      "    :param scale_factor: Value to multiply column by to scale to source_unit. Default: ``''``\n",
      "    :type scale_factor: float\n",
      "    :param filter_values: Values to filter. Default: ``''``\n",
      "    :type filter_values: List[Any]\n",
      "    :param on_filter: Behaviour on filter value. Options: ``'PASS'``/``'FAIL'``/``'WARN'``/``'SKIP'`` Default: ``'PASS'``\n",
      "    :type on_filter: str\n",
      "    :param on_null: Behaviour on NULL value. Options: ``'PASS'``/``'FAIL'``/``'WARN'``/``'SKIP'`` Default: ``'PASS'``\n",
      "    :type on_null: str\n",
      "    :param is_primary_key: Default: ``False``\n",
      "    :type is_primary_key: bool\n",
      "    :param is_event_time: Default: ``False``\n",
      "    :type is_event_time: bool\n",
      "    :param regex: Default: ``''``\n",
      "    :type regex: str\n",
      "    :param ordinal_position: Column order\n",
      "    :type ordinal_position: int\n",
      "    \n"
     ]
    }
   ],
   "source": [
    "print(tyr.lineage.schema.source.ColumnMetadata.__doc__)"
   ]
  },
  {
   "cell_type": "markdown",
   "id": "37afb623bfdfdae0",
   "metadata": {
    "collapsed": false
   },
   "source": [
    "________________________________________________________________________________________________________________\n",
    "# Building Source & Staging\n",
    "\n",
    "<p>Now that we have our metadata objects read in, we can construct source and staging. It is importand to note that, although source takes <code>expected_column_metadata</code> as an argument, this isn't used in the construction of the sql query. It is stored within the source table object and used downstream by staging. The <code>SourceSettings</code> and <code>StagingSettings</code> objects are required for their respective schemas to read in the information correctly. The <code>extensions</code> parameter is used to install any necessary duckdb extensions. In this case, <code>spatial</code> will be required as geometry objects exist in the files.</p>"
   ]
  },
  {
   "cell_type": "code",
   "execution_count": 6,
   "id": "initial_id",
   "metadata": {
    "collapsed": true,
    "jupyter": {
     "outputs_hidden": true
    },
    "ExecuteTime": {
     "end_time": "2025-10-16T06:19:26.521833534Z",
     "start_time": "2025-10-16T06:19:24.289620648Z"
    }
   },
   "outputs": [],
   "source": [
    "source = tyr.lineage.schema.source.Source(\n",
    "    settings=tyr.lineage.schema.source.SourceSettings(\n",
    "        file_metadata=file_metadata,\n",
    "        expected_column_metadata=column_metadata,\n",
    "        extensions=[\"spatial\"],\n",
    "    )\n",
    ")\n",
    "\n",
    "staging = tyr.lineage.schema.staging.Staging(\n",
    "    source=source,\n",
    "    settings=tyr.lineage.schema.staging.StagingSettings(\n",
    "        name=\"staging\", extensions=[\"spatial\"]\n",
    "    ),\n",
    ")"
   ]
  },
  {
   "cell_type": "markdown",
   "id": "66715bbff2c7743b",
   "metadata": {
    "collapsed": false
   },
   "source": [
    "_________________________________________________________________________________________________________\n",
    "# Saving schemas\n",
    "\n",
    "We can save schemas to recall them in other files without re-reading metadata. \n",
    "Note that this will mean that changing the metadata files will not update the schema. \n",
    "Only recreating them from the files will do this.\n",
    "\n",
    "This practice is useful for version controlling schemas."
   ]
  },
  {
   "cell_type": "code",
   "execution_count": 7,
   "id": "ebba0ce076d3fc4c",
   "metadata": {
    "collapsed": false,
    "ExecuteTime": {
     "end_time": "2025-10-16T06:19:26.634121574Z",
     "start_time": "2025-10-16T06:19:26.523954715Z"
    }
   },
   "outputs": [],
   "source": [
    "# Note that after this operation, the saved schema will appear in the tests/saved_schema/ directory\n",
    "source.save(os.path.abspath(os.path.join(os.getcwd(), \"..\", \"tests/saved_schema\")))\n",
    "staging.save(os.path.abspath(os.path.join(os.getcwd(), \"..\", \"tests/saved_schema\")))\n",
    "\n",
    "source = tyr.lineage.schema.core.load_schema_from_pkl(\n",
    "    os.path.abspath(os.path.join(os.getcwd(), \"..\", \"tests/saved_schema/source.pkl\"))\n",
    ")\n",
    "staging = tyr.lineage.schema.core.load_schema_from_pkl(\n",
    "    os.path.abspath(os.path.join(os.getcwd(), \"..\", \"tests/saved_schema/staging.pkl\"))\n",
    ")"
   ]
  },
  {
   "cell_type": "markdown",
   "id": "9c6629905aa63f49",
   "metadata": {
    "collapsed": false
   },
   "source": [
    "___________________________________________________________________________________________________________________________________________________\n",
    "# Interacting with lineage objects\n",
    "<p>Now we can interact with the table objects and retrieve their attributes as follows: </p>"
   ]
  },
  {
   "cell_type": "code",
   "execution_count": 8,
   "id": "36fe8644c649e044",
   "metadata": {
    "collapsed": false,
    "ExecuteTime": {
     "end_time": "2025-10-16T06:19:26.675703763Z",
     "start_time": "2025-10-16T06:19:26.637047421Z"
    }
   },
   "outputs": [
    {
     "name": "stdout",
     "output_type": "stream",
     "text": [
      "\n",
      "\n",
      "Table name: sessions\n",
      "\n",
      "\n",
      "Column Names:\n",
      "['session_key', 'type', 'name', 'start_date', 'end_date', 'gmt_offset', 'path']\n",
      "\n",
      "\n",
      "Column from attribute name:\n",
      "{'source': <tyr.lineage.functions.datetime.StringToTimestamp object at 0x7f8fa06c0700>, 'name': 'start_date', 'data_type': <tyr.lineage.values.Datatype object at 0x7f8fa06c0b50>, 'var_type': 'timestamp', 'on_null': 'PASS', 'is_primary_key': False, 'is_event_time': False, 'current_table': <tyr.lineage.tables.Core object at 0x7f8fa06acb80>, 'unit': <units.core.Unit object at 0x7f8fa0af73d0>, 'sql': 'STRPTIME(TRY_CAST(\"StartDate\" AS VARCHAR), CAST(\\'%Y-%m-%d %H:%M:%S\\' AS VARCHAR))', '_node_data': {'label': 'start_date', 'name': 'start_date', 'data_type': 'TIMESTAMP', 'var_type': 'timestamp', 'type': \"<class 'tyr.lineage.columns.Core'>\", 'base': \"<class 'tyr.lineage.core._Column'>\", 'unit': '', 'macro_group': '', 'sql': 'STRPTIME(TRY_CAST(\"StartDate\" AS VARCHAR), CAST(\\'%Y-%m-%d %H:%M:%S\\' AS VARCHAR))'}, 'graph': <tyr.lineage.core.LineageGraph object at 0x7f8fa06c0c40>}\n",
      "\n",
      "\n",
      "Column from string index:\n",
      "{'source': <tyr.lineage.functions.datetime.StringToTimestamp object at 0x7f8fa06c0700>, 'name': 'start_date', 'data_type': <tyr.lineage.values.Datatype object at 0x7f8fa06c0b50>, 'var_type': 'timestamp', 'on_null': 'PASS', 'is_primary_key': False, 'is_event_time': False, 'current_table': <tyr.lineage.tables.Core object at 0x7f8fa06acb80>, 'unit': <units.core.Unit object at 0x7f8fa0af73d0>, 'sql': 'STRPTIME(TRY_CAST(\"StartDate\" AS VARCHAR), CAST(\\'%Y-%m-%d %H:%M:%S\\' AS VARCHAR))', '_node_data': {'label': 'start_date', 'name': 'start_date', 'data_type': 'TIMESTAMP', 'var_type': 'timestamp', 'type': \"<class 'tyr.lineage.columns.Core'>\", 'base': \"<class 'tyr.lineage.core._Column'>\", 'unit': '', 'macro_group': '', 'sql': 'STRPTIME(TRY_CAST(\"StartDate\" AS VARCHAR), CAST(\\'%Y-%m-%d %H:%M:%S\\' AS VARCHAR))'}, 'graph': <tyr.lineage.core.LineageGraph object at 0x7f8fa06c0c40>}\n",
      "\n",
      "\n",
      "Primary Key:\n",
      "['session_key']\n",
      "\n",
      "\n",
      "SQL:\n",
      "SELECT DISTINCT TRY_CAST(\"Key\" AS INT) AS session_key,\n",
      "                TRY_CAST(\"Type\" AS VARCHAR) AS type,\n",
      "                TRY_CAST(\"Name\" AS VARCHAR) AS name,\n",
      "                STRPTIME(TRY_CAST(\"StartDate\" AS VARCHAR), CAST('%Y-%m-%d %H:%M:%S' AS VARCHAR)) AS start_date,\n",
      "                STRPTIME(TRY_CAST(\"EndDate\" AS VARCHAR), CAST('%Y-%m-%d %H:%M:%S' AS VARCHAR)) AS end_date,\n",
      "                TRY_CAST(\"GmtOffset\" AS INTERVAL) AS gmt_offset,\n",
      "                TRY_CAST(\"Path\" AS VARCHAR) AS path\n",
      "FROM source.sessions AS sessions\n",
      "\n",
      "\n",
      "Schema name:\n",
      "staging\n",
      "\n",
      "\n",
      "Source table name:\n",
      "source.sessions\n"
     ]
    }
   ],
   "source": [
    "# Retrieve name\n",
    "print(\"\\n\")\n",
    "print(rf\"Table name: {staging.tables.sessions.name}\")\n",
    "\n",
    "# Retrieve column names\n",
    "print(\"\\n\")\n",
    "print(\"Column Names:\")\n",
    "print(staging.tables.sessions.columns.list_names_())\n",
    "\n",
    "# Column attributes can be achieved through attribute name or string indexing\n",
    "print(\"\\n\")\n",
    "print(\"Column from attribute name:\")\n",
    "print(staging.tables.sessions.columns.start_date.__dict__)\n",
    "\n",
    "print(\"\\n\")\n",
    "print(\"Column from string index:\")\n",
    "print(staging.tables.sessions.columns[\"start_date\"].__dict__)\n",
    "\n",
    "# Retrieve primary key\n",
    "print(\"\\n\")\n",
    "print(\"Primary Key:\")\n",
    "print(staging.tables.sessions.primary_key.list_names_())\n",
    "\n",
    "# Retrieve query\n",
    "print(\"\\n\")\n",
    "print(\"SQL:\")\n",
    "print(staging.tables.sessions.sql)\n",
    "\n",
    "# Retrieve schema of table\n",
    "print(\"\\n\")\n",
    "print(\"Schema name:\")\n",
    "print(staging.tables.sessions.schema.name)\n",
    "\n",
    "# Retrieve name of source table with schema\n",
    "print(\"\\n\")\n",
    "print(\"Source table name:\")\n",
    "print(\n",
    "    rf\"{staging.tables.sessions.source.schema.name}.{staging.tables.sessions.source.name}\"\n",
    ")"
   ]
  },
  {
   "cell_type": "markdown",
   "id": "a45f56c4379e9cd9",
   "metadata": {
    "collapsed": false
   },
   "source": [
    "______________________________________________________________________________________________________________________________________________________\n",
    "# Retreiving attributes to root\n",
    "Attributes can be chained until no root attribute exists"
   ]
  },
  {
   "cell_type": "code",
   "execution_count": 9,
   "id": "8f7316bb1a9ef1a",
   "metadata": {
    "collapsed": false,
    "ExecuteTime": {
     "end_time": "2025-10-16T06:19:26.675893392Z",
     "start_time": "2025-10-16T06:19:26.675387514Z"
    }
   },
   "outputs": [
    {
     "name": "stdout",
     "output_type": "stream",
     "text": [
      "<tyr.lineage.schema.staging.Staging object at 0x7f8f9e45be80>\n",
      "staging\n"
     ]
    }
   ],
   "source": [
    "# Schema\n",
    "print(staging)\n",
    "print(staging.name)"
   ]
  },
  {
   "cell_type": "code",
   "execution_count": 10,
   "id": "ad9d0b87b4a1d751",
   "metadata": {
    "collapsed": false,
    "ExecuteTime": {
     "end_time": "2025-10-16T06:19:26.677609164Z",
     "start_time": "2025-10-16T06:19:26.675534773Z"
    }
   },
   "outputs": [
    {
     "name": "stdout",
     "output_type": "stream",
     "text": [
      "<tyr.lineage.core.TableList object at 0x7f8fa0ae8a90>\n",
      "['car_location', 'car_telemetry', 'circuits', 'meetings', 'race_control', 'session_status', 'track_status', 'sessions', 'weather', 'results', 'team_radio', 'pit_stops', 'position', 'intervals']\n"
     ]
    }
   ],
   "source": [
    "# Schema tables\n",
    "print(staging.tables)\n",
    "print(staging.tables.list_names_())"
   ]
  },
  {
   "cell_type": "code",
   "execution_count": 11,
   "id": "dcb8718a494491f1",
   "metadata": {
    "collapsed": false,
    "ExecuteTime": {
     "end_time": "2025-10-16T06:19:26.677763784Z",
     "start_time": "2025-10-16T06:19:26.675609063Z"
    }
   },
   "outputs": [
    {
     "name": "stdout",
     "output_type": "stream",
     "text": [
      "<tyr.lineage.tables.Core object at 0x7f8fa0a30040>\n",
      "car_telemetry\n"
     ]
    }
   ],
   "source": [
    "# car_telemetry table\n",
    "print(staging.tables.car_telemetry)\n",
    "# TableList can also be accessed with string index\n",
    "print(staging.tables[\"car_telemetry\"].name)"
   ]
  },
  {
   "cell_type": "code",
   "execution_count": 12,
   "id": "96d7c31e9d65bfc7",
   "metadata": {
    "collapsed": false,
    "ExecuteTime": {
     "end_time": "2025-10-16T06:19:26.679660115Z",
     "start_time": "2025-10-16T06:19:26.675785992Z"
    }
   },
   "outputs": [
    {
     "name": "stdout",
     "output_type": "stream",
     "text": [
      "<tyr.lineage.core.ColumnList object at 0x7f8fa0a30220>\n",
      "['event_ts', 'rpm', 'kmh', 'n_gear', 'throttle', 'brake', 'drs', 'source', 'meeting_time', 'session_time', 'driver_number']\n"
     ]
    }
   ],
   "source": [
    "# car_telemetry columns\n",
    "print(staging.tables.car_telemetry.columns)\n",
    "print(staging.tables.car_telemetry.columns.list_names_())"
   ]
  },
  {
   "cell_type": "code",
   "execution_count": 13,
   "id": "78a76b11c9a6d117",
   "metadata": {
    "collapsed": false,
    "ExecuteTime": {
     "end_time": "2025-10-16T06:19:26.680462402Z",
     "start_time": "2025-10-16T06:19:26.675868952Z"
    }
   },
   "outputs": [
    {
     "name": "stdout",
     "output_type": "stream",
     "text": [
      "<tyr.lineage.columns.Core object at 0x7f8fa09d6bb0>\n",
      "kmh\n",
      "var_type: numeric\n",
      "data_type: DECIMAL(15,5)\n",
      "unit: km^1h^-1\n",
      "sql: ROUND(TRY_CAST(\"Speed\" AS DECIMAL(15, 5)), 1)\n"
     ]
    }
   ],
   "source": [
    "# kmh column in car_telemetry\n",
    "print(staging.tables.car_telemetry.columns.kmh)\n",
    "# kmh column name\n",
    "print(staging.tables.car_telemetry.columns.kmh.name)\n",
    "# check attributes of kmh\n",
    "print(rf\"var_type: {staging.tables.car_telemetry.columns.kmh.var_type}\")\n",
    "print(rf\"data_type: {staging.tables.car_telemetry.columns.kmh.data_type.value}\")\n",
    "print(rf\"unit: {staging.tables.car_telemetry.columns.kmh.unit.name}\")\n",
    "print(rf\"sql: {staging.tables.car_telemetry.columns.kmh.sql}\")"
   ]
  },
  {
   "cell_type": "code",
   "execution_count": 14,
   "id": "d1c382e831c02b05",
   "metadata": {
    "collapsed": false,
    "ExecuteTime": {
     "end_time": "2025-10-16T06:19:26.680999909Z",
     "start_time": "2025-10-16T06:19:26.675943502Z"
    }
   },
   "outputs": [
    {
     "name": "stdout",
     "output_type": "stream",
     "text": [
      "<tyr.lineage.functions.math.Round object at 0x7f8fa09d6be0>\n",
      "ROUND(TRY_CAST(\"Speed\" AS DECIMAL(15, 5)), 1)\n"
     ]
    }
   ],
   "source": [
    "# kmh column source in car_telemetry - math ROUND function\n",
    "print(staging.tables.car_telemetry.columns.kmh.source)\n",
    "# At any point we can query sql. This will display sql down to the root level\n",
    "print(staging.tables.car_telemetry.columns.kmh.source.sql)"
   ]
  },
  {
   "cell_type": "code",
   "execution_count": 15,
   "id": "779ba5553bf6b5b5",
   "metadata": {
    "collapsed": false,
    "ExecuteTime": {
     "end_time": "2025-10-16T06:19:26.681293428Z",
     "start_time": "2025-10-16T06:19:26.676018931Z"
    }
   },
   "outputs": [
    {
     "name": "stdout",
     "output_type": "stream",
     "text": [
      "<tyr.lineage.functions.data_type.TryCast object at 0x7f8fa09d6c10>\n",
      "TRY_CAST(\"Speed\" AS DECIMAL(15, 5))\n"
     ]
    }
   ],
   "source": [
    "# math ROUND function arg[0] - data_type TRYCAST function\n",
    "print(staging.tables.car_telemetry.columns.kmh.source.args[0])\n",
    "print(staging.tables.car_telemetry.columns.kmh.source.args[0].sql)"
   ]
  },
  {
   "cell_type": "code",
   "execution_count": 16,
   "id": "45fe8e9100faad37",
   "metadata": {
    "collapsed": false,
    "ExecuteTime": {
     "end_time": "2025-10-16T06:19:26.683961906Z",
     "start_time": "2025-10-16T06:19:26.676091291Z"
    }
   },
   "outputs": [
    {
     "name": "stdout",
     "output_type": "stream",
     "text": [
      "<tyr.lineage.expressions.As object at 0x7f8fa09d6c40>\n",
      "\"Speed\" AS DECIMAL(15, 5)\n"
     ]
    }
   ],
   "source": [
    "# data_type TRYCAST function arg[0] - expression AS\n",
    "print(staging.tables.car_telemetry.columns.kmh.source.args[0].args[0])\n",
    "print(staging.tables.car_telemetry.columns.kmh.source.args[0].args[0].sql)"
   ]
  },
  {
   "cell_type": "code",
   "execution_count": 17,
   "id": "2191a65ae1fb9e0",
   "metadata": {
    "collapsed": false,
    "ExecuteTime": {
     "end_time": "2025-10-16T06:19:26.698134225Z",
     "start_time": "2025-10-16T06:19:26.681863495Z"
    }
   },
   "outputs": [
    {
     "name": "stdout",
     "output_type": "stream",
     "text": [
      "<tyr.lineage.functions.utility.SourceWildToStagingColumn object at 0x7f8fa09d6d30>\n",
      "{'_node_data': {'base': \"<class 'tyr.lineage.core._Function'>\",\n",
      "                'data_type': '',\n",
      "                'label': 'SOURCE_WILD_TO_STAGING_COLUMN',\n",
      "                'macro_group': 'StagingColumnTransform - 140254857691632',\n",
      "                'sql': '\"Speed\"',\n",
      "                'type': '<class '\n",
      "                        \"'tyr.lineage.functions.utility.SourceWildToStagingColumn'>\",\n",
      "                'unit': 'km^1h^-1',\n",
      "                'var_type': ''},\n",
      " 'args': [<tyr.lineage.columns.WildCard object at 0x7f8fa0838910>,\n",
      "          <tyr.lineage.schema.source.ColumnMetadata object at 0x7f8fa0c82ca0>],\n",
      " 'data_type': None,\n",
      " 'distinct': False,\n",
      " 'framing': None,\n",
      " 'graph': <tyr.lineage.core.LineageGraph object at 0x7f8fa09d6d60>,\n",
      " 'is_event_time': False,\n",
      " 'is_primary_key': False,\n",
      " 'name': 'SOURCE_WILD_TO_STAGING_COLUMN',\n",
      " 'order_by': <tyr.lineage.core.OrderBy object at 0x7f8fa0ae8fa0>,\n",
      " 'partition_by': <tyr.lineage.core.PartitionBy object at 0x7f8fa0ae8f40>,\n",
      " 'sql': '\"Speed\"',\n",
      " 'unit': <units.core.Unit object at 0x7f8fa0c82d60>,\n",
      " 'var_type': None}\n"
     ]
    }
   ],
   "source": [
    "# expression AS left object - utility function SourceWildToStaging <- This initializes the lineage tree for column objects\n",
    "print(staging.tables.car_telemetry.columns.kmh.source.args[0].args[0].left)\n",
    "# We can check which attributes are available to query using the .__dict__ method\n",
    "pprint(staging.tables.car_telemetry.columns.kmh.source.args[0].args[0].left.__dict__)"
   ]
  },
  {
   "cell_type": "code",
   "execution_count": 18,
   "id": "ab1587cfa48b0e51",
   "metadata": {
    "collapsed": false,
    "ExecuteTime": {
     "end_time": "2025-10-16T06:19:26.778040905Z",
     "start_time": "2025-10-16T06:19:26.686139867Z"
    }
   },
   "outputs": [
    {
     "name": "stdout",
     "output_type": "stream",
     "text": [
      "<tyr.lineage.columns.WildCard object at 0x7f8fa0838910>\n",
      "Source table: source.car_telemetry\n"
     ]
    }
   ],
   "source": [
    "# Get WildCard column from SourceWildToStaging\n",
    "print(staging.tables.car_telemetry.columns.kmh.source.args[0].args[0].left.args[0])\n",
    "\n",
    "# We can check the current table of this object to determine the source table\n",
    "print(\n",
    "    \"Source table: \"\n",
    "    + staging.tables.car_telemetry.columns.kmh.source.args[0]\n",
    "    .args[0]\n",
    "    .left.args[0]\n",
    "    .current_table.schema.name\n",
    "    + \".\"\n",
    "    + staging.tables.car_telemetry.columns.kmh.source.args[0]\n",
    "    .args[0]\n",
    "    .left.args[0]\n",
    "    .current_table.name\n",
    ")"
   ]
  },
  {
   "cell_type": "code",
   "execution_count": 19,
   "id": "ac99ca07b0d57567",
   "metadata": {
    "collapsed": false,
    "ExecuteTime": {
     "end_time": "2025-10-16T06:19:26.778328524Z",
     "start_time": "2025-10-16T06:19:26.733566399Z"
    }
   },
   "outputs": [
    {
     "name": "stdout",
     "output_type": "stream",
     "text": [
      "{'value': <class 'tyr.lineage.operators.WildCard'>, 'name': '*', 'data_type': <tyr.lineage.values.Datatype object at 0x7f8fa0838970>, 'var_type': None, 'unit': <units.core.Unit object at 0x7f8fa08389a0>, 'sql': '*', '_node_data': {'label': 'WILDCARD', 'data_type': 'WILDCARD', 'var_type': '', 'type': \"<class 'tyr.lineage.values.WildCard'>\", 'base': \"<class 'tyr.lineage.core._Value'>\", 'unit': '', 'macro_group': '', 'sql': '*'}, 'graph': <tyr.lineage.core.LineageGraph object at 0x7f8fa0838e50>}\n"
     ]
    }
   ],
   "source": [
    "# The WildCard value is the root object and therefore has no source\n",
    "print(\n",
    "    staging.tables.car_telemetry.columns.kmh.source.args[0]\n",
    "    .args[0]\n",
    "    .left.args[0]\n",
    "    .source.__dict__\n",
    ")"
   ]
  },
  {
   "cell_type": "code",
   "execution_count": 19,
   "outputs": [],
   "source": [],
   "metadata": {
    "collapsed": false,
    "ExecuteTime": {
     "end_time": "2025-10-16T06:19:26.778371784Z",
     "start_time": "2025-10-16T06:19:26.733641909Z"
    }
   },
   "id": "cb08f784808f3d11"
  }
 ],
 "metadata": {
  "kernelspec": {
   "display_name": "Python 3 (ipykernel)",
   "language": "python",
   "name": "python3"
  },
  "language_info": {
   "codemirror_mode": {
    "name": "ipython",
    "version": 3
   },
   "file_extension": ".py",
   "mimetype": "text/x-python",
   "name": "python",
   "nbconvert_exporter": "python",
   "pygments_lexer": "ipython3",
   "version": "3.9.19"
  }
 },
 "nbformat": 4,
 "nbformat_minor": 5
}
