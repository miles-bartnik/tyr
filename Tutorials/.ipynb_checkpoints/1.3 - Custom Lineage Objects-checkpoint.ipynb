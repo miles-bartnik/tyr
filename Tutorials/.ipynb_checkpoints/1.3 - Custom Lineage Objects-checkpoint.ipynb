{
 "cells": [
  {
   "cell_type": "code",
   "execution_count": 1,
   "id": "initial_id",
   "metadata": {
    "ExecuteTime": {
     "end_time": "2025-10-14T11:41:04.641560936Z",
     "start_time": "2025-10-14T11:41:04.240327138Z"
    }
   },
   "outputs": [],
   "source": [
    "import pandas as pd\n",
    "\n",
    "import tyr\n",
    "\n",
    "# Required to get relative path of test datasets\n",
    "import os\n",
    "\n",
    "from pprint import pprint\n",
    "\n",
    "pd.set_option('display.max_rows', None)"
   ]
  },
  {
   "cell_type": "code",
   "execution_count": 4,
   "id": "83ea6f4f1ddb4425",
   "metadata": {
    "ExecuteTime": {
     "end_time": "2025-10-14T11:41:49.899292989Z",
     "start_time": "2025-10-14T11:41:49.878781150Z"
    }
   },
   "outputs": [
    {
     "ename": "FileNotFoundError",
     "evalue": "[Errno 2] No such file or directory: '/home/miles/tyr/Tutorials/.ipynb_checkpoints/tests/saved_schema/source.pkl'",
     "output_type": "error",
     "traceback": [
      "\u001B[0;31m---------------------------------------------------------------------------\u001B[0m",
      "\u001B[0;31mFileNotFoundError\u001B[0m                         Traceback (most recent call last)",
      "Cell \u001B[0;32mIn[4], line 2\u001B[0m\n\u001B[1;32m      1\u001B[0m \u001B[38;5;66;03m# Load schema from pkl\u001B[39;00m\n\u001B[0;32m----> 2\u001B[0m source \u001B[38;5;241m=\u001B[39m \u001B[43mtyr\u001B[49m\u001B[38;5;241;43m.\u001B[39;49m\u001B[43mlineage\u001B[49m\u001B[38;5;241;43m.\u001B[39;49m\u001B[43mschema\u001B[49m\u001B[38;5;241;43m.\u001B[39;49m\u001B[43mcore\u001B[49m\u001B[38;5;241;43m.\u001B[39;49m\u001B[43mload_schema_from_pkl\u001B[49m\u001B[43m(\u001B[49m\n\u001B[1;32m      3\u001B[0m \u001B[43m    \u001B[49m\u001B[43mos\u001B[49m\u001B[38;5;241;43m.\u001B[39;49m\u001B[43mpath\u001B[49m\u001B[38;5;241;43m.\u001B[39;49m\u001B[43mabspath\u001B[49m\u001B[43m(\u001B[49m\u001B[43mos\u001B[49m\u001B[38;5;241;43m.\u001B[39;49m\u001B[43mpath\u001B[49m\u001B[38;5;241;43m.\u001B[39;49m\u001B[43mjoin\u001B[49m\u001B[43m(\u001B[49m\u001B[43mos\u001B[49m\u001B[38;5;241;43m.\u001B[39;49m\u001B[43mgetcwd\u001B[49m\u001B[43m(\u001B[49m\u001B[43m)\u001B[49m\u001B[43m,\u001B[49m\u001B[43m \u001B[49m\u001B[38;5;124;43m\"\u001B[39;49m\u001B[38;5;124;43m.\u001B[39;49m\u001B[38;5;124;43m\"\u001B[39;49m\u001B[43m,\u001B[49m\u001B[43m \u001B[49m\u001B[38;5;124;43m\"\u001B[39;49m\u001B[38;5;124;43mtests/saved_schema/source.pkl\u001B[39;49m\u001B[38;5;124;43m\"\u001B[39;49m\u001B[43m)\u001B[49m\u001B[43m)\u001B[49m\n\u001B[1;32m      4\u001B[0m \u001B[43m)\u001B[49m\n\u001B[1;32m      5\u001B[0m staging \u001B[38;5;241m=\u001B[39m tyr\u001B[38;5;241m.\u001B[39mlineage\u001B[38;5;241m.\u001B[39mschema\u001B[38;5;241m.\u001B[39mcore\u001B[38;5;241m.\u001B[39mload_schema_from_pkl(\n\u001B[1;32m      6\u001B[0m     os\u001B[38;5;241m.\u001B[39mpath\u001B[38;5;241m.\u001B[39mabspath(os\u001B[38;5;241m.\u001B[39mpath\u001B[38;5;241m.\u001B[39mjoin(os\u001B[38;5;241m.\u001B[39mgetcwd(), \u001B[38;5;124m\"\u001B[39m\u001B[38;5;124m.\u001B[39m\u001B[38;5;124m\"\u001B[39m, \u001B[38;5;124m\"\u001B[39m\u001B[38;5;124mtests/saved_schema/staging.pkl\u001B[39m\u001B[38;5;124m\"\u001B[39m))\n\u001B[1;32m      7\u001B[0m )\n",
      "File \u001B[0;32m~/tyr/src/tyr/lineage/schema/core.py:12\u001B[0m, in \u001B[0;36mload_schema_from_pkl\u001B[0;34m(filepath)\u001B[0m\n\u001B[1;32m     11\u001B[0m \u001B[38;5;28;01mdef\u001B[39;00m\u001B[38;5;250m \u001B[39m\u001B[38;5;21mload_schema_from_pkl\u001B[39m(filepath):\n\u001B[0;32m---> 12\u001B[0m     \u001B[38;5;28;01mwith\u001B[39;00m \u001B[38;5;28;43mopen\u001B[39;49m\u001B[43m(\u001B[49m\u001B[43mfilepath\u001B[49m\u001B[43m,\u001B[49m\u001B[43m \u001B[49m\u001B[38;5;124;43m\"\u001B[39;49m\u001B[38;5;124;43mrb\u001B[39;49m\u001B[38;5;124;43m\"\u001B[39;49m\u001B[43m)\u001B[49m \u001B[38;5;28;01mas\u001B[39;00m f:\n\u001B[1;32m     13\u001B[0m         \u001B[38;5;28;01mreturn\u001B[39;00m pickle\u001B[38;5;241m.\u001B[39mload(f)\n",
      "\u001B[0;31mFileNotFoundError\u001B[0m: [Errno 2] No such file or directory: '/home/miles/tyr/Tutorials/.ipynb_checkpoints/tests/saved_schema/source.pkl'"
     ]
    }
   ],
   "source": [
    "# Load schema from pkl\n",
    "source = tyr.lineage.schema.core.load_schema_from_pkl(\n",
    "    os.path.abspath(os.path.join(os.getcwd(), \"..\", \"tests/saved_schema/source.pkl\"))\n",
    ")\n",
    "staging = tyr.lineage.schema.core.load_schema_from_pkl(\n",
    "    os.path.abspath(os.path.join(os.getcwd(), \"...\", \"tests/saved_schema/staging.pkl\"))\n",
    ")"
   ]
  },
  {
   "cell_type": "code",
   "execution_count": null,
   "id": "9c8cd85d8a515bdd",
   "metadata": {
    "ExecuteTime": {
     "start_time": "2025-10-14T11:41:04.848352995Z"
    }
   },
   "outputs": [],
   "source": [
    "# Defining connection\n",
    "conn = tyr.database.connections.Connection(\n",
    "    name=\"test\",\n",
    "    syntax=\"duckdb\",\n",
    "    database=os.path.abspath(os.path.join(os.getcwd(), \"..\", \"tests/test.duckdb\")),\n",
    "    read_only=False,\n",
    ")"
   ]
  },
  {
   "cell_type": "code",
   "execution_count": null,
   "id": "dc1641bdab17ddd6",
   "metadata": {
    "ExecuteTime": {
     "start_time": "2025-10-14T11:41:04.848464505Z"
    }
   },
   "outputs": [],
   "source": [
    "# Confirm that the tables from 1.2 still exist in the database\n",
    "display(conn.tables())"
   ]
  },
  {
   "cell_type": "code",
   "execution_count": null,
   "id": "e1a0d1be389dd757",
   "metadata": {
    "ExecuteTime": {
     "end_time": "2025-10-14T11:41:04.876977565Z",
     "start_time": "2025-10-14T11:41:04.848516264Z"
    }
   },
   "outputs": [],
   "source": [
    "source.tables.car_telemetry.expected_column_metadata"
   ]
  },
  {
   "cell_type": "code",
   "execution_count": null,
   "id": "e18aa30d60aacad0",
   "metadata": {
    "ExecuteTime": {
     "start_time": "2025-10-14T11:41:04.848584814Z"
    }
   },
   "outputs": [],
   "source": [
    "# Lets do some examples with the car_telemetry table with a new table called car_telemetry_analysis\n",
    "# As an example, we will retrieve the average speed in kmh, for each gear, for each available driver\n",
    "\n",
    "# Best practice is to define the source as a separate object, as most attributes will rely on it\n",
    "# and it allows ease of re-use of the Select object\n",
    "car_telemetry_analysis_source = tyr.lineage.tables.Select(staging.tables.car_telemetry)\n",
    "\n",
    "# Create a new core table\n",
    "car_telemetry_analysis = tyr.lineage.tables.Core(\n",
    "    # Give it a name. Best practice is to use the same name as the variable\n",
    "    name=\"car_telemetry_analysis\",\n",
    "    # The source will be our previously defined source object\n",
    "    source=car_telemetry_analysis_source,\n",
    "    # We want to get the average speed over the static primary key of the car_telemetry table\n",
    "    # We will first retrieve the static primary key using a macro\n",
    "    columns=tyr.lineage.macros.columns.select_static_primary_key(\n",
    "        car_telemetry_analysis_source\n",
    "    )\n",
    "    + tyr.lineage.core.ColumnList(\n",
    "        [\n",
    "            # We also want to perform this over the n_gear column as well. It is not a part of the static primary key\n",
    "            # so we will have to bring it in separately\n",
    "            tyr.lineage.columns.Core(\n",
    "                name=car_telemetry_analysis_source.columns.n_gear.name,\n",
    "                source=tyr.lineage.columns.Select(\n",
    "                    car_telemetry_analysis_source.columns.n_gear\n",
    "                ),\n",
    "            ),\n",
    "            # Finally, we require the average_kmh. We can achieve this using the aggregate.Average function\n",
    "            tyr.lineage.columns.Core(\n",
    "                name=\"average_kmh\",\n",
    "                source=tyr.lineage.functions.aggregate.Average(\n",
    "                    car_telemetry_analysis_source.columns.kmh\n",
    "                ),\n",
    "            ),\n",
    "        ]\n",
    "    ),\n",
    "    # We need to assign the primary key to the table. This is achieved by copying the static primary key columns\n",
    "    # in the column attribute and the n_gear column as we want to partition over n_gear as well.\n",
    "    primary_key=tyr.lineage.macros.columns.select_static_primary_key(\n",
    "        car_telemetry_analysis_source\n",
    "    )\n",
    "    + tyr.lineage.core.ColumnList(\n",
    "        [\n",
    "            tyr.lineage.columns.Core(\n",
    "                name=car_telemetry_analysis_source.columns.n_gear.name,\n",
    "                source=tyr.lineage.columns.Select(\n",
    "                    car_telemetry_analysis_source.columns.n_gear\n",
    "                ),\n",
    "            ),\n",
    "        ]\n",
    "    ),\n",
    "    # Finally, to let the table know to group by the primary key, we need to set group_by=True\n",
    "    group_by=True,\n",
    ")\n",
    "\n",
    "# Execute the query and check the output to ensure it seems correct\n",
    "display(conn.execute(car_telemetry_analysis.sql).df())"
   ]
  },
  {
   "cell_type": "code",
   "execution_count": null,
   "id": "eeb6da9f9967521a",
   "metadata": {
    "ExecuteTime": {
     "start_time": "2025-10-14T11:41:04.848656804Z"
    }
   },
   "outputs": [],
   "source": [
    "# This is great, but we don't know who these drivers are. There is more information in the results table\n",
    "display(conn.execute(staging.tables.results.sql).df())"
   ]
  },
  {
   "cell_type": "code",
   "execution_count": null,
   "id": "8edd26d5bc3ddee2",
   "metadata": {
    "ExecuteTime": {
     "start_time": "2025-10-14T11:41:04.848709333Z"
    }
   },
   "outputs": [],
   "source": [
    "# Let's use a join object to combine our metrics and the results table\n",
    "# We will also require use of the ctes parameter of the table Core object\n",
    "\n",
    "left = tyr.lineage.tables.Select(car_telemetry_analysis)\n",
    "right = tyr.lineage.tables.Select(staging.tables.results)\n",
    "\n",
    "analysis_results_join = tyr.lineage.joins.Join(\n",
    "    join_expression=tyr.lineage.expressions.LeftJoin(left=left, right=right),\n",
    "    condition=tyr.lineage.core.Condition(\n",
    "        checks=[\n",
    "            tyr.lineage.expressions.Equal(\n",
    "                tyr.lineage.columns.Select(left.columns.driver_number),\n",
    "                tyr.lineage.columns.Select(right.columns.driver_number),\n",
    "            )\n",
    "        ]\n",
    "    ),\n",
    ")\n",
    "\n",
    "joined_analysis_results = tyr.lineage.tables.Core(\n",
    "    name=\"joined_analysis_results\",\n",
    "    ctes=tyr.lineage.core.TableList([car_telemetry_analysis]),\n",
    "    source=analysis_results_join,\n",
    "    columns=tyr.lineage.core.ColumnList(\n",
    "        [\n",
    "            tyr.lineage.columns.Core(\n",
    "                name=name,\n",
    "                source=analysis_results_join.join_expression.right.columns[name],\n",
    "            )\n",
    "            for name in [\"team_name\", \"broadcast_name\"]\n",
    "        ]\n",
    "    )\n",
    "    + tyr.lineage.macros.columns.select_all(analysis_results_join.join_expression.left),\n",
    ")\n",
    "\n",
    "display(conn.execute(joined_analysis_results.sql).df())"
   ]
  },
  {
   "cell_type": "code",
   "execution_count": null,
   "id": "5a383891cbcac4f0",
   "metadata": {
    "ExecuteTime": {
     "start_time": "2025-10-14T11:41:04.849379330Z"
    }
   },
   "outputs": [],
   "source": [
    "# There is no single method of achieving this result. Here is another method using a Subquery\n",
    "\n",
    "left = tyr.lineage.tables.Subquery(car_telemetry_analysis)\n",
    "right = tyr.lineage.tables.Select(staging.tables.results)\n",
    "\n",
    "analysis_results_join = tyr.lineage.joins.Join(\n",
    "    join_expression=tyr.lineage.expressions.LeftJoin(left=left, right=right),\n",
    "    condition=tyr.lineage.core.Condition(\n",
    "        checks=[\n",
    "            tyr.lineage.expressions.Equal(\n",
    "                tyr.lineage.columns.Select(left.columns.driver_number),\n",
    "                tyr.lineage.columns.Select(right.columns.driver_number),\n",
    "            )\n",
    "        ]\n",
    "    ),\n",
    ")\n",
    "\n",
    "joined_analysis_results_source = tyr.lineage.tables.Core(\n",
    "    name=\"joined_analysis_results_source\",\n",
    "    source=analysis_results_join,\n",
    "    columns=tyr.lineage.macros.columns.select_all(analysis_results_join),\n",
    "    primary_key=tyr.lineage.macros.columns.select_all(\n",
    "        analysis_results_join,\n",
    "        filter_regex=rf\"^(?!{'|'.join([column for column in analysis_results_join.join_expression.left.columns.list_names_()])}).*\",\n",
    "    ),\n",
    ")\n",
    "\n",
    "joined_analysis_results_source_subquery = tyr.lineage.tables.Subquery(\n",
    "    source=joined_analysis_results_source,\n",
    ")\n",
    "\n",
    "joined_analysis_results = tyr.lineage.tables.Core(\n",
    "    name=\"joined_analysis_results\",\n",
    "    source=joined_analysis_results_source_subquery,\n",
    "    columns=tyr.lineage.core.ColumnList(\n",
    "        tyr.lineage.macros.columns.select_all(joined_analysis_results_source_subquery)[\n",
    "            [\"session_key\", \"broadcast_name\", \"driver_number\", \"n_gear\", \"average_kmh\"]\n",
    "        ]\n",
    "    ),\n",
    "    inherit_primary_key=True,\n",
    ")\n",
    "\n",
    "print(joined_analysis_results.sql)\n",
    "display(conn.execute(joined_analysis_results.sql).df())"
   ]
  },
  {
   "cell_type": "code",
   "execution_count": null,
   "id": "572e792796e2309d",
   "metadata": {
    "ExecuteTime": {
     "start_time": "2025-10-14T11:41:04.850655754Z"
    }
   },
   "outputs": [],
   "source": [
    "conn.close()"
   ]
  },
  {
   "cell_type": "code",
   "execution_count": null,
   "outputs": [],
   "source": [],
   "metadata": {
    "collapsed": false,
    "ExecuteTime": {
     "start_time": "2025-10-14T11:41:04.851876758Z"
    }
   },
   "id": "7016ad1bd72ae369"
  }
 ],
 "metadata": {
  "kernelspec": {
   "display_name": "Python 3 (ipykernel)",
   "language": "python",
   "name": "python3"
  },
  "language_info": {
   "codemirror_mode": {
    "name": "ipython",
    "version": 3
   },
   "file_extension": ".py",
   "mimetype": "text/x-python",
   "name": "python",
   "nbconvert_exporter": "python",
   "pygments_lexer": "ipython3",
   "version": "3.8.10"
  }
 },
 "nbformat": 4,
 "nbformat_minor": 5
}
