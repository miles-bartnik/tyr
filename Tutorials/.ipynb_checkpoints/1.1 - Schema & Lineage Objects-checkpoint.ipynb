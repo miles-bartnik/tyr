{
 "cells": [
  {
   "cell_type": "markdown",
   "id": "8cb589317a0c2129",
   "metadata": {
    "collapsed": false,
    "jupyter": {
     "outputs_hidden": false
    }
   },
   "source": [
    "<h1>Chapter 1: Schema & Lineage Objects</h1>\n",
    "\n",
    "<p>\n",
    "Source and staging are pre-defined schemas that represent the first two stages of the data ingestion pipeline.\n",
    "They are defined as follows: \n",
    "</p>\n",
    "\n",
    "<span>Source - Raw, unprocessed source data pulled from source files</span>\n",
    "<ul> <code>SELECT * FROM {source_file}</code> </ul>\n",
    "\n",
    "<span>Staging - Processed data from source with column metadata information applied</span>\n",
    "<ul><code>SELECT TRY_CAST({column} AS {column_metadata.data_type}) AS {column} FROM source.{table}</code></ul>"
   ]
  },
  {
   "cell_type": "code",
   "execution_count": 1,
   "id": "7397e92e23e7abe8",
   "metadata": {
    "ExecuteTime": {
     "end_time": "2025-10-14T06:41:42.769028885Z",
     "start_time": "2025-10-14T06:41:42.383422550Z"
    },
    "collapsed": false,
    "jupyter": {
     "outputs_hidden": false
    }
   },
   "outputs": [],
   "source": [
    "import tyr\n",
    "\n",
    "# Required to get relative path of test datasets\n",
    "import os\n",
    "\n",
    "# Required to illustrate how metadata is used\n",
    "import pandas as pd\n",
    "\n",
    "from pprint import pprint"
   ]
  },
  {
   "cell_type": "markdown",
   "id": "5bef709a-bc02-4718-b49f-e05bc136ea7b",
   "metadata": {},
   "source": [
    "# About The Data\n",
    "\n",
    "The data used in this tutorial is from the 2023 Formula 1 Singapore Grand Prix, courtesy of FastF1 and the OpenF1 api.\n",
    "This data is useful as it provides multiple tables connected by common ids, and numeric data with which we can calculate\n",
    "various metrics (averages, std_dev, etc.).\n",
    "\n",
    "Thank you to both of these projects for providing such a fantastic data source. If you want to check them out, they\n",
    "can be found at the following addresses:\n",
    "\n",
    "- https://github.com/theOehrly/Fast-F1\n",
    "- https://openf1.org/"
   ]
  },
  {
   "cell_type": "code",
   "execution_count": 2,
   "id": "8acc8e1e48c74d8b",
   "metadata": {
    "ExecuteTime": {
     "end_time": "2025-10-14T06:41:42.783636328Z",
     "start_time": "2025-10-14T06:41:42.771222055Z"
    },
    "collapsed": false,
    "jupyter": {
     "outputs_hidden": false
    }
   },
   "outputs": [
    {
     "data": {
      "text/html": [
       "<div>\n",
       "<style scoped>\n",
       "    .dataframe tbody tr th:only-of-type {\n",
       "        vertical-align: middle;\n",
       "    }\n",
       "\n",
       "    .dataframe tbody tr th {\n",
       "        vertical-align: top;\n",
       "    }\n",
       "\n",
       "    .dataframe thead th {\n",
       "        text-align: right;\n",
       "    }\n",
       "</style>\n",
       "<table border=\"1\" class=\"dataframe\">\n",
       "  <thead>\n",
       "    <tr style=\"text-align: right;\">\n",
       "      <th></th>\n",
       "      <th>schema</th>\n",
       "      <th>dataset</th>\n",
       "      <th>file_regex</th>\n",
       "      <th>delim</th>\n",
       "      <th>distinct</th>\n",
       "    </tr>\n",
       "  </thead>\n",
       "  <tbody>\n",
       "    <tr>\n",
       "      <th>0</th>\n",
       "      <td>staging</td>\n",
       "      <td>car_location</td>\n",
       "      <td>/home/miles/tyr/tests/datasets/car_location_se...</td>\n",
       "      <td>t</td>\n",
       "      <td>True</td>\n",
       "    </tr>\n",
       "    <tr>\n",
       "      <th>1</th>\n",
       "      <td>staging</td>\n",
       "      <td>car_telemetry</td>\n",
       "      <td>/home/miles/tyr/tests/datasets/car_telemetry_s...</td>\n",
       "      <td>t</td>\n",
       "      <td>True</td>\n",
       "    </tr>\n",
       "    <tr>\n",
       "      <th>2</th>\n",
       "      <td>staging</td>\n",
       "      <td>circuits</td>\n",
       "      <td>/home/miles/tyr/tests/datasets/f1_circuits.geo...</td>\n",
       "      <td>geojson</td>\n",
       "      <td>True</td>\n",
       "    </tr>\n",
       "    <tr>\n",
       "      <th>3</th>\n",
       "      <td>staging</td>\n",
       "      <td>meetings</td>\n",
       "      <td>/home/miles/tyr/tests/datasets/meetings.tsv</td>\n",
       "      <td>t</td>\n",
       "      <td>True</td>\n",
       "    </tr>\n",
       "    <tr>\n",
       "      <th>4</th>\n",
       "      <td>staging</td>\n",
       "      <td>race_control</td>\n",
       "      <td>/home/miles/tyr/tests/datasets/race_control_se...</td>\n",
       "      <td>t</td>\n",
       "      <td>True</td>\n",
       "    </tr>\n",
       "    <tr>\n",
       "      <th>5</th>\n",
       "      <td>staging</td>\n",
       "      <td>session_status</td>\n",
       "      <td>/home/miles/tyr/tests/datasets/session_status_...</td>\n",
       "      <td>t</td>\n",
       "      <td>True</td>\n",
       "    </tr>\n",
       "    <tr>\n",
       "      <th>6</th>\n",
       "      <td>staging</td>\n",
       "      <td>track_status</td>\n",
       "      <td>/home/miles/tyr/tests/datasets/track_status_se...</td>\n",
       "      <td>t</td>\n",
       "      <td>True</td>\n",
       "    </tr>\n",
       "    <tr>\n",
       "      <th>7</th>\n",
       "      <td>staging</td>\n",
       "      <td>sessions</td>\n",
       "      <td>/home/miles/tyr/tests/datasets/sessions.tsv</td>\n",
       "      <td>t</td>\n",
       "      <td>True</td>\n",
       "    </tr>\n",
       "    <tr>\n",
       "      <th>8</th>\n",
       "      <td>staging</td>\n",
       "      <td>weather</td>\n",
       "      <td>/home/miles/tyr/tests/datasets/weather_session...</td>\n",
       "      <td>t</td>\n",
       "      <td>True</td>\n",
       "    </tr>\n",
       "    <tr>\n",
       "      <th>9</th>\n",
       "      <td>staging</td>\n",
       "      <td>results</td>\n",
       "      <td>/home/miles/tyr/tests/datasets/results_session...</td>\n",
       "      <td>t</td>\n",
       "      <td>True</td>\n",
       "    </tr>\n",
       "  </tbody>\n",
       "</table>\n",
       "</div>"
      ],
      "text/plain": [
       "    schema         dataset                                         file_regex  \\\n",
       "0  staging    car_location  /home/miles/tyr/tests/datasets/car_location_se...   \n",
       "1  staging   car_telemetry  /home/miles/tyr/tests/datasets/car_telemetry_s...   \n",
       "2  staging        circuits  /home/miles/tyr/tests/datasets/f1_circuits.geo...   \n",
       "3  staging        meetings        /home/miles/tyr/tests/datasets/meetings.tsv   \n",
       "4  staging    race_control  /home/miles/tyr/tests/datasets/race_control_se...   \n",
       "5  staging  session_status  /home/miles/tyr/tests/datasets/session_status_...   \n",
       "6  staging    track_status  /home/miles/tyr/tests/datasets/track_status_se...   \n",
       "7  staging        sessions        /home/miles/tyr/tests/datasets/sessions.tsv   \n",
       "8  staging         weather  /home/miles/tyr/tests/datasets/weather_session...   \n",
       "9  staging         results  /home/miles/tyr/tests/datasets/results_session...   \n",
       "\n",
       "     delim  distinct  \n",
       "0        t      True  \n",
       "1        t      True  \n",
       "2  geojson      True  \n",
       "3        t      True  \n",
       "4        t      True  \n",
       "5        t      True  \n",
       "6        t      True  \n",
       "7        t      True  \n",
       "8        t      True  \n",
       "9        t      True  "
      ]
     },
     "metadata": {},
     "output_type": "display_data"
    },
    {
     "data": {
      "text/plain": [
       "{'car_location': <tyr.lineage.schema.source.FileMetadata at 0x7f42f8176040>,\n",
       " 'car_telemetry': <tyr.lineage.schema.source.FileMetadata at 0x7f42f81c9a00>,\n",
       " 'circuits': <tyr.lineage.schema.source.FileMetadata at 0x7f42a54c7730>,\n",
       " 'meetings': <tyr.lineage.schema.source.FileMetadata at 0x7f42a54c74f0>,\n",
       " 'race_control': <tyr.lineage.schema.source.FileMetadata at 0x7f42991aba90>,\n",
       " 'session_status': <tyr.lineage.schema.source.FileMetadata at 0x7f42991aba00>,\n",
       " 'track_status': <tyr.lineage.schema.source.FileMetadata at 0x7f42991abc40>,\n",
       " 'sessions': <tyr.lineage.schema.source.FileMetadata at 0x7f42991abc70>,\n",
       " 'weather': <tyr.lineage.schema.source.FileMetadata at 0x7f42991abc10>,\n",
       " 'results': <tyr.lineage.schema.source.FileMetadata at 0x7f42991ab9d0>}"
      ]
     },
     "execution_count": 2,
     "metadata": {},
     "output_type": "execute_result"
    }
   ],
   "source": [
    "# This is the full process to read in file metadata. There is a function to do this in source called read_file_metadata\n",
    "\n",
    "file_metadata = pd.read_csv(\n",
    "    os.path.abspath(\n",
    "        os.path.join(os.getcwd(), \"..\", \"tests/configurations/file_metadata.tsv\")\n",
    "    ),\n",
    "    sep=\"\\t\",\n",
    ")\n",
    "\n",
    "display(file_metadata)\n",
    "\n",
    "file_metadata = {\n",
    "    row.dataset: tyr.lineage.schema.source.FileMetadata(row)\n",
    "    for index, row in file_metadata.iterrows()\n",
    "}\n",
    "\n",
    "file_metadata"
   ]
  },
  {
   "cell_type": "code",
   "execution_count": 5,
   "id": "38a5da7700e18b66",
   "metadata": {
    "ExecuteTime": {
     "end_time": "2025-10-14T06:42:51.534372048Z",
     "start_time": "2025-10-14T06:42:50.800778266Z"
    },
    "collapsed": false,
    "jupyter": {
     "outputs_hidden": false
    }
   },
   "outputs": [
    {
     "data": {
      "text/html": [
       "<div>\n",
       "<style scoped>\n",
       "    .dataframe tbody tr th:only-of-type {\n",
       "        vertical-align: middle;\n",
       "    }\n",
       "\n",
       "    .dataframe tbody tr th {\n",
       "        vertical-align: top;\n",
       "    }\n",
       "\n",
       "    .dataframe thead th {\n",
       "        text-align: right;\n",
       "    }\n",
       "</style>\n",
       "<table border=\"1\" class=\"dataframe\">\n",
       "  <thead>\n",
       "    <tr style=\"text-align: right;\">\n",
       "      <th></th>\n",
       "      <th>schema</th>\n",
       "      <th>dataset</th>\n",
       "      <th>column_name</th>\n",
       "      <th>column_alias</th>\n",
       "      <th>var_type</th>\n",
       "      <th>data_type</th>\n",
       "      <th>on_null</th>\n",
       "      <th>is_primary_key</th>\n",
       "      <th>is_event_time</th>\n",
       "      <th>filter_values</th>\n",
       "      <th>on_filter</th>\n",
       "      <th>regex</th>\n",
       "      <th>source_unit</th>\n",
       "      <th>target_unit</th>\n",
       "      <th>scale_factor</th>\n",
       "      <th>precision</th>\n",
       "      <th>ordinal_position</th>\n",
       "    </tr>\n",
       "  </thead>\n",
       "  <tbody>\n",
       "    <tr>\n",
       "      <th>0</th>\n",
       "      <td>staging</td>\n",
       "      <td>car_location</td>\n",
       "      <td>Date</td>\n",
       "      <td>event_ts</td>\n",
       "      <td>timestamp</td>\n",
       "      <td>TIMESTAMP</td>\n",
       "      <td>PASS</td>\n",
       "      <td>True</td>\n",
       "      <td>True</td>\n",
       "      <td>[]</td>\n",
       "      <td>PASS</td>\n",
       "      <td>%Y-%m-%d %H:%M:%S.%g</td>\n",
       "      <td></td>\n",
       "      <td></td>\n",
       "      <td></td>\n",
       "      <td></td>\n",
       "      <td>0</td>\n",
       "    </tr>\n",
       "    <tr>\n",
       "      <th>1</th>\n",
       "      <td>staging</td>\n",
       "      <td>car_location</td>\n",
       "      <td>Status</td>\n",
       "      <td>status</td>\n",
       "      <td>categorical</td>\n",
       "      <td>VARCHAR</td>\n",
       "      <td>PASS</td>\n",
       "      <td>False</td>\n",
       "      <td>False</td>\n",
       "      <td>[]</td>\n",
       "      <td>PASS</td>\n",
       "      <td></td>\n",
       "      <td></td>\n",
       "      <td></td>\n",
       "      <td></td>\n",
       "      <td></td>\n",
       "      <td>2</td>\n",
       "    </tr>\n",
       "    <tr>\n",
       "      <th>2</th>\n",
       "      <td>staging</td>\n",
       "      <td>car_location</td>\n",
       "      <td>X</td>\n",
       "      <td>x</td>\n",
       "      <td>numeric</td>\n",
       "      <td>FLOAT</td>\n",
       "      <td>PASS</td>\n",
       "      <td>False</td>\n",
       "      <td>False</td>\n",
       "      <td>[]</td>\n",
       "      <td>PASS</td>\n",
       "      <td></td>\n",
       "      <td>m^1</td>\n",
       "      <td></td>\n",
       "      <td></td>\n",
       "      <td>1dp</td>\n",
       "      <td>3</td>\n",
       "    </tr>\n",
       "    <tr>\n",
       "      <th>3</th>\n",
       "      <td>staging</td>\n",
       "      <td>car_location</td>\n",
       "      <td>Y</td>\n",
       "      <td>y</td>\n",
       "      <td>numeric</td>\n",
       "      <td>FLOAT</td>\n",
       "      <td>PASS</td>\n",
       "      <td>False</td>\n",
       "      <td>False</td>\n",
       "      <td>[]</td>\n",
       "      <td>PASS</td>\n",
       "      <td></td>\n",
       "      <td>m^1</td>\n",
       "      <td></td>\n",
       "      <td></td>\n",
       "      <td>1dp</td>\n",
       "      <td>4</td>\n",
       "    </tr>\n",
       "    <tr>\n",
       "      <th>4</th>\n",
       "      <td>staging</td>\n",
       "      <td>car_location</td>\n",
       "      <td>Z</td>\n",
       "      <td>z</td>\n",
       "      <td>numeric</td>\n",
       "      <td>FLOAT</td>\n",
       "      <td>PASS</td>\n",
       "      <td>False</td>\n",
       "      <td>False</td>\n",
       "      <td>[]</td>\n",
       "      <td>PASS</td>\n",
       "      <td></td>\n",
       "      <td>m^1</td>\n",
       "      <td></td>\n",
       "      <td></td>\n",
       "      <td>1dp</td>\n",
       "      <td>5</td>\n",
       "    </tr>\n",
       "    <tr>\n",
       "      <th>...</th>\n",
       "      <td>...</td>\n",
       "      <td>...</td>\n",
       "      <td>...</td>\n",
       "      <td>...</td>\n",
       "      <td>...</td>\n",
       "      <td>...</td>\n",
       "      <td>...</td>\n",
       "      <td>...</td>\n",
       "      <td>...</td>\n",
       "      <td>...</td>\n",
       "      <td>...</td>\n",
       "      <td>...</td>\n",
       "      <td>...</td>\n",
       "      <td>...</td>\n",
       "      <td>...</td>\n",
       "      <td>...</td>\n",
       "      <td>...</td>\n",
       "    </tr>\n",
       "    <tr>\n",
       "      <th>87</th>\n",
       "      <td>staging</td>\n",
       "      <td>results</td>\n",
       "      <td>Points</td>\n",
       "      <td>points</td>\n",
       "      <td>numeric</td>\n",
       "      <td>INTEGER</td>\n",
       "      <td>PASS</td>\n",
       "      <td>False</td>\n",
       "      <td>False</td>\n",
       "      <td>[]</td>\n",
       "      <td>PASS</td>\n",
       "      <td></td>\n",
       "      <td></td>\n",
       "      <td></td>\n",
       "      <td></td>\n",
       "      <td></td>\n",
       "      <td>21</td>\n",
       "    </tr>\n",
       "    <tr>\n",
       "      <th>88</th>\n",
       "      <td>staging</td>\n",
       "      <td>results</td>\n",
       "      <td>Laps</td>\n",
       "      <td>laps_completed</td>\n",
       "      <td>numeric</td>\n",
       "      <td>INTEGER</td>\n",
       "      <td>PASS</td>\n",
       "      <td>False</td>\n",
       "      <td>False</td>\n",
       "      <td>[]</td>\n",
       "      <td>PASS</td>\n",
       "      <td></td>\n",
       "      <td></td>\n",
       "      <td></td>\n",
       "      <td></td>\n",
       "      <td></td>\n",
       "      <td>22</td>\n",
       "    </tr>\n",
       "    <tr>\n",
       "      <th>89</th>\n",
       "      <td>staging</td>\n",
       "      <td>session_status</td>\n",
       "      <td>SessionKey</td>\n",
       "      <td>session_key</td>\n",
       "      <td>key</td>\n",
       "      <td>INTEGER</td>\n",
       "      <td>PASS</td>\n",
       "      <td>True</td>\n",
       "      <td>False</td>\n",
       "      <td>[]</td>\n",
       "      <td>PASS</td>\n",
       "      <td></td>\n",
       "      <td></td>\n",
       "      <td></td>\n",
       "      <td></td>\n",
       "      <td></td>\n",
       "      <td>0</td>\n",
       "    </tr>\n",
       "    <tr>\n",
       "      <th>90</th>\n",
       "      <td>staging</td>\n",
       "      <td>session_status</td>\n",
       "      <td>Time</td>\n",
       "      <td>session_time</td>\n",
       "      <td>timedelta</td>\n",
       "      <td>INTERVAL</td>\n",
       "      <td>PASS</td>\n",
       "      <td>True</td>\n",
       "      <td>True</td>\n",
       "      <td>[]</td>\n",
       "      <td>PASS</td>\n",
       "      <td></td>\n",
       "      <td></td>\n",
       "      <td></td>\n",
       "      <td></td>\n",
       "      <td></td>\n",
       "      <td>1</td>\n",
       "    </tr>\n",
       "    <tr>\n",
       "      <th>91</th>\n",
       "      <td>staging</td>\n",
       "      <td>session_status</td>\n",
       "      <td>Status</td>\n",
       "      <td>session_status</td>\n",
       "      <td>categorical</td>\n",
       "      <td>VARCHAR</td>\n",
       "      <td>PASS</td>\n",
       "      <td>False</td>\n",
       "      <td>False</td>\n",
       "      <td>[]</td>\n",
       "      <td>PASS</td>\n",
       "      <td></td>\n",
       "      <td></td>\n",
       "      <td></td>\n",
       "      <td></td>\n",
       "      <td></td>\n",
       "      <td>2</td>\n",
       "    </tr>\n",
       "  </tbody>\n",
       "</table>\n",
       "<p>92 rows × 17 columns</p>\n",
       "</div>"
      ],
      "text/plain": [
       "     schema         dataset column_name    column_alias     var_type  \\\n",
       "0   staging    car_location        Date        event_ts    timestamp   \n",
       "1   staging    car_location      Status          status  categorical   \n",
       "2   staging    car_location           X               x      numeric   \n",
       "3   staging    car_location           Y               y      numeric   \n",
       "4   staging    car_location           Z               z      numeric   \n",
       "..      ...             ...         ...             ...          ...   \n",
       "87  staging         results      Points          points      numeric   \n",
       "88  staging         results        Laps  laps_completed      numeric   \n",
       "89  staging  session_status  SessionKey     session_key          key   \n",
       "90  staging  session_status        Time    session_time    timedelta   \n",
       "91  staging  session_status      Status  session_status  categorical   \n",
       "\n",
       "    data_type on_null  is_primary_key  is_event_time filter_values on_filter  \\\n",
       "0   TIMESTAMP    PASS            True           True            []      PASS   \n",
       "1     VARCHAR    PASS           False          False            []      PASS   \n",
       "2       FLOAT    PASS           False          False            []      PASS   \n",
       "3       FLOAT    PASS           False          False            []      PASS   \n",
       "4       FLOAT    PASS           False          False            []      PASS   \n",
       "..        ...     ...             ...            ...           ...       ...   \n",
       "87    INTEGER    PASS           False          False            []      PASS   \n",
       "88    INTEGER    PASS           False          False            []      PASS   \n",
       "89    INTEGER    PASS            True          False            []      PASS   \n",
       "90   INTERVAL    PASS            True           True            []      PASS   \n",
       "91    VARCHAR    PASS           False          False            []      PASS   \n",
       "\n",
       "                   regex source_unit target_unit scale_factor precision  \\\n",
       "0   %Y-%m-%d %H:%M:%S.%g                                                  \n",
       "1                                                                         \n",
       "2                                m^1                                1dp   \n",
       "3                                m^1                                1dp   \n",
       "4                                m^1                                1dp   \n",
       "..                   ...         ...         ...          ...       ...   \n",
       "87                                                                        \n",
       "88                                                                        \n",
       "89                                                                        \n",
       "90                                                                        \n",
       "91                                                                        \n",
       "\n",
       "    ordinal_position  \n",
       "0                  0  \n",
       "1                  2  \n",
       "2                  3  \n",
       "3                  4  \n",
       "4                  5  \n",
       "..               ...  \n",
       "87                21  \n",
       "88                22  \n",
       "89                 0  \n",
       "90                 1  \n",
       "91                 2  \n",
       "\n",
       "[92 rows x 17 columns]"
      ]
     },
     "metadata": {},
     "output_type": "display_data"
    },
    {
     "data": {
      "text/plain": [
       "{'car_location': {'Date': <tyr.lineage.schema.source.ColumnMetadata at 0x7f4298a73490>,\n",
       "  'Status': <tyr.lineage.schema.source.ColumnMetadata at 0x7f4298a73460>,\n",
       "  'X': <tyr.lineage.schema.source.ColumnMetadata at 0x7f4298a73670>,\n",
       "  'Y': <tyr.lineage.schema.source.ColumnMetadata at 0x7f4298a734c0>,\n",
       "  'Z': <tyr.lineage.schema.source.ColumnMetadata at 0x7f4298a7fd60>,\n",
       "  'Source': <tyr.lineage.schema.source.ColumnMetadata at 0x7f4298a8d340>,\n",
       "  'Time': <tyr.lineage.schema.source.ColumnMetadata at 0x7f4298a8d130>,\n",
       "  'SessionTime': <tyr.lineage.schema.source.ColumnMetadata at 0x7f4298a8da60>,\n",
       "  'DriverNumber': <tyr.lineage.schema.source.ColumnMetadata at 0x7f4298a7f2b0>},\n",
       " 'car_telemetry': {'Date': <tyr.lineage.schema.source.ColumnMetadata at 0x7f4298a87a00>,\n",
       "  'RPM': <tyr.lineage.schema.source.ColumnMetadata at 0x7f42928bd0a0>,\n",
       "  'Speed': <tyr.lineage.schema.source.ColumnMetadata at 0x7f4298a87070>,\n",
       "  'nGear': <tyr.lineage.schema.source.ColumnMetadata at 0x7f4298a82b20>,\n",
       "  'Throttle': <tyr.lineage.schema.source.ColumnMetadata at 0x7f4298a82c70>,\n",
       "  'Brake': <tyr.lineage.schema.source.ColumnMetadata at 0x7f4292a0ed90>,\n",
       "  'DRS': <tyr.lineage.schema.source.ColumnMetadata at 0x7f4292a0ebb0>,\n",
       "  'Source': <tyr.lineage.schema.source.ColumnMetadata at 0x7f4292a183a0>,\n",
       "  'Time': <tyr.lineage.schema.source.ColumnMetadata at 0x7f4292a185b0>,\n",
       "  'SessionTime': <tyr.lineage.schema.source.ColumnMetadata at 0x7f4292a185e0>,\n",
       "  'DriverNumber': <tyr.lineage.schema.source.ColumnMetadata at 0x7f4292a19850>},\n",
       " 'meetings': {'Key': <tyr.lineage.schema.source.ColumnMetadata at 0x7f4292a19400>,\n",
       "  'Name': <tyr.lineage.schema.source.ColumnMetadata at 0x7f4292a19820>,\n",
       "  'OfficialName': <tyr.lineage.schema.source.ColumnMetadata at 0x7f4292a1f3a0>,\n",
       "  'Location': <tyr.lineage.schema.source.ColumnMetadata at 0x7f4292a1f5b0>,\n",
       "  'CountryKey': <tyr.lineage.schema.source.ColumnMetadata at 0x7f4292a1f5e0>,\n",
       "  'CountryCode': <tyr.lineage.schema.source.ColumnMetadata at 0x7f4292a213a0>,\n",
       "  'CountryName': <tyr.lineage.schema.source.ColumnMetadata at 0x7f4292a215b0>,\n",
       "  'CircuitKey': <tyr.lineage.schema.source.ColumnMetadata at 0x7f4292a215e0>,\n",
       "  'CircuitShortName': <tyr.lineage.schema.source.ColumnMetadata at 0x7f4292a263a0>},\n",
       " 'race_control': {'Time': <tyr.lineage.schema.source.ColumnMetadata at 0x7f4292a26850>,\n",
       "  'Category': <tyr.lineage.schema.source.ColumnMetadata at 0x7f4292a265b0>,\n",
       "  'Message': <tyr.lineage.schema.source.ColumnMetadata at 0x7f4292a283a0>,\n",
       "  'Status': <tyr.lineage.schema.source.ColumnMetadata at 0x7f4292a285b0>,\n",
       "  'Flag': <tyr.lineage.schema.source.ColumnMetadata at 0x7f4292a285e0>,\n",
       "  'Scope': <tyr.lineage.schema.source.ColumnMetadata at 0x7f4292a2e3a0>,\n",
       "  'Sector': <tyr.lineage.schema.source.ColumnMetadata at 0x7f4292a2e5b0>,\n",
       "  'RacingNumber': <tyr.lineage.schema.source.ColumnMetadata at 0x7f4292a2e5e0>,\n",
       "  'Lap': <tyr.lineage.schema.source.ColumnMetadata at 0x7f4292a323a0>},\n",
       " 'session_status': {'Time': <tyr.lineage.schema.source.ColumnMetadata at 0x7f4292a365b0>,\n",
       "  'Status': <tyr.lineage.schema.source.ColumnMetadata at 0x7f4292a365e0>,\n",
       "  'SessionKey': <tyr.lineage.schema.source.ColumnMetadata at 0x7f4292a363a0>},\n",
       " 'track_status': {'Time': <tyr.lineage.schema.source.ColumnMetadata at 0x7f4292a32ac0>,\n",
       "  'Status': <tyr.lineage.schema.source.ColumnMetadata at 0x7f4292a363d0>,\n",
       "  'Message': <tyr.lineage.schema.source.ColumnMetadata at 0x7f4292a36280>},\n",
       " 'sessions': {'Key': <tyr.lineage.schema.source.ColumnMetadata at 0x7f4292a3c850>,\n",
       "  'Type': <tyr.lineage.schema.source.ColumnMetadata at 0x7f4292a3c460>,\n",
       "  'Name': <tyr.lineage.schema.source.ColumnMetadata at 0x7f4292a413a0>,\n",
       "  'StartDate': <tyr.lineage.schema.source.ColumnMetadata at 0x7f4292a415b0>,\n",
       "  'EndDate': <tyr.lineage.schema.source.ColumnMetadata at 0x7f4292a415e0>,\n",
       "  'GmtOffset': <tyr.lineage.schema.source.ColumnMetadata at 0x7f4292a453a0>,\n",
       "  'Path': <tyr.lineage.schema.source.ColumnMetadata at 0x7f4292a455b0>},\n",
       " 'weather': {'Time': <tyr.lineage.schema.source.ColumnMetadata at 0x7f4298a73040>,\n",
       "  'AirTemp': <tyr.lineage.schema.source.ColumnMetadata at 0x7f42f8184ca0>,\n",
       "  'Humidity': <tyr.lineage.schema.source.ColumnMetadata at 0x7f4298a15310>,\n",
       "  'Pressure': <tyr.lineage.schema.source.ColumnMetadata at 0x7f4298a15940>,\n",
       "  'Rainfall': <tyr.lineage.schema.source.ColumnMetadata at 0x7f4298a15b20>,\n",
       "  'TrackTemp': <tyr.lineage.schema.source.ColumnMetadata at 0x7f4298a203a0>,\n",
       "  'WindDirection': <tyr.lineage.schema.source.ColumnMetadata at 0x7f4298a20250>,\n",
       "  'WindSpeed': <tyr.lineage.schema.source.ColumnMetadata at 0x7f4298a20d60>},\n",
       " 'circuits': {'id': <tyr.lineage.schema.source.ColumnMetadata at 0x7f4298a1a610>,\n",
       "  'Location': <tyr.lineage.schema.source.ColumnMetadata at 0x7f4298a1aca0>,\n",
       "  'Name': <tyr.lineage.schema.source.ColumnMetadata at 0x7f4298a32b50>,\n",
       "  'opened': <tyr.lineage.schema.source.ColumnMetadata at 0x7f4298a4a160>,\n",
       "  'firstgp': <tyr.lineage.schema.source.ColumnMetadata at 0x7f4298a4a190>,\n",
       "  'length': <tyr.lineage.schema.source.ColumnMetadata at 0x7f4298a4a700>,\n",
       "  'altitude': <tyr.lineage.schema.source.ColumnMetadata at 0x7f4298a4b160>,\n",
       "  'geom': <tyr.lineage.schema.source.ColumnMetadata at 0x7f4298a4b9d0>},\n",
       " 'results': {'SessionKey': <tyr.lineage.schema.source.ColumnMetadata at 0x7f42928bdca0>,\n",
       "  'DriverNumber': <tyr.lineage.schema.source.ColumnMetadata at 0x7f42928bd250>,\n",
       "  'BroadcastName': <tyr.lineage.schema.source.ColumnMetadata at 0x7f4298a51670>,\n",
       "  'Abbreviation': <tyr.lineage.schema.source.ColumnMetadata at 0x7f42931cf160>,\n",
       "  'DriverId': <tyr.lineage.schema.source.ColumnMetadata at 0x7f42931cf310>,\n",
       "  'TeamName': <tyr.lineage.schema.source.ColumnMetadata at 0x7f42931cf220>,\n",
       "  'TeamColor': <tyr.lineage.schema.source.ColumnMetadata at 0x7f42931d3340>,\n",
       "  'TeamId': <tyr.lineage.schema.source.ColumnMetadata at 0x7f42931d3550>,\n",
       "  'FirstName': <tyr.lineage.schema.source.ColumnMetadata at 0x7f42931d3580>,\n",
       "  'LastName': <tyr.lineage.schema.source.ColumnMetadata at 0x7f42931d7340>,\n",
       "  'FullName': <tyr.lineage.schema.source.ColumnMetadata at 0x7f42931d7550>,\n",
       "  'HeadshotUrl': <tyr.lineage.schema.source.ColumnMetadata at 0x7f42931d7580>,\n",
       "  'CountryCode': <tyr.lineage.schema.source.ColumnMetadata at 0x7f42931d9340>,\n",
       "  'Position': <tyr.lineage.schema.source.ColumnMetadata at 0x7f42931d9550>,\n",
       "  'ClassifiedPosition': <tyr.lineage.schema.source.ColumnMetadata at 0x7f42931d9580>,\n",
       "  'GridPosition': <tyr.lineage.schema.source.ColumnMetadata at 0x7f42931dd340>,\n",
       "  'Q1': <tyr.lineage.schema.source.ColumnMetadata at 0x7f42931dd550>,\n",
       "  'Q2': <tyr.lineage.schema.source.ColumnMetadata at 0x7f42931dd580>,\n",
       "  'Q3': <tyr.lineage.schema.source.ColumnMetadata at 0x7f42931e0340>,\n",
       "  'Time': <tyr.lineage.schema.source.ColumnMetadata at 0x7f42931e0550>,\n",
       "  'Status': <tyr.lineage.schema.source.ColumnMetadata at 0x7f42931e0580>,\n",
       "  'Points': <tyr.lineage.schema.source.ColumnMetadata at 0x7f42931e5340>,\n",
       "  'Laps': <tyr.lineage.schema.source.ColumnMetadata at 0x7f42931e5550>}}"
      ]
     },
     "execution_count": 5,
     "metadata": {},
     "output_type": "execute_result"
    }
   ],
   "source": [
    "# This is the full process to read in column metadata. There is a function to do this in source called read_column_metadata\n",
    "column_metadata = pd.read_csv(\n",
    "    os.path.abspath(\n",
    "        os.path.join(os.getcwd(), \"..\", \"tests/configurations/column_metadata.tsv\")\n",
    "    ),\n",
    "    sep=\"\\t\",\n",
    ")\n",
    "\n",
    "column_metadata[\"ordinal_position\"] = column_metadata[\"ordinal_position\"].astype(int)\n",
    "\n",
    "column_metadata[\"is_primary_key\"] = column_metadata[\"is_primary_key\"].astype(bool)\n",
    "\n",
    "column_metadata[\"is_event_time\"] = column_metadata[\"is_event_time\"].astype(bool)\n",
    "\n",
    "column_metadata[\"filter_values\"] = column_metadata[\"filter_values\"].fillna(\"[]\")\n",
    "\n",
    "for column in [\n",
    "    column\n",
    "    for column in column_metadata.columns.tolist()\n",
    "    if column\n",
    "    not in [\"ordinal_position\", \"is_primary_key\", \"is_event_time\", \"filter_values\"]\n",
    "]:\n",
    "    column_metadata[column] = column_metadata[column].fillna(\"\")\n",
    "    column_metadata[column] = column_metadata[column].astype(str)\n",
    "\n",
    "display(column_metadata)\n",
    "\n",
    "column_metadata = {\n",
    "    dataset: {\n",
    "        row.column_name: tyr.lineage.schema.source.ColumnMetadata(row)\n",
    "        for index, row in column_metadata[\n",
    "            column_metadata[\"dataset\"] == dataset\n",
    "        ].iterrows()\n",
    "    }\n",
    "    for dataset in column_metadata.dataset.unique()\n",
    "}\n",
    "\n",
    "column_metadata"
   ]
  },
  {
   "cell_type": "markdown",
   "id": "9ec470823cfd00f1",
   "metadata": {
    "collapsed": false,
    "jupyter": {
     "outputs_hidden": false
    }
   },
   "source": [
    "_________________________________________________________________________________________________________________\n",
    "# Editing Metadata\n",
    "\n",
    "We're going to build source to illustrate how column metadata affects the construction of a staging table.\n",
    "\n",
    "**This is bad practice.** \n",
    "\n",
    "Always update column and file metadata in the configuration files and rebuild from\n",
    "the configuration files. We're only doing this to demonstrate how changing column metadata\n",
    "changes the staging query."
   ]
  },
  {
   "cell_type": "code",
   "execution_count": 6,
   "id": "3c5b5d7d7e7146aa",
   "metadata": {
    "ExecuteTime": {
     "end_time": "2025-10-14T06:42:57.291258120Z",
     "start_time": "2025-10-14T06:42:57.161850427Z"
    },
    "collapsed": false,
    "jupyter": {
     "outputs_hidden": false
    }
   },
   "outputs": [
    {
     "name": "stdout",
     "output_type": "stream",
     "text": [
      "Query with 1dp precision\n",
      "SELECT ROUND(TRY_CAST(\"X\" AS FLOAT), 1) AS x\n",
      "FROM\n",
      "  (SELECT DISTINCT *\n",
      "   FROM read_csv_auto('/home/miles/tyr/tests/datasets/car_location_session_*.tsv', delim='\\t', header=True, union_by_name=True)) AS car_location\n",
      "\n",
      "\n",
      "Query with 0dp precision\n",
      "SELECT ROUND(TRY_CAST(\"X\" AS FLOAT), 0) AS x\n",
      "FROM\n",
      "  (SELECT DISTINCT *\n",
      "   FROM read_csv_auto('/home/miles/tyr/tests/datasets/car_location_session_*.tsv', delim='\\t', header=True, union_by_name=True)) AS car_location\n"
     ]
    }
   ],
   "source": [
    "source = tyr.lineage.schema.source.Source(\n",
    "    settings=tyr.lineage.schema.source.SourceSettings(\n",
    "        file_metadata=file_metadata,\n",
    "        expected_column_metadata=column_metadata,\n",
    "        extensions=[\"spatial\"],\n",
    "    )\n",
    ")\n",
    "\n",
    "# Staging columns are built using a function called lineage.macros.columns.staging_column_transform()\n",
    "# Here, we will call it on a single source column.\n",
    "\n",
    "car_location_subquery = tyr.lineage.tables.Subquery(source.tables.car_location)\n",
    "\n",
    "source_table = tyr.lineage.tables.Core(\n",
    "    name=\"test_column_metadata_change\",\n",
    "    source=car_location_subquery,\n",
    "    columns=tyr.lineage.core.ColumnList(\n",
    "        [\n",
    "            tyr.lineage.macros.columns.staging_column_transform(\n",
    "                tyr.lineage.tables.Select(\n",
    "                    source.tables.car_location\n",
    "                ).columns.list_columns()[0],\n",
    "                source.tables.car_location.expected_column_metadata[\"X\"],\n",
    "            )\n",
    "        ]\n",
    "    ),\n",
    ")\n",
    "\n",
    "print(\"Query with 1dp precision\")\n",
    "print(source_table.sql)\n",
    "\n",
    "# Let's update the precision of X from 1dp to 0dp\n",
    "source.tables.car_location.expected_column_metadata[\"X\"].precision = \"0dp\"\n",
    "\n",
    "# Any object downstream relying on this information must be reinitialized\n",
    "source_table = tyr.lineage.tables.Core(\n",
    "    name=\"test_column_metadata_change\",\n",
    "    source=car_location_subquery,\n",
    "    columns=tyr.lineage.core.ColumnList(\n",
    "        [\n",
    "            tyr.lineage.macros.columns.staging_column_transform(\n",
    "                tyr.lineage.tables.Select(\n",
    "                    source.tables.car_location\n",
    "                ).columns.list_columns()[0],\n",
    "                source.tables.car_location.expected_column_metadata[\"X\"],\n",
    "            )\n",
    "        ]\n",
    "    ),\n",
    ")\n",
    "\n",
    "print(\"\\n\")\n",
    "print(\"Query with 0dp precision\")\n",
    "print(source_table.sql)\n",
    "\n",
    "# Note that re-running this cell without the following line does not reset the column precision to 0dp\n",
    "# This is because the column metadata has not been re-read from file\n",
    "source.tables.car_location.expected_column_metadata[\"X\"].precision = \"1dp\""
   ]
  },
  {
   "cell_type": "markdown",
   "id": "735c97775be1d1e0",
   "metadata": {
    "collapsed": false,
    "jupyter": {
     "outputs_hidden": false
    }
   },
   "source": [
    "Experiment with changing parameters in the configuration files:\n",
    "- <code>tyr/test/configurations/column_metadata.tsv</code>\n",
    "- <code>tyr/test/configurations/file_metadata.tsv</code>\n",
    "\n",
    "A full list of parameters can be queried in the ColumnMetadata object docs\n",
    "\n"
   ]
  },
  {
   "cell_type": "code",
   "execution_count": 7,
   "id": "69cedaed2c08d672",
   "metadata": {
    "ExecuteTime": {
     "end_time": "2025-10-14T06:42:58.842880833Z",
     "start_time": "2025-10-14T06:42:58.832151643Z"
    },
    "collapsed": false,
    "jupyter": {
     "outputs_hidden": false
    }
   },
   "outputs": [
    {
     "name": "stdout",
     "output_type": "stream",
     "text": [
      "\n",
      "    The ColumnMetadata object takes the following pd.Series as an argument\n",
      "\n",
      "    :param schema: Schema containing table\n",
      "    :type schema: str\n",
      "    :param dataset: Dataset name. Will be used as table name in schema\n",
      "    :type dataset: str\n",
      "    :param column_name: Column name in source.\n",
      "    :type column_name: str\n",
      "    :param column_alias: Column alias.\n",
      "    :type column_alias: str\n",
      "    :param var_type: Options: Variable type. Used to determine which validation tests are run.\n",
      "     ``'numeric'``/``'categorical'``/``'string'``/``'timedelta'``/``'datetime'``/``'key'``/``'sequential'``/``''``\n",
      "     Default: ``''``\n",
      "    :type var_type: str\n",
      "    :param data_type: SQL data_type of column to cast to\n",
      "    :type data_type: str\n",
      "    :param source_unit: Unit of measurement of column in source file. Default: ``''``\n",
      "    :type source_unit: str\n",
      "    :param target_unit: Target unit of measurement to convert to in source table. Default: ``''``\n",
      "    :type target_unit: str\n",
      "    :param precision: Precision to round column to. Options: ``'{n}dp'``/``'{n}sf'`` Default: ``''``\n",
      "    :type precision: str\n",
      "    :param scale_factor: Value to multiply column by to scale to source_unit. Default: ``''``\n",
      "    :type scale_factor: float\n",
      "    :param filter_values: Values to filter. Default: ``''``\n",
      "    :type filter_values: List[Any]\n",
      "    :param on_filter: Behaviour on filter value. Options: ``'PASS'``/``'FAIL'``/``'WARN'``/``'SKIP'`` Default: ``'PASS'``\n",
      "    :type on_filter: str\n",
      "    :param on_null: Behaviour on NULL value. Options: ``'PASS'``/``'FAIL'``/``'WARN'``/``'SKIP'`` Default: ``'PASS'``\n",
      "    :type on_null: str\n",
      "    :param is_primary_key: Default: ``False``\n",
      "    :type is_primary_key: bool\n",
      "    :param is_event_time: Default: ``False``\n",
      "    :type is_event_time: bool\n",
      "    :param regex: Default: ``''``\n",
      "    :type regex: str\n",
      "    :param ordinal_position: Column order\n",
      "    :type ordinal_position: int\n",
      "    \n"
     ]
    }
   ],
   "source": [
    "print(tyr.lineage.schema.source.ColumnMetadata.__doc__)"
   ]
  },
  {
   "cell_type": "markdown",
   "id": "37afb623bfdfdae0",
   "metadata": {
    "collapsed": false,
    "jupyter": {
     "outputs_hidden": false
    }
   },
   "source": [
    "________________________________________________________________________________________________________________\n",
    "# Building Source & Staging\n",
    "\n",
    "<p>Now that we have our metadata objects read in, we can construct source and staging. It is importand to note that, although source takes <code>expected_column_metadata</code> as an argument, this isn't used in the construction of the sql query. It is stored within the source table object and used downstream by staging. The <code>SourceSettings</code> and <code>StagingSettings</code> objects are required for their respective schemas to read in the information correctly. The <code>extensions</code> parameter is used to install any necessary duckdb extensions. In this case, <code>spatial</code> will be required as geometry objects exist in the files.</p>"
   ]
  },
  {
   "cell_type": "code",
   "execution_count": 8,
   "id": "initial_id",
   "metadata": {
    "ExecuteTime": {
     "end_time": "2025-10-14T06:43:01.815707049Z",
     "start_time": "2025-10-14T06:42:59.757623399Z"
    },
    "collapsed": true,
    "jupyter": {
     "outputs_hidden": true
    }
   },
   "outputs": [],
   "source": [
    "source = tyr.lineage.schema.source.Source(\n",
    "    settings=tyr.lineage.schema.source.SourceSettings(\n",
    "        file_metadata=file_metadata,\n",
    "        expected_column_metadata=column_metadata,\n",
    "        extensions=[\"spatial\"],\n",
    "    )\n",
    ")\n",
    "\n",
    "staging = tyr.lineage.schema.staging.Staging(\n",
    "    source=source,\n",
    "    settings=tyr.lineage.schema.staging.StagingSettings(\n",
    "        name=\"staging\", extensions=[\"spatial\"]\n",
    "    ),\n",
    ")"
   ]
  },
  {
   "cell_type": "markdown",
   "id": "66715bbff2c7743b",
   "metadata": {
    "collapsed": false,
    "jupyter": {
     "outputs_hidden": false
    }
   },
   "source": [
    "_________________________________________________________________________________________________________\n",
    "# Saving schemas\n",
    "\n",
    "We can save schemas to recall them in other files without re-reading metadata. \n",
    "Note that this will mean that changing the metadata files will not update the schema. \n",
    "Only recreating them from the files will do this.\n",
    "\n",
    "This practice is useful for version controlling schemas."
   ]
  },
  {
   "cell_type": "code",
   "execution_count": 9,
   "id": "ebba0ce076d3fc4c",
   "metadata": {
    "ExecuteTime": {
     "end_time": "2025-10-14T06:43:01.890335665Z",
     "start_time": "2025-10-14T06:43:01.822882876Z"
    },
    "collapsed": false,
    "jupyter": {
     "outputs_hidden": false
    }
   },
   "outputs": [],
   "source": [
    "# Note that after this operation, the saved schema will appear in the tests/saved_schema/ directory\n",
    "source.save(os.path.abspath(os.path.join(os.getcwd(), \"..\", \"tests/saved_schema\")))\n",
    "staging.save(os.path.abspath(os.path.join(os.getcwd(), \"..\", \"tests/saved_schema\")))\n",
    "\n",
    "source = tyr.lineage.schema.core.load_schema_from_pkl(\n",
    "    os.path.abspath(os.path.join(os.getcwd(), \"..\", \"tests/saved_schema/source.pkl\"))\n",
    ")\n",
    "staging = tyr.lineage.schema.core.load_schema_from_pkl(\n",
    "    os.path.abspath(os.path.join(os.getcwd(), \"..\", \"tests/saved_schema/staging.pkl\"))\n",
    ")"
   ]
  },
  {
   "cell_type": "markdown",
   "id": "9c6629905aa63f49",
   "metadata": {
    "collapsed": false,
    "jupyter": {
     "outputs_hidden": false
    }
   },
   "source": [
    "___________________________________________________________________________________________________________________________________________________\n",
    "# Interacting with lineage objects\n",
    "<p>Now we can interact with the table objects and retrieve their attributes as follows: </p>"
   ]
  },
  {
   "cell_type": "code",
   "execution_count": 10,
   "id": "36fe8644c649e044",
   "metadata": {
    "ExecuteTime": {
     "end_time": "2025-10-14T06:43:01.910622242Z",
     "start_time": "2025-10-14T06:43:01.872956845Z"
    },
    "collapsed": false,
    "jupyter": {
     "outputs_hidden": false
    }
   },
   "outputs": [
    {
     "name": "stdout",
     "output_type": "stream",
     "text": [
      "\n",
      "\n",
      "Table name: sessions\n",
      "\n",
      "\n",
      "Column Names:\n",
      "['session_key', 'type', 'name', 'start_date', 'end_date', 'gmt_offset', 'path']\n",
      "\n",
      "\n",
      "Column from attribute name:\n",
      "{'source': <tyr.lineage.functions.datetime.StringToTimestamp object at 0x7f429833ee50>, 'name': 'start_date', 'data_type': <tyr.lineage.values.Datatype object at 0x7f42983522e0>, 'var_type': 'timestamp', 'on_null': 'PASS', 'is_primary_key': False, 'is_event_time': False, 'current_table': <tyr.lineage.tables.Core object at 0x7f429833e310>, 'unit': <units.core.Unit object at 0x7f4298615610>, 'sql': 'STRPTIME(TRY_CAST(\"StartDate\" AS VARCHAR), CAST(\\'%Y-%m-%d %H:%M:%S\\' AS VARCHAR))', '_node_data': {'label': 'start_date', 'name': 'start_date', 'data_type': 'TIMESTAMP', 'var_type': 'timestamp', 'type': \"<class 'tyr.lineage.columns.Core'>\", 'base': \"<class 'tyr.lineage.core._Column'>\", 'unit': '', 'macro_group': '', 'sql': 'STRPTIME(TRY_CAST(\"StartDate\" AS VARCHAR), CAST(\\'%Y-%m-%d %H:%M:%S\\' AS VARCHAR))'}, 'graph': <tyr.lineage.core.LineageGraph object at 0x7f42983523d0>}\n",
      "\n",
      "\n",
      "Column from string index:\n",
      "{'source': <tyr.lineage.functions.datetime.StringToTimestamp object at 0x7f429833ee50>, 'name': 'start_date', 'data_type': <tyr.lineage.values.Datatype object at 0x7f42983522e0>, 'var_type': 'timestamp', 'on_null': 'PASS', 'is_primary_key': False, 'is_event_time': False, 'current_table': <tyr.lineage.tables.Core object at 0x7f429833e310>, 'unit': <units.core.Unit object at 0x7f4298615610>, 'sql': 'STRPTIME(TRY_CAST(\"StartDate\" AS VARCHAR), CAST(\\'%Y-%m-%d %H:%M:%S\\' AS VARCHAR))', '_node_data': {'label': 'start_date', 'name': 'start_date', 'data_type': 'TIMESTAMP', 'var_type': 'timestamp', 'type': \"<class 'tyr.lineage.columns.Core'>\", 'base': \"<class 'tyr.lineage.core._Column'>\", 'unit': '', 'macro_group': '', 'sql': 'STRPTIME(TRY_CAST(\"StartDate\" AS VARCHAR), CAST(\\'%Y-%m-%d %H:%M:%S\\' AS VARCHAR))'}, 'graph': <tyr.lineage.core.LineageGraph object at 0x7f42983523d0>}\n",
      "\n",
      "\n",
      "Primary Key:\n",
      "['session_key']\n",
      "\n",
      "\n",
      "SQL:\n",
      "SELECT DISTINCT TRY_CAST(\"Key\" AS INT) AS session_key,\n",
      "                TRY_CAST(\"Type\" AS VARCHAR) AS type,\n",
      "                TRY_CAST(\"Name\" AS VARCHAR) AS name,\n",
      "                STRPTIME(TRY_CAST(\"StartDate\" AS VARCHAR), CAST('%Y-%m-%d %H:%M:%S' AS VARCHAR)) AS start_date,\n",
      "                STRPTIME(TRY_CAST(\"EndDate\" AS VARCHAR), CAST('%Y-%m-%d %H:%M:%S' AS VARCHAR)) AS end_date,\n",
      "                TRY_CAST(\"GmtOffset\" AS INTERVAL) AS gmt_offset,\n",
      "                TRY_CAST(\"Path\" AS VARCHAR) AS path\n",
      "FROM source.sessions AS sessions\n",
      "\n",
      "\n",
      "Schema name:\n",
      "staging\n",
      "\n",
      "\n",
      "Source table name:\n",
      "source.sessions\n"
     ]
    }
   ],
   "source": [
    "# Retrieve name\n",
    "print(\"\\n\")\n",
    "print(rf\"Table name: {staging.tables.sessions.name}\")\n",
    "\n",
    "# Retrieve column names\n",
    "print(\"\\n\")\n",
    "print(\"Column Names:\")\n",
    "print(staging.tables.sessions.columns.list_names())\n",
    "\n",
    "# Column attributes can be achieved through attribute name or string indexing\n",
    "print(\"\\n\")\n",
    "print(\"Column from attribute name:\")\n",
    "print(staging.tables.sessions.columns.start_date.__dict__)\n",
    "\n",
    "print(\"\\n\")\n",
    "print(\"Column from string index:\")\n",
    "print(staging.tables.sessions.columns[\"start_date\"].__dict__)\n",
    "\n",
    "# Retrieve primary key\n",
    "print(\"\\n\")\n",
    "print(\"Primary Key:\")\n",
    "print(staging.tables.sessions.primary_key.list_names())\n",
    "\n",
    "# Retrieve query\n",
    "print(\"\\n\")\n",
    "print(\"SQL:\")\n",
    "print(staging.tables.sessions.sql)\n",
    "\n",
    "# Retrieve schema of table\n",
    "print(\"\\n\")\n",
    "print(\"Schema name:\")\n",
    "print(staging.tables.sessions.schema.name)\n",
    "\n",
    "# Retrieve name of source table with schema\n",
    "print(\"\\n\")\n",
    "print(\"Source table name:\")\n",
    "print(\n",
    "    rf\"{staging.tables.sessions.source.schema.name}.{staging.tables.sessions.source.name}\"\n",
    ")"
   ]
  },
  {
   "cell_type": "markdown",
   "id": "a45f56c4379e9cd9",
   "metadata": {
    "collapsed": false,
    "jupyter": {
     "outputs_hidden": false
    }
   },
   "source": [
    "______________________________________________________________________________________________________________________________________________________\n",
    "# Retreiving attributes to root\n",
    "Attributes can be chained until no root attribute exists"
   ]
  },
  {
   "cell_type": "code",
   "execution_count": 11,
   "id": "8f7316bb1a9ef1a",
   "metadata": {
    "ExecuteTime": {
     "end_time": "2025-10-14T06:43:01.910772471Z",
     "start_time": "2025-10-14T06:43:01.906028663Z"
    },
    "collapsed": false,
    "jupyter": {
     "outputs_hidden": false
    }
   },
   "outputs": [
    {
     "name": "stdout",
     "output_type": "stream",
     "text": [
      "<tyr.lineage.schema.staging.Staging object at 0x7f4293205190>\n",
      "staging\n"
     ]
    }
   ],
   "source": [
    "# Schema\n",
    "print(staging)\n",
    "print(staging.name)"
   ]
  },
  {
   "cell_type": "code",
   "execution_count": 12,
   "id": "ad9d0b87b4a1d751",
   "metadata": {
    "ExecuteTime": {
     "end_time": "2025-10-14T06:43:01.910864451Z",
     "start_time": "2025-10-14T06:43:01.906098612Z"
    },
    "collapsed": false,
    "jupyter": {
     "outputs_hidden": false
    }
   },
   "outputs": [
    {
     "name": "stdout",
     "output_type": "stream",
     "text": [
      "<tyr.lineage.core.TableList object at 0x7f429868bcd0>\n",
      "['car_location', 'car_telemetry', 'circuits', 'meetings', 'race_control', 'session_status', 'track_status', 'sessions', 'weather', 'results']\n"
     ]
    }
   ],
   "source": [
    "# Schema tables\n",
    "print(staging.tables)\n",
    "print(staging.tables.list_names())"
   ]
  },
  {
   "cell_type": "code",
   "execution_count": 13,
   "id": "dcb8718a494491f1",
   "metadata": {
    "ExecuteTime": {
     "end_time": "2025-10-14T06:43:01.910958390Z",
     "start_time": "2025-10-14T06:43:01.906149772Z"
    },
    "collapsed": false,
    "jupyter": {
     "outputs_hidden": false
    }
   },
   "outputs": [
    {
     "name": "stdout",
     "output_type": "stream",
     "text": [
      "<tyr.lineage.tables.Core object at 0x7f42985bb280>\n",
      "car_telemetry\n"
     ]
    }
   ],
   "source": [
    "# car_telemetry table\n",
    "print(staging.tables.car_telemetry)\n",
    "# TableList can also be accessed with string index\n",
    "print(staging.tables[\"car_telemetry\"].name)"
   ]
  },
  {
   "cell_type": "code",
   "execution_count": 14,
   "id": "96d7c31e9d65bfc7",
   "metadata": {
    "ExecuteTime": {
     "end_time": "2025-10-14T06:43:02.042044576Z",
     "start_time": "2025-10-14T06:43:01.952299210Z"
    },
    "collapsed": false,
    "jupyter": {
     "outputs_hidden": false
    }
   },
   "outputs": [
    {
     "name": "stdout",
     "output_type": "stream",
     "text": [
      "<tyr.lineage.core.ColumnList object at 0x7f42985bb460>\n",
      "['event_ts', 'rpm', 'kmh', 'n_gear', 'throttle', 'brake', 'drs', 'source', 'meeting_time', 'session_time', 'driver_number']\n"
     ]
    }
   ],
   "source": [
    "# car_telemetry columns\n",
    "print(staging.tables.car_telemetry.columns)\n",
    "print(staging.tables.car_telemetry.columns.list_names())"
   ]
  },
  {
   "cell_type": "code",
   "execution_count": 15,
   "id": "78a76b11c9a6d117",
   "metadata": {
    "ExecuteTime": {
     "end_time": "2025-10-14T06:43:02.052950786Z",
     "start_time": "2025-10-14T06:43:02.043662829Z"
    },
    "collapsed": false,
    "jupyter": {
     "outputs_hidden": false
    }
   },
   "outputs": [
    {
     "name": "stdout",
     "output_type": "stream",
     "text": [
      "<tyr.lineage.columns.Core object at 0x7f4298560df0>\n",
      "kmh\n",
      "var_type: numeric\n",
      "data_type: FLOAT\n",
      "unit: km^1h^-1\n",
      "sql: ROUND(TRY_CAST(\"Speed\" AS FLOAT), 1)\n"
     ]
    }
   ],
   "source": [
    "# kmh column in car_telemetry\n",
    "print(staging.tables.car_telemetry.columns.kmh)\n",
    "# kmh column name\n",
    "print(staging.tables.car_telemetry.columns.kmh.name)\n",
    "# check attributes of kmh\n",
    "print(rf\"var_type: {staging.tables.car_telemetry.columns.kmh.var_type}\")\n",
    "print(rf\"data_type: {staging.tables.car_telemetry.columns.kmh.data_type.value}\")\n",
    "print(rf\"unit: {staging.tables.car_telemetry.columns.kmh.unit.name}\")\n",
    "print(rf\"sql: {staging.tables.car_telemetry.columns.kmh.sql}\")"
   ]
  },
  {
   "cell_type": "code",
   "execution_count": 16,
   "id": "d1c382e831c02b05",
   "metadata": {
    "ExecuteTime": {
     "end_time": "2025-10-14T06:43:02.287156267Z",
     "start_time": "2025-10-14T06:43:02.283903302Z"
    },
    "collapsed": false,
    "jupyter": {
     "outputs_hidden": false
    }
   },
   "outputs": [
    {
     "name": "stdout",
     "output_type": "stream",
     "text": [
      "<tyr.lineage.functions.math.Round object at 0x7f4298560e20>\n",
      "ROUND(TRY_CAST(\"Speed\" AS FLOAT), 1)\n"
     ]
    }
   ],
   "source": [
    "# kmh column source in car_telemetry - math ROUND function\n",
    "print(staging.tables.car_telemetry.columns.kmh.source)\n",
    "# At any point we can query sql. This will display sql down to the root level\n",
    "print(staging.tables.car_telemetry.columns.kmh.source.sql)"
   ]
  },
  {
   "cell_type": "code",
   "execution_count": 17,
   "id": "779ba5553bf6b5b5",
   "metadata": {
    "ExecuteTime": {
     "end_time": "2025-10-14T06:43:02.575606498Z",
     "start_time": "2025-10-14T06:43:02.550249505Z"
    },
    "collapsed": false,
    "jupyter": {
     "outputs_hidden": false
    }
   },
   "outputs": [
    {
     "name": "stdout",
     "output_type": "stream",
     "text": [
      "<tyr.lineage.functions.data_type.TryCast object at 0x7f4298560e50>\n",
      "TRY_CAST(\"Speed\" AS FLOAT)\n"
     ]
    }
   ],
   "source": [
    "# math ROUND function arg[0] - data_type TRYCAST function\n",
    "print(staging.tables.car_telemetry.columns.kmh.source.args[0])\n",
    "print(staging.tables.car_telemetry.columns.kmh.source.args[0].sql)"
   ]
  },
  {
   "cell_type": "code",
   "execution_count": 18,
   "id": "45fe8e9100faad37",
   "metadata": {
    "ExecuteTime": {
     "end_time": "2025-10-14T06:43:02.904870061Z",
     "start_time": "2025-10-14T06:43:02.899963434Z"
    },
    "collapsed": false,
    "jupyter": {
     "outputs_hidden": false
    }
   },
   "outputs": [
    {
     "name": "stdout",
     "output_type": "stream",
     "text": [
      "<tyr.lineage.expressions.As object at 0x7f4298560e80>\n",
      "\"Speed\" AS FLOAT\n"
     ]
    }
   ],
   "source": [
    "# data_type TRYCAST function arg[0] - expression AS\n",
    "print(staging.tables.car_telemetry.columns.kmh.source.args[0].args[0])\n",
    "print(staging.tables.car_telemetry.columns.kmh.source.args[0].args[0].sql)"
   ]
  },
  {
   "cell_type": "code",
   "execution_count": 19,
   "id": "2191a65ae1fb9e0",
   "metadata": {
    "ExecuteTime": {
     "end_time": "2025-10-14T06:43:03.156223564Z",
     "start_time": "2025-10-14T06:43:03.153906435Z"
    },
    "collapsed": false,
    "jupyter": {
     "outputs_hidden": false
    }
   },
   "outputs": [
    {
     "name": "stdout",
     "output_type": "stream",
     "text": [
      "<tyr.lineage.functions.utility.SourceWildToStagingColumn object at 0x7f4298560f70>\n",
      "{'_node_data': {'base': \"<class 'tyr.lineage.core._Function'>\",\n",
      "                'data_type': '',\n",
      "                'label': 'SOURCE_WILD_TO_STAGING_COLUMN',\n",
      "                'macro_group': 'StagingColumnTransform - 139923903208272',\n",
      "                'sql': '\"Speed\"',\n",
      "                'type': '<class '\n",
      "                        \"'tyr.lineage.functions.utility.SourceWildToStagingColumn'>\",\n",
      "                'unit': 'km^1h^-1',\n",
      "                'var_type': ''},\n",
      " 'args': [<tyr.lineage.columns.WildCard object at 0x7f429865e070>,\n",
      "          <tyr.lineage.schema.source.ColumnMetadata object at 0x7f42986f7fa0>],\n",
      " 'data_type': None,\n",
      " 'distinct': False,\n",
      " 'framing': None,\n",
      " 'graph': <tyr.lineage.core.LineageGraph object at 0x7f4298560fa0>,\n",
      " 'is_event_time': False,\n",
      " 'is_primary_key': False,\n",
      " 'name': 'SOURCE_WILD_TO_STAGING_COLUMN',\n",
      " 'order_by': <tyr.lineage.core.OrderBy object at 0x7f4298615220>,\n",
      " 'partition_by': <tyr.lineage.core.PartitionBy object at 0x7f42986151c0>,\n",
      " 'sql': '\"Speed\"',\n",
      " 'unit': <units.core.Unit object at 0x7f42986fa0a0>,\n",
      " 'var_type': None}\n"
     ]
    }
   ],
   "source": [
    "# expression AS left object - utility function SourceWildToStaging <- This initializes the lineage tree for column objects\n",
    "print(staging.tables.car_telemetry.columns.kmh.source.args[0].args[0].left)\n",
    "# We can check which attributes are available to query using the .__dict__ method\n",
    "pprint(staging.tables.car_telemetry.columns.kmh.source.args[0].args[0].left.__dict__)"
   ]
  },
  {
   "cell_type": "code",
   "execution_count": 20,
   "id": "ab1587cfa48b0e51",
   "metadata": {
    "ExecuteTime": {
     "end_time": "2025-10-14T06:43:03.506682369Z",
     "start_time": "2025-10-14T06:43:03.503000747Z"
    },
    "collapsed": false,
    "jupyter": {
     "outputs_hidden": false
    }
   },
   "outputs": [
    {
     "name": "stdout",
     "output_type": "stream",
     "text": [
      "<tyr.lineage.columns.WildCard object at 0x7f429865e070>\n",
      "Source table: source.car_telemetry\n"
     ]
    }
   ],
   "source": [
    "# Get WildCard column from SourceWildToStaging\n",
    "print(staging.tables.car_telemetry.columns.kmh.source.args[0].args[0].left.args[0])\n",
    "\n",
    "# We can check the current table of this object to determine the source table\n",
    "print(\n",
    "    \"Source table: \"\n",
    "    + staging.tables.car_telemetry.columns.kmh.source.args[0]\n",
    "    .args[0]\n",
    "    .left.args[0]\n",
    "    .current_table.schema.name\n",
    "    + \".\"\n",
    "    + staging.tables.car_telemetry.columns.kmh.source.args[0]\n",
    "    .args[0]\n",
    "    .left.args[0]\n",
    "    .current_table.name\n",
    ")"
   ]
  },
  {
   "cell_type": "code",
   "execution_count": 21,
   "id": "ac99ca07b0d57567",
   "metadata": {
    "ExecuteTime": {
     "end_time": "2025-10-14T06:43:03.887393966Z",
     "start_time": "2025-10-14T06:43:03.858005821Z"
    },
    "collapsed": false,
    "jupyter": {
     "outputs_hidden": false
    }
   },
   "outputs": [
    {
     "name": "stdout",
     "output_type": "stream",
     "text": [
      "{'value': <class 'tyr.lineage.operators.WildCard'>, 'name': '*', 'data_type': <tyr.lineage.values.Datatype object at 0x7f429865e0d0>, 'var_type': None, 'unit': <units.core.Unit object at 0x7f429865e100>, 'sql': '*', '_node_data': {'label': 'WILDCARD', 'data_type': 'WILDCARD', 'var_type': '', 'type': \"<class 'tyr.lineage.values.WildCard'>\", 'base': \"<class 'tyr.lineage.core._Value'>\", 'unit': '', 'macro_group': '', 'sql': '*'}, 'graph': <tyr.lineage.core.LineageGraph object at 0x7f429865e5b0>}\n"
     ]
    }
   ],
   "source": [
    "# The WildCard value is the root object and therefore has no source\n",
    "print(\n",
    "    staging.tables.car_telemetry.columns.kmh.source.args[0]\n",
    "    .args[0]\n",
    "    .left.args[0]\n",
    "    .source.__dict__\n",
    ")"
   ]
  },
  {
   "cell_type": "code",
   "execution_count": null,
   "id": "96953950e697ef2d",
   "metadata": {
    "collapsed": false,
    "jupyter": {
     "outputs_hidden": false
    }
   },
   "outputs": [],
   "source": []
  }
 ],
 "metadata": {
  "kernelspec": {
   "display_name": "Python 3 (ipykernel)",
   "language": "python",
   "name": "python3"
  },
  "language_info": {
   "codemirror_mode": {
    "name": "ipython",
    "version": 3
   },
   "file_extension": ".py",
   "mimetype": "text/x-python",
   "name": "python",
   "nbconvert_exporter": "python",
   "pygments_lexer": "ipython3",
   "version": "3.9.19"
  }
 },
 "nbformat": 4,
 "nbformat_minor": 5
}
