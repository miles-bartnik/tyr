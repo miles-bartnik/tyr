{
 "cells": [
  {
   "cell_type": "code",
   "execution_count": 1,
   "id": "initial_id",
   "metadata": {
    "ExecuteTime": {
     "end_time": "2025-10-15T06:44:02.999435992Z",
     "start_time": "2025-10-15T06:44:02.672307472Z"
    }
   },
   "outputs": [],
   "source": [
    "import pandas as pd\n",
    "\n",
    "import tyr\n",
    "\n",
    "# Required to get relative path of test datasets\n",
    "import os\n",
    "\n",
    "from pprint import pprint\n",
    "\n",
    "pd.set_option(\"display.max_rows\", None)\n",
    "pd.set_option(\"display.max_columns\", None)"
   ]
  },
  {
   "cell_type": "code",
   "execution_count": 2,
   "id": "83ea6f4f1ddb4425",
   "metadata": {
    "ExecuteTime": {
     "end_time": "2025-10-15T06:44:03.071340572Z",
     "start_time": "2025-10-15T06:44:03.001238233Z"
    }
   },
   "outputs": [],
   "source": [
    "# Load schema from pkl\n",
    "source = tyr.lineage.schema.core.load_schema_from_pkl(\n",
    "    os.path.abspath(os.path.join(os.getcwd(), \"..\", \"tests/saved_schema/source.pkl\"))\n",
    ")\n",
    "staging = tyr.lineage.schema.core.load_schema_from_pkl(\n",
    "    os.path.abspath(os.path.join(os.getcwd(), \"..\", \"tests/saved_schema/staging.pkl\"))\n",
    ")"
   ]
  },
  {
   "cell_type": "code",
   "execution_count": 3,
   "id": "9c8cd85d8a515bdd",
   "metadata": {
    "ExecuteTime": {
     "end_time": "2025-10-15T06:44:03.082543107Z",
     "start_time": "2025-10-15T06:44:03.080234499Z"
    }
   },
   "outputs": [],
   "source": [
    "# Defining connection\n",
    "conn = tyr.database.connections.Connection(\n",
    "    name=\"test\",\n",
    "    syntax=\"duckdb\",\n",
    "    database=os.path.abspath(os.path.join(os.getcwd(), \"..\", \"tests/test.duckdb\")),\n",
    "    read_only=False,\n",
    ")"
   ]
  },
  {
   "cell_type": "code",
   "execution_count": 4,
   "id": "dc1641bdab17ddd6",
   "metadata": {
    "ExecuteTime": {
     "end_time": "2025-10-15T06:44:03.124404754Z",
     "start_time": "2025-10-15T06:44:03.083550033Z"
    }
   },
   "outputs": [
    {
     "data": {
      "text/plain": "   table_catalog table_schema      table_name  table_type  \\\n0           test    singapore    car_location  BASE TABLE   \n1           test    singapore   car_telemetry  BASE TABLE   \n2           test    singapore        circuits  BASE TABLE   \n3           test    singapore        meetings  BASE TABLE   \n4           test    singapore    race_control  BASE TABLE   \n5           test    singapore         results  BASE TABLE   \n6           test    singapore        sessions  BASE TABLE   \n7           test    singapore  session_status  BASE TABLE   \n8           test    singapore    track_status  BASE TABLE   \n9           test    singapore         weather  BASE TABLE   \n10          test       source    car_location  BASE TABLE   \n11          test       source   car_telemetry  BASE TABLE   \n12          test       source        circuits  BASE TABLE   \n13          test       source        meetings  BASE TABLE   \n14          test       source    race_control  BASE TABLE   \n15          test       source         results  BASE TABLE   \n16          test       source        sessions  BASE TABLE   \n17          test       source  session_status  BASE TABLE   \n18          test       source    track_status  BASE TABLE   \n19          test       source         weather  BASE TABLE   \n20          test      staging    car_location  BASE TABLE   \n21          test      staging   car_telemetry  BASE TABLE   \n22          test      staging        circuits  BASE TABLE   \n23          test      staging        meetings  BASE TABLE   \n24          test      staging    race_control  BASE TABLE   \n25          test      staging         results  BASE TABLE   \n26          test      staging        sessions  BASE TABLE   \n27          test      staging  session_status  BASE TABLE   \n28          test      staging    track_status  BASE TABLE   \n29          test      staging         weather  BASE TABLE   \n\n   self_referencing_column_name reference_generation  \\\n0                          None                 None   \n1                          None                 None   \n2                          None                 None   \n3                          None                 None   \n4                          None                 None   \n5                          None                 None   \n6                          None                 None   \n7                          None                 None   \n8                          None                 None   \n9                          None                 None   \n10                         None                 None   \n11                         None                 None   \n12                         None                 None   \n13                         None                 None   \n14                         None                 None   \n15                         None                 None   \n16                         None                 None   \n17                         None                 None   \n18                         None                 None   \n19                         None                 None   \n20                         None                 None   \n21                         None                 None   \n22                         None                 None   \n23                         None                 None   \n24                         None                 None   \n25                         None                 None   \n26                         None                 None   \n27                         None                 None   \n28                         None                 None   \n29                         None                 None   \n\n   user_defined_type_catalog user_defined_type_schema user_defined_type_name  \\\n0                       None                     None                   None   \n1                       None                     None                   None   \n2                       None                     None                   None   \n3                       None                     None                   None   \n4                       None                     None                   None   \n5                       None                     None                   None   \n6                       None                     None                   None   \n7                       None                     None                   None   \n8                       None                     None                   None   \n9                       None                     None                   None   \n10                      None                     None                   None   \n11                      None                     None                   None   \n12                      None                     None                   None   \n13                      None                     None                   None   \n14                      None                     None                   None   \n15                      None                     None                   None   \n16                      None                     None                   None   \n17                      None                     None                   None   \n18                      None                     None                   None   \n19                      None                     None                   None   \n20                      None                     None                   None   \n21                      None                     None                   None   \n22                      None                     None                   None   \n23                      None                     None                   None   \n24                      None                     None                   None   \n25                      None                     None                   None   \n26                      None                     None                   None   \n27                      None                     None                   None   \n28                      None                     None                   None   \n29                      None                     None                   None   \n\n   is_insertable_into is_typed commit_action TABLE_COMMENT  \n0                 YES       NO          None          None  \n1                 YES       NO          None          None  \n2                 YES       NO          None          None  \n3                 YES       NO          None          None  \n4                 YES       NO          None          None  \n5                 YES       NO          None          None  \n6                 YES       NO          None          None  \n7                 YES       NO          None          None  \n8                 YES       NO          None          None  \n9                 YES       NO          None          None  \n10                YES       NO          None          None  \n11                YES       NO          None          None  \n12                YES       NO          None          None  \n13                YES       NO          None          None  \n14                YES       NO          None          None  \n15                YES       NO          None          None  \n16                YES       NO          None          None  \n17                YES       NO          None          None  \n18                YES       NO          None          None  \n19                YES       NO          None          None  \n20                YES       NO          None          None  \n21                YES       NO          None          None  \n22                YES       NO          None          None  \n23                YES       NO          None          None  \n24                YES       NO          None          None  \n25                YES       NO          None          None  \n26                YES       NO          None          None  \n27                YES       NO          None          None  \n28                YES       NO          None          None  \n29                YES       NO          None          None  ",
      "text/html": "<div>\n<style scoped>\n    .dataframe tbody tr th:only-of-type {\n        vertical-align: middle;\n    }\n\n    .dataframe tbody tr th {\n        vertical-align: top;\n    }\n\n    .dataframe thead th {\n        text-align: right;\n    }\n</style>\n<table border=\"1\" class=\"dataframe\">\n  <thead>\n    <tr style=\"text-align: right;\">\n      <th></th>\n      <th>table_catalog</th>\n      <th>table_schema</th>\n      <th>table_name</th>\n      <th>table_type</th>\n      <th>self_referencing_column_name</th>\n      <th>reference_generation</th>\n      <th>user_defined_type_catalog</th>\n      <th>user_defined_type_schema</th>\n      <th>user_defined_type_name</th>\n      <th>is_insertable_into</th>\n      <th>is_typed</th>\n      <th>commit_action</th>\n      <th>TABLE_COMMENT</th>\n    </tr>\n  </thead>\n  <tbody>\n    <tr>\n      <th>0</th>\n      <td>test</td>\n      <td>singapore</td>\n      <td>car_location</td>\n      <td>BASE TABLE</td>\n      <td>None</td>\n      <td>None</td>\n      <td>None</td>\n      <td>None</td>\n      <td>None</td>\n      <td>YES</td>\n      <td>NO</td>\n      <td>None</td>\n      <td>None</td>\n    </tr>\n    <tr>\n      <th>1</th>\n      <td>test</td>\n      <td>singapore</td>\n      <td>car_telemetry</td>\n      <td>BASE TABLE</td>\n      <td>None</td>\n      <td>None</td>\n      <td>None</td>\n      <td>None</td>\n      <td>None</td>\n      <td>YES</td>\n      <td>NO</td>\n      <td>None</td>\n      <td>None</td>\n    </tr>\n    <tr>\n      <th>2</th>\n      <td>test</td>\n      <td>singapore</td>\n      <td>circuits</td>\n      <td>BASE TABLE</td>\n      <td>None</td>\n      <td>None</td>\n      <td>None</td>\n      <td>None</td>\n      <td>None</td>\n      <td>YES</td>\n      <td>NO</td>\n      <td>None</td>\n      <td>None</td>\n    </tr>\n    <tr>\n      <th>3</th>\n      <td>test</td>\n      <td>singapore</td>\n      <td>meetings</td>\n      <td>BASE TABLE</td>\n      <td>None</td>\n      <td>None</td>\n      <td>None</td>\n      <td>None</td>\n      <td>None</td>\n      <td>YES</td>\n      <td>NO</td>\n      <td>None</td>\n      <td>None</td>\n    </tr>\n    <tr>\n      <th>4</th>\n      <td>test</td>\n      <td>singapore</td>\n      <td>race_control</td>\n      <td>BASE TABLE</td>\n      <td>None</td>\n      <td>None</td>\n      <td>None</td>\n      <td>None</td>\n      <td>None</td>\n      <td>YES</td>\n      <td>NO</td>\n      <td>None</td>\n      <td>None</td>\n    </tr>\n    <tr>\n      <th>5</th>\n      <td>test</td>\n      <td>singapore</td>\n      <td>results</td>\n      <td>BASE TABLE</td>\n      <td>None</td>\n      <td>None</td>\n      <td>None</td>\n      <td>None</td>\n      <td>None</td>\n      <td>YES</td>\n      <td>NO</td>\n      <td>None</td>\n      <td>None</td>\n    </tr>\n    <tr>\n      <th>6</th>\n      <td>test</td>\n      <td>singapore</td>\n      <td>sessions</td>\n      <td>BASE TABLE</td>\n      <td>None</td>\n      <td>None</td>\n      <td>None</td>\n      <td>None</td>\n      <td>None</td>\n      <td>YES</td>\n      <td>NO</td>\n      <td>None</td>\n      <td>None</td>\n    </tr>\n    <tr>\n      <th>7</th>\n      <td>test</td>\n      <td>singapore</td>\n      <td>session_status</td>\n      <td>BASE TABLE</td>\n      <td>None</td>\n      <td>None</td>\n      <td>None</td>\n      <td>None</td>\n      <td>None</td>\n      <td>YES</td>\n      <td>NO</td>\n      <td>None</td>\n      <td>None</td>\n    </tr>\n    <tr>\n      <th>8</th>\n      <td>test</td>\n      <td>singapore</td>\n      <td>track_status</td>\n      <td>BASE TABLE</td>\n      <td>None</td>\n      <td>None</td>\n      <td>None</td>\n      <td>None</td>\n      <td>None</td>\n      <td>YES</td>\n      <td>NO</td>\n      <td>None</td>\n      <td>None</td>\n    </tr>\n    <tr>\n      <th>9</th>\n      <td>test</td>\n      <td>singapore</td>\n      <td>weather</td>\n      <td>BASE TABLE</td>\n      <td>None</td>\n      <td>None</td>\n      <td>None</td>\n      <td>None</td>\n      <td>None</td>\n      <td>YES</td>\n      <td>NO</td>\n      <td>None</td>\n      <td>None</td>\n    </tr>\n    <tr>\n      <th>10</th>\n      <td>test</td>\n      <td>source</td>\n      <td>car_location</td>\n      <td>BASE TABLE</td>\n      <td>None</td>\n      <td>None</td>\n      <td>None</td>\n      <td>None</td>\n      <td>None</td>\n      <td>YES</td>\n      <td>NO</td>\n      <td>None</td>\n      <td>None</td>\n    </tr>\n    <tr>\n      <th>11</th>\n      <td>test</td>\n      <td>source</td>\n      <td>car_telemetry</td>\n      <td>BASE TABLE</td>\n      <td>None</td>\n      <td>None</td>\n      <td>None</td>\n      <td>None</td>\n      <td>None</td>\n      <td>YES</td>\n      <td>NO</td>\n      <td>None</td>\n      <td>None</td>\n    </tr>\n    <tr>\n      <th>12</th>\n      <td>test</td>\n      <td>source</td>\n      <td>circuits</td>\n      <td>BASE TABLE</td>\n      <td>None</td>\n      <td>None</td>\n      <td>None</td>\n      <td>None</td>\n      <td>None</td>\n      <td>YES</td>\n      <td>NO</td>\n      <td>None</td>\n      <td>None</td>\n    </tr>\n    <tr>\n      <th>13</th>\n      <td>test</td>\n      <td>source</td>\n      <td>meetings</td>\n      <td>BASE TABLE</td>\n      <td>None</td>\n      <td>None</td>\n      <td>None</td>\n      <td>None</td>\n      <td>None</td>\n      <td>YES</td>\n      <td>NO</td>\n      <td>None</td>\n      <td>None</td>\n    </tr>\n    <tr>\n      <th>14</th>\n      <td>test</td>\n      <td>source</td>\n      <td>race_control</td>\n      <td>BASE TABLE</td>\n      <td>None</td>\n      <td>None</td>\n      <td>None</td>\n      <td>None</td>\n      <td>None</td>\n      <td>YES</td>\n      <td>NO</td>\n      <td>None</td>\n      <td>None</td>\n    </tr>\n    <tr>\n      <th>15</th>\n      <td>test</td>\n      <td>source</td>\n      <td>results</td>\n      <td>BASE TABLE</td>\n      <td>None</td>\n      <td>None</td>\n      <td>None</td>\n      <td>None</td>\n      <td>None</td>\n      <td>YES</td>\n      <td>NO</td>\n      <td>None</td>\n      <td>None</td>\n    </tr>\n    <tr>\n      <th>16</th>\n      <td>test</td>\n      <td>source</td>\n      <td>sessions</td>\n      <td>BASE TABLE</td>\n      <td>None</td>\n      <td>None</td>\n      <td>None</td>\n      <td>None</td>\n      <td>None</td>\n      <td>YES</td>\n      <td>NO</td>\n      <td>None</td>\n      <td>None</td>\n    </tr>\n    <tr>\n      <th>17</th>\n      <td>test</td>\n      <td>source</td>\n      <td>session_status</td>\n      <td>BASE TABLE</td>\n      <td>None</td>\n      <td>None</td>\n      <td>None</td>\n      <td>None</td>\n      <td>None</td>\n      <td>YES</td>\n      <td>NO</td>\n      <td>None</td>\n      <td>None</td>\n    </tr>\n    <tr>\n      <th>18</th>\n      <td>test</td>\n      <td>source</td>\n      <td>track_status</td>\n      <td>BASE TABLE</td>\n      <td>None</td>\n      <td>None</td>\n      <td>None</td>\n      <td>None</td>\n      <td>None</td>\n      <td>YES</td>\n      <td>NO</td>\n      <td>None</td>\n      <td>None</td>\n    </tr>\n    <tr>\n      <th>19</th>\n      <td>test</td>\n      <td>source</td>\n      <td>weather</td>\n      <td>BASE TABLE</td>\n      <td>None</td>\n      <td>None</td>\n      <td>None</td>\n      <td>None</td>\n      <td>None</td>\n      <td>YES</td>\n      <td>NO</td>\n      <td>None</td>\n      <td>None</td>\n    </tr>\n    <tr>\n      <th>20</th>\n      <td>test</td>\n      <td>staging</td>\n      <td>car_location</td>\n      <td>BASE TABLE</td>\n      <td>None</td>\n      <td>None</td>\n      <td>None</td>\n      <td>None</td>\n      <td>None</td>\n      <td>YES</td>\n      <td>NO</td>\n      <td>None</td>\n      <td>None</td>\n    </tr>\n    <tr>\n      <th>21</th>\n      <td>test</td>\n      <td>staging</td>\n      <td>car_telemetry</td>\n      <td>BASE TABLE</td>\n      <td>None</td>\n      <td>None</td>\n      <td>None</td>\n      <td>None</td>\n      <td>None</td>\n      <td>YES</td>\n      <td>NO</td>\n      <td>None</td>\n      <td>None</td>\n    </tr>\n    <tr>\n      <th>22</th>\n      <td>test</td>\n      <td>staging</td>\n      <td>circuits</td>\n      <td>BASE TABLE</td>\n      <td>None</td>\n      <td>None</td>\n      <td>None</td>\n      <td>None</td>\n      <td>None</td>\n      <td>YES</td>\n      <td>NO</td>\n      <td>None</td>\n      <td>None</td>\n    </tr>\n    <tr>\n      <th>23</th>\n      <td>test</td>\n      <td>staging</td>\n      <td>meetings</td>\n      <td>BASE TABLE</td>\n      <td>None</td>\n      <td>None</td>\n      <td>None</td>\n      <td>None</td>\n      <td>None</td>\n      <td>YES</td>\n      <td>NO</td>\n      <td>None</td>\n      <td>None</td>\n    </tr>\n    <tr>\n      <th>24</th>\n      <td>test</td>\n      <td>staging</td>\n      <td>race_control</td>\n      <td>BASE TABLE</td>\n      <td>None</td>\n      <td>None</td>\n      <td>None</td>\n      <td>None</td>\n      <td>None</td>\n      <td>YES</td>\n      <td>NO</td>\n      <td>None</td>\n      <td>None</td>\n    </tr>\n    <tr>\n      <th>25</th>\n      <td>test</td>\n      <td>staging</td>\n      <td>results</td>\n      <td>BASE TABLE</td>\n      <td>None</td>\n      <td>None</td>\n      <td>None</td>\n      <td>None</td>\n      <td>None</td>\n      <td>YES</td>\n      <td>NO</td>\n      <td>None</td>\n      <td>None</td>\n    </tr>\n    <tr>\n      <th>26</th>\n      <td>test</td>\n      <td>staging</td>\n      <td>sessions</td>\n      <td>BASE TABLE</td>\n      <td>None</td>\n      <td>None</td>\n      <td>None</td>\n      <td>None</td>\n      <td>None</td>\n      <td>YES</td>\n      <td>NO</td>\n      <td>None</td>\n      <td>None</td>\n    </tr>\n    <tr>\n      <th>27</th>\n      <td>test</td>\n      <td>staging</td>\n      <td>session_status</td>\n      <td>BASE TABLE</td>\n      <td>None</td>\n      <td>None</td>\n      <td>None</td>\n      <td>None</td>\n      <td>None</td>\n      <td>YES</td>\n      <td>NO</td>\n      <td>None</td>\n      <td>None</td>\n    </tr>\n    <tr>\n      <th>28</th>\n      <td>test</td>\n      <td>staging</td>\n      <td>track_status</td>\n      <td>BASE TABLE</td>\n      <td>None</td>\n      <td>None</td>\n      <td>None</td>\n      <td>None</td>\n      <td>None</td>\n      <td>YES</td>\n      <td>NO</td>\n      <td>None</td>\n      <td>None</td>\n    </tr>\n    <tr>\n      <th>29</th>\n      <td>test</td>\n      <td>staging</td>\n      <td>weather</td>\n      <td>BASE TABLE</td>\n      <td>None</td>\n      <td>None</td>\n      <td>None</td>\n      <td>None</td>\n      <td>None</td>\n      <td>YES</td>\n      <td>NO</td>\n      <td>None</td>\n      <td>None</td>\n    </tr>\n  </tbody>\n</table>\n</div>"
     },
     "metadata": {},
     "output_type": "display_data"
    }
   ],
   "source": [
    "# Confirm that the tables from 1.2 still exist in the database\n",
    "display(conn.tables())"
   ]
  },
  {
   "cell_type": "markdown",
   "source": [
    "# Understanding Context\n",
    "\n",
    "The interpreter treats column objects differently, depending on the context in which they are called.\n",
    "Within their parent table, the full query required to create the column will be returned. Within\n",
    "the context of the `lineage.columns.Select` object, only the column name prefixed with the \n",
    "parent table name will be returned."
   ],
   "metadata": {
    "collapsed": false
   },
   "id": "f4857d77312736fa"
  },
  {
   "cell_type": "code",
   "execution_count": 5,
   "outputs": [
    {
     "name": "stdout",
     "output_type": "stream",
     "text": [
      "Within parent table context: ROUND(TRY_CAST(\"Speed\" AS DECIMAL(15, 5)), 1)\n",
      "\n",
      "\n",
      "Within Select context: car_telemetry.kmh\n"
     ]
    }
   ],
   "source": [
    "# Context example\n",
    "\n",
    "print(rf\"Within parent table context: {staging.tables.car_telemetry.columns.kmh.sql}\")\n",
    "\n",
    "print(\"\\n\")\n",
    "\n",
    "print(\n",
    "    rf\"Within Select context: {tyr.lineage.columns.Select(staging.tables.car_telemetry.columns.kmh).sql}\"\n",
    ")"
   ],
   "metadata": {
    "collapsed": false,
    "ExecuteTime": {
     "end_time": "2025-10-15T06:44:03.213520151Z",
     "start_time": "2025-10-15T06:44:03.123780007Z"
    }
   },
   "id": "8dc6a7b61faf4492"
  },
  {
   "cell_type": "markdown",
   "source": [
    "Note here that \"Speed\" is the name of the column in the source file being aliased to kmh.\n",
    "If you called this column without using a Select object in a new table, the query would fail.\n",
    "\n",
    "Very important note: Any column assigned as part of the `columns`, `primary_key`, or `event_time` attribute will have their `current_table` attribute overwritten.\n",
    "Ensure these columns are not within their original context to ensure the original column's `current_table` attribute remains correct"
   ],
   "metadata": {
    "collapsed": false
   },
   "id": "9d4a8c9b09000a2f"
  },
  {
   "cell_type": "markdown",
   "source": [
    "________________________________________________________________________________________\n",
    "# Creating a new table"
   ],
   "metadata": {
    "collapsed": false
   },
   "id": "416dce3996def3ba"
  },
  {
   "cell_type": "code",
   "execution_count": 6,
   "id": "e18aa30d60aacad0",
   "metadata": {
    "ExecuteTime": {
     "end_time": "2025-10-15T06:44:03.214181517Z",
     "start_time": "2025-10-15T06:44:03.164438259Z"
    }
   },
   "outputs": [
    {
     "data": {
      "text/plain": "    driver_number  n_gear  average_kmh\n0               4       0     0.496366\n1               4       1    52.428676\n2               4       2    91.924752\n3               4       3   128.131872\n4               4       4   175.163710\n5               4       5   208.123782\n6               4       6   238.447406\n7               4       7   272.832154\n8               4       8   297.107759\n9              44       0     0.335976\n10             44       1    39.801278\n11             44       2    80.840273\n12             44       3   104.501964\n13             44       4   138.789077\n14             44       5   179.288145\n15             44       6   219.569816\n16             44       7   244.438261\n17             44       8   260.925882\n18             55       0     0.282270\n19             55       1    43.789356\n20             55       2    85.762841\n21             55       3   110.793271\n22             55       4   145.919832\n23             55       5   199.238600\n24             55       6   230.368296\n25             55       7   256.002722\n26             55       8   231.787879\n27             63       0     0.116812\n28             63       1    41.452890\n29             63       2    88.514847\n30             63       3    95.675230\n31             63       4   151.039049\n32             63       5   190.923609\n33             63       6   223.022022\n34             63       7   251.226202\n35             63       8   265.670873",
      "text/html": "<div>\n<style scoped>\n    .dataframe tbody tr th:only-of-type {\n        vertical-align: middle;\n    }\n\n    .dataframe tbody tr th {\n        vertical-align: top;\n    }\n\n    .dataframe thead th {\n        text-align: right;\n    }\n</style>\n<table border=\"1\" class=\"dataframe\">\n  <thead>\n    <tr style=\"text-align: right;\">\n      <th></th>\n      <th>driver_number</th>\n      <th>n_gear</th>\n      <th>average_kmh</th>\n    </tr>\n  </thead>\n  <tbody>\n    <tr>\n      <th>0</th>\n      <td>4</td>\n      <td>0</td>\n      <td>0.496366</td>\n    </tr>\n    <tr>\n      <th>1</th>\n      <td>4</td>\n      <td>1</td>\n      <td>52.428676</td>\n    </tr>\n    <tr>\n      <th>2</th>\n      <td>4</td>\n      <td>2</td>\n      <td>91.924752</td>\n    </tr>\n    <tr>\n      <th>3</th>\n      <td>4</td>\n      <td>3</td>\n      <td>128.131872</td>\n    </tr>\n    <tr>\n      <th>4</th>\n      <td>4</td>\n      <td>4</td>\n      <td>175.163710</td>\n    </tr>\n    <tr>\n      <th>5</th>\n      <td>4</td>\n      <td>5</td>\n      <td>208.123782</td>\n    </tr>\n    <tr>\n      <th>6</th>\n      <td>4</td>\n      <td>6</td>\n      <td>238.447406</td>\n    </tr>\n    <tr>\n      <th>7</th>\n      <td>4</td>\n      <td>7</td>\n      <td>272.832154</td>\n    </tr>\n    <tr>\n      <th>8</th>\n      <td>4</td>\n      <td>8</td>\n      <td>297.107759</td>\n    </tr>\n    <tr>\n      <th>9</th>\n      <td>44</td>\n      <td>0</td>\n      <td>0.335976</td>\n    </tr>\n    <tr>\n      <th>10</th>\n      <td>44</td>\n      <td>1</td>\n      <td>39.801278</td>\n    </tr>\n    <tr>\n      <th>11</th>\n      <td>44</td>\n      <td>2</td>\n      <td>80.840273</td>\n    </tr>\n    <tr>\n      <th>12</th>\n      <td>44</td>\n      <td>3</td>\n      <td>104.501964</td>\n    </tr>\n    <tr>\n      <th>13</th>\n      <td>44</td>\n      <td>4</td>\n      <td>138.789077</td>\n    </tr>\n    <tr>\n      <th>14</th>\n      <td>44</td>\n      <td>5</td>\n      <td>179.288145</td>\n    </tr>\n    <tr>\n      <th>15</th>\n      <td>44</td>\n      <td>6</td>\n      <td>219.569816</td>\n    </tr>\n    <tr>\n      <th>16</th>\n      <td>44</td>\n      <td>7</td>\n      <td>244.438261</td>\n    </tr>\n    <tr>\n      <th>17</th>\n      <td>44</td>\n      <td>8</td>\n      <td>260.925882</td>\n    </tr>\n    <tr>\n      <th>18</th>\n      <td>55</td>\n      <td>0</td>\n      <td>0.282270</td>\n    </tr>\n    <tr>\n      <th>19</th>\n      <td>55</td>\n      <td>1</td>\n      <td>43.789356</td>\n    </tr>\n    <tr>\n      <th>20</th>\n      <td>55</td>\n      <td>2</td>\n      <td>85.762841</td>\n    </tr>\n    <tr>\n      <th>21</th>\n      <td>55</td>\n      <td>3</td>\n      <td>110.793271</td>\n    </tr>\n    <tr>\n      <th>22</th>\n      <td>55</td>\n      <td>4</td>\n      <td>145.919832</td>\n    </tr>\n    <tr>\n      <th>23</th>\n      <td>55</td>\n      <td>5</td>\n      <td>199.238600</td>\n    </tr>\n    <tr>\n      <th>24</th>\n      <td>55</td>\n      <td>6</td>\n      <td>230.368296</td>\n    </tr>\n    <tr>\n      <th>25</th>\n      <td>55</td>\n      <td>7</td>\n      <td>256.002722</td>\n    </tr>\n    <tr>\n      <th>26</th>\n      <td>55</td>\n      <td>8</td>\n      <td>231.787879</td>\n    </tr>\n    <tr>\n      <th>27</th>\n      <td>63</td>\n      <td>0</td>\n      <td>0.116812</td>\n    </tr>\n    <tr>\n      <th>28</th>\n      <td>63</td>\n      <td>1</td>\n      <td>41.452890</td>\n    </tr>\n    <tr>\n      <th>29</th>\n      <td>63</td>\n      <td>2</td>\n      <td>88.514847</td>\n    </tr>\n    <tr>\n      <th>30</th>\n      <td>63</td>\n      <td>3</td>\n      <td>95.675230</td>\n    </tr>\n    <tr>\n      <th>31</th>\n      <td>63</td>\n      <td>4</td>\n      <td>151.039049</td>\n    </tr>\n    <tr>\n      <th>32</th>\n      <td>63</td>\n      <td>5</td>\n      <td>190.923609</td>\n    </tr>\n    <tr>\n      <th>33</th>\n      <td>63</td>\n      <td>6</td>\n      <td>223.022022</td>\n    </tr>\n    <tr>\n      <th>34</th>\n      <td>63</td>\n      <td>7</td>\n      <td>251.226202</td>\n    </tr>\n    <tr>\n      <th>35</th>\n      <td>63</td>\n      <td>8</td>\n      <td>265.670873</td>\n    </tr>\n  </tbody>\n</table>\n</div>"
     },
     "metadata": {},
     "output_type": "display_data"
    }
   ],
   "source": [
    "# Lets do some examples with the car_telemetry table with a new table called car_telemetry_analysis\n",
    "# As an example, we will retrieve the average speed in kmh, for each gear, for each available driver\n",
    "\n",
    "# Best practice is to define the source as a separate object, as most attributes will rely on it\n",
    "# and it allows ease of re-use of the Select object\n",
    "car_telemetry_analysis_source = tyr.lineage.tables.Select(staging.tables.car_telemetry)\n",
    "\n",
    "# Create a new core table\n",
    "car_telemetry_analysis = tyr.lineage.tables.Core(\n",
    "    # Give it a name. Best practice is to use the same name as the variable\n",
    "    name=\"car_telemetry_analysis\",\n",
    "    # The source will be our previously defined source object\n",
    "    source=car_telemetry_analysis_source,\n",
    "    # We want to get the average speed over the static primary key of the car_telemetry table\n",
    "    # We will first retrieve the static primary key using a macro. The select_static_primary_key\n",
    "    # retrieves all the primary key columns excluding the event_time from the source table\n",
    "    # and returns them as lineage.columns.Core objects\n",
    "    columns=tyr.lineage.macros.columns.select_static_primary_key(\n",
    "        car_telemetry_analysis_source\n",
    "    )\n",
    "    + tyr.lineage.core.ColumnList(\n",
    "        [\n",
    "            # We also want to perform this over the n_gear column as well. It is not a part of the static primary key\n",
    "            # so we will have to bring it in separately\n",
    "            tyr.lineage.columns.Core(\n",
    "                name=car_telemetry_analysis_source.columns.n_gear.name,\n",
    "                source=tyr.lineage.columns.Select(\n",
    "                    car_telemetry_analysis_source.columns.n_gear\n",
    "                ),\n",
    "            ),\n",
    "            # Finally, we require the average_kmh. We can achieve this using the aggregate.Average function\n",
    "            tyr.lineage.columns.Core(\n",
    "                name=\"average_kmh\",\n",
    "                source=tyr.lineage.functions.aggregate.Average(\n",
    "                    car_telemetry_analysis_source.columns.kmh\n",
    "                ),\n",
    "            ),\n",
    "        ]\n",
    "    ),\n",
    "    # We need to assign the primary key to the table. This is achieved by copying the static primary key columns\n",
    "    # in the column attribute and the n_gear column as we want to partition over n_gear as well.\n",
    "    primary_key=tyr.lineage.macros.columns.select_static_primary_key(\n",
    "        car_telemetry_analysis_source\n",
    "    )\n",
    "    + tyr.lineage.core.ColumnList(\n",
    "        [\n",
    "            tyr.lineage.columns.Core(\n",
    "                name=car_telemetry_analysis_source.columns.n_gear.name,\n",
    "                source=tyr.lineage.columns.Select(\n",
    "                    car_telemetry_analysis_source.columns.n_gear\n",
    "                ),\n",
    "            ),\n",
    "        ]\n",
    "    ),\n",
    "    # Finally, to let the table know to group by the primary key, we need to set group_by=True\n",
    "    group_by=True,\n",
    ")\n",
    "\n",
    "# Execute the query and check the output to ensure it seems correct\n",
    "display(conn.execute(car_telemetry_analysis.sql).df())"
   ]
  },
  {
   "cell_type": "code",
   "execution_count": 7,
   "id": "eeb6da9f9967521a",
   "metadata": {
    "ExecuteTime": {
     "end_time": "2025-10-15T06:44:03.215284302Z",
     "start_time": "2025-10-15T06:44:03.164619018Z"
    }
   },
   "outputs": [
    {
     "data": {
      "text/plain": "    session_key  driver_number broadcast_name abbreviation        driver_id  \\\n0          9165             24         G ZHOU          ZHO             zhou   \n1          9165             55        C SAINZ          SAI            sainz   \n2          9165             44     L HAMILTON          HAM         hamilton   \n3          9165             77       V BOTTAS          BOT           bottas   \n4          9165             31         E OCON          OCO             ocon   \n5          9165             14       F ALONSO          ALO           alonso   \n6          9165              1   M VERSTAPPEN          VER   max_verstappen   \n7          9165              2     L SARGEANT          SAR         sargeant   \n8          9165             63      G RUSSELL          RUS          russell   \n9          9165             20    K MAGNUSSEN          MAG  kevin_magnussen   \n10         9165             10        P GASLY          GAS            gasly   \n11         9165             81      O PIASTRI          PIA          piastri   \n12         9165             22      Y TSUNODA          TSU          tsunoda   \n13         9165             16      C LECLERC          LEC          leclerc   \n14         9165              4       L NORRIS          NOR           norris   \n15         9165             11        S PEREZ          PER            perez   \n16         9165             27   N HULKENBERG          HUL       hulkenberg   \n17         9165             40       L LAWSON          LAW           lawson   \n18         9165             18       L STROLL          STR           stroll   \n19         9165             23        A ALBON          ALB            albon   \n\n          team_name team_colour       team_id first_name   last_name  \\\n0        Alfa Romeo      C92D4B          alfa     Guanyu        Zhou   \n1           Ferrari      F91536       ferrari     Carlos       Sainz   \n2          Mercedes      6CD3BF      mercedes      Lewis    Hamilton   \n3        Alfa Romeo      C92D4B          alfa   Valtteri      Bottas   \n4            Alpine      2293D1        alpine    Esteban        Ocon   \n5      Aston Martin      358C75  aston_martin   Fernando      Alonso   \n6   Red Bull Racing      3671C6      red_bull        Max  Verstappen   \n7          Williams      37BEDD      williams      Logan    Sargeant   \n8          Mercedes      6CD3BF      mercedes     George     Russell   \n9      Haas F1 Team      B6BABD          haas      Kevin   Magnussen   \n10           Alpine      2293D1        alpine     Pierre       Gasly   \n11          McLaren      F58020       mclaren      Oscar     Piastri   \n12       AlphaTauri      5E8FAA    alphatauri       Yuki     Tsunoda   \n13          Ferrari      F91536       ferrari    Charles     Leclerc   \n14          McLaren      F58020       mclaren      Lando      Norris   \n15  Red Bull Racing      3671C6      red_bull     Sergio       Perez   \n16     Haas F1 Team      B6BABD          haas       Nico  Hulkenberg   \n17       AlphaTauri      5E8FAA    alphatauri       Liam      Lawson   \n18     Aston Martin         nan  aston_martin      Lance      Stroll   \n19         Williams      37BEDD      williams  Alexander       Albon   \n\n          full_name                                       headshot_url  \\\n0       Guanyu Zhou  https://www.formula1.com/content/dam/fom-websi...   \n1      Carlos Sainz  https://www.formula1.com/content/dam/fom-websi...   \n2    Lewis Hamilton  https://www.formula1.com/content/dam/fom-websi...   \n3   Valtteri Bottas  https://www.formula1.com/content/dam/fom-websi...   \n4      Esteban Ocon  https://www.formula1.com/content/dam/fom-websi...   \n5   Fernando Alonso  https://www.formula1.com/content/dam/fom-websi...   \n6    Max Verstappen  https://www.formula1.com/content/dam/fom-websi...   \n7    Logan Sargeant  https://www.formula1.com/content/dam/fom-websi...   \n8    George Russell  https://www.formula1.com/content/dam/fom-websi...   \n9   Kevin Magnussen  https://www.formula1.com/content/dam/fom-websi...   \n10     Pierre Gasly  https://www.formula1.com/content/dam/fom-websi...   \n11    Oscar Piastri  https://www.formula1.com/content/dam/fom-websi...   \n12     Yuki Tsunoda  https://www.formula1.com/content/dam/fom-websi...   \n13  Charles Leclerc  https://www.formula1.com/content/dam/fom-websi...   \n14     Lando Norris  https://www.formula1.com/content/dam/fom-websi...   \n15     Sergio Perez  https://www.formula1.com/content/dam/fom-websi...   \n16  Nico Hulkenberg  https://www.formula1.com/content/dam/fom-websi...   \n17      Liam Lawson                                               None   \n18     Lance Stroll                                                nan   \n19  Alexander Albon  https://www.formula1.com/content/dam/fom-websi...   \n\n   country_code  position  classified_position  grid_position qualifying_1  \\\n0           CHN      12.0                 12.0           19.0          NaT   \n1           ESP       1.0                  1.0            1.0          NaT   \n2           GBR       3.0                  3.0            5.0          NaT   \n3           FIN      17.0                  NaN           16.0          NaT   \n4           FRA      18.0                  NaN            8.0          NaT   \n5           ESP      15.0                 15.0            7.0          NaT   \n6           NED       5.0                  5.0           11.0          NaT   \n7           USA      14.0                 14.0           18.0          NaT   \n8           GBR      16.0                 16.0            2.0          NaT   \n9           DEN      10.0                 10.0            6.0          NaT   \n10          FRA       6.0                  6.0           12.0          NaT   \n11          AUS       7.0                  7.0           17.0          NaT   \n12          JPN      19.0                  NaN           15.0          NaT   \n13          MON       4.0                  4.0            3.0          NaT   \n14          GBR       2.0                  2.0            4.0          NaT   \n15          MEX       8.0                  8.0           13.0          NaT   \n16          GER      13.0                 13.0            9.0          NaT   \n17          NZL       9.0                  9.0           10.0          NaT   \n18          nan       NaN                  NaN            NaN          NaT   \n19          THA      11.0                 11.0           14.0          NaT   \n\n   qualifying_2 qualifying_3        classified_time session_status  points  \\\n0           NaT          NaT 0 days 00:01:23.649000       Finished       0   \n1           NaT          NaT 0 days 01:46:37.418000       Finished      25   \n2           NaT          NaT 0 days 00:00:01.269000       Finished      16   \n3           NaT          NaT                    NaT        Retired       0   \n4           NaT          NaT                    NaT        Retired       0   \n5           NaT          NaT 0 days 00:01:27.603000       Finished       0   \n6           NaT          NaT 0 days 00:00:21.441000       Finished      10   \n7           NaT          NaT 0 days 00:01:26.889000       Finished       0   \n8           NaT          NaT                    NaT       Finished       0   \n9           NaT          NaT 0 days 00:01:12.116000       Finished       1   \n10          NaT          NaT 0 days 00:00:38.441000       Finished       8   \n11          NaT          NaT 0 days 00:00:41.479000       Finished       6   \n12          NaT          NaT                    NaT        Retired       0   \n13          NaT          NaT 0 days 00:00:21.177000       Finished      12   \n14          NaT          NaT 0 days 00:00:00.812000       Finished      18   \n15          NaT          NaT 0 days 00:00:59.534000       Finished       4   \n16          NaT          NaT 0 days 00:01:26.201000       Finished       0   \n17          NaT          NaT 0 days 00:01:05.918000       Finished       2   \n18          NaT          NaT                    NaT       Withdrew       0   \n19          NaT          NaT 0 days 00:01:13.417000       Finished       0   \n\n    laps_completed  \n0               62  \n1               62  \n2               62  \n3               51  \n4               42  \n5               62  \n6               62  \n7               62  \n8               61  \n9               62  \n10              62  \n11              62  \n12               0  \n13              62  \n14              62  \n15              62  \n16              62  \n17              62  \n18               0  \n19              62  ",
      "text/html": "<div>\n<style scoped>\n    .dataframe tbody tr th:only-of-type {\n        vertical-align: middle;\n    }\n\n    .dataframe tbody tr th {\n        vertical-align: top;\n    }\n\n    .dataframe thead th {\n        text-align: right;\n    }\n</style>\n<table border=\"1\" class=\"dataframe\">\n  <thead>\n    <tr style=\"text-align: right;\">\n      <th></th>\n      <th>session_key</th>\n      <th>driver_number</th>\n      <th>broadcast_name</th>\n      <th>abbreviation</th>\n      <th>driver_id</th>\n      <th>team_name</th>\n      <th>team_colour</th>\n      <th>team_id</th>\n      <th>first_name</th>\n      <th>last_name</th>\n      <th>full_name</th>\n      <th>headshot_url</th>\n      <th>country_code</th>\n      <th>position</th>\n      <th>classified_position</th>\n      <th>grid_position</th>\n      <th>qualifying_1</th>\n      <th>qualifying_2</th>\n      <th>qualifying_3</th>\n      <th>classified_time</th>\n      <th>session_status</th>\n      <th>points</th>\n      <th>laps_completed</th>\n    </tr>\n  </thead>\n  <tbody>\n    <tr>\n      <th>0</th>\n      <td>9165</td>\n      <td>24</td>\n      <td>G ZHOU</td>\n      <td>ZHO</td>\n      <td>zhou</td>\n      <td>Alfa Romeo</td>\n      <td>C92D4B</td>\n      <td>alfa</td>\n      <td>Guanyu</td>\n      <td>Zhou</td>\n      <td>Guanyu Zhou</td>\n      <td>https://www.formula1.com/content/dam/fom-websi...</td>\n      <td>CHN</td>\n      <td>12.0</td>\n      <td>12.0</td>\n      <td>19.0</td>\n      <td>NaT</td>\n      <td>NaT</td>\n      <td>NaT</td>\n      <td>0 days 00:01:23.649000</td>\n      <td>Finished</td>\n      <td>0</td>\n      <td>62</td>\n    </tr>\n    <tr>\n      <th>1</th>\n      <td>9165</td>\n      <td>55</td>\n      <td>C SAINZ</td>\n      <td>SAI</td>\n      <td>sainz</td>\n      <td>Ferrari</td>\n      <td>F91536</td>\n      <td>ferrari</td>\n      <td>Carlos</td>\n      <td>Sainz</td>\n      <td>Carlos Sainz</td>\n      <td>https://www.formula1.com/content/dam/fom-websi...</td>\n      <td>ESP</td>\n      <td>1.0</td>\n      <td>1.0</td>\n      <td>1.0</td>\n      <td>NaT</td>\n      <td>NaT</td>\n      <td>NaT</td>\n      <td>0 days 01:46:37.418000</td>\n      <td>Finished</td>\n      <td>25</td>\n      <td>62</td>\n    </tr>\n    <tr>\n      <th>2</th>\n      <td>9165</td>\n      <td>44</td>\n      <td>L HAMILTON</td>\n      <td>HAM</td>\n      <td>hamilton</td>\n      <td>Mercedes</td>\n      <td>6CD3BF</td>\n      <td>mercedes</td>\n      <td>Lewis</td>\n      <td>Hamilton</td>\n      <td>Lewis Hamilton</td>\n      <td>https://www.formula1.com/content/dam/fom-websi...</td>\n      <td>GBR</td>\n      <td>3.0</td>\n      <td>3.0</td>\n      <td>5.0</td>\n      <td>NaT</td>\n      <td>NaT</td>\n      <td>NaT</td>\n      <td>0 days 00:00:01.269000</td>\n      <td>Finished</td>\n      <td>16</td>\n      <td>62</td>\n    </tr>\n    <tr>\n      <th>3</th>\n      <td>9165</td>\n      <td>77</td>\n      <td>V BOTTAS</td>\n      <td>BOT</td>\n      <td>bottas</td>\n      <td>Alfa Romeo</td>\n      <td>C92D4B</td>\n      <td>alfa</td>\n      <td>Valtteri</td>\n      <td>Bottas</td>\n      <td>Valtteri Bottas</td>\n      <td>https://www.formula1.com/content/dam/fom-websi...</td>\n      <td>FIN</td>\n      <td>17.0</td>\n      <td>NaN</td>\n      <td>16.0</td>\n      <td>NaT</td>\n      <td>NaT</td>\n      <td>NaT</td>\n      <td>NaT</td>\n      <td>Retired</td>\n      <td>0</td>\n      <td>51</td>\n    </tr>\n    <tr>\n      <th>4</th>\n      <td>9165</td>\n      <td>31</td>\n      <td>E OCON</td>\n      <td>OCO</td>\n      <td>ocon</td>\n      <td>Alpine</td>\n      <td>2293D1</td>\n      <td>alpine</td>\n      <td>Esteban</td>\n      <td>Ocon</td>\n      <td>Esteban Ocon</td>\n      <td>https://www.formula1.com/content/dam/fom-websi...</td>\n      <td>FRA</td>\n      <td>18.0</td>\n      <td>NaN</td>\n      <td>8.0</td>\n      <td>NaT</td>\n      <td>NaT</td>\n      <td>NaT</td>\n      <td>NaT</td>\n      <td>Retired</td>\n      <td>0</td>\n      <td>42</td>\n    </tr>\n    <tr>\n      <th>5</th>\n      <td>9165</td>\n      <td>14</td>\n      <td>F ALONSO</td>\n      <td>ALO</td>\n      <td>alonso</td>\n      <td>Aston Martin</td>\n      <td>358C75</td>\n      <td>aston_martin</td>\n      <td>Fernando</td>\n      <td>Alonso</td>\n      <td>Fernando Alonso</td>\n      <td>https://www.formula1.com/content/dam/fom-websi...</td>\n      <td>ESP</td>\n      <td>15.0</td>\n      <td>15.0</td>\n      <td>7.0</td>\n      <td>NaT</td>\n      <td>NaT</td>\n      <td>NaT</td>\n      <td>0 days 00:01:27.603000</td>\n      <td>Finished</td>\n      <td>0</td>\n      <td>62</td>\n    </tr>\n    <tr>\n      <th>6</th>\n      <td>9165</td>\n      <td>1</td>\n      <td>M VERSTAPPEN</td>\n      <td>VER</td>\n      <td>max_verstappen</td>\n      <td>Red Bull Racing</td>\n      <td>3671C6</td>\n      <td>red_bull</td>\n      <td>Max</td>\n      <td>Verstappen</td>\n      <td>Max Verstappen</td>\n      <td>https://www.formula1.com/content/dam/fom-websi...</td>\n      <td>NED</td>\n      <td>5.0</td>\n      <td>5.0</td>\n      <td>11.0</td>\n      <td>NaT</td>\n      <td>NaT</td>\n      <td>NaT</td>\n      <td>0 days 00:00:21.441000</td>\n      <td>Finished</td>\n      <td>10</td>\n      <td>62</td>\n    </tr>\n    <tr>\n      <th>7</th>\n      <td>9165</td>\n      <td>2</td>\n      <td>L SARGEANT</td>\n      <td>SAR</td>\n      <td>sargeant</td>\n      <td>Williams</td>\n      <td>37BEDD</td>\n      <td>williams</td>\n      <td>Logan</td>\n      <td>Sargeant</td>\n      <td>Logan Sargeant</td>\n      <td>https://www.formula1.com/content/dam/fom-websi...</td>\n      <td>USA</td>\n      <td>14.0</td>\n      <td>14.0</td>\n      <td>18.0</td>\n      <td>NaT</td>\n      <td>NaT</td>\n      <td>NaT</td>\n      <td>0 days 00:01:26.889000</td>\n      <td>Finished</td>\n      <td>0</td>\n      <td>62</td>\n    </tr>\n    <tr>\n      <th>8</th>\n      <td>9165</td>\n      <td>63</td>\n      <td>G RUSSELL</td>\n      <td>RUS</td>\n      <td>russell</td>\n      <td>Mercedes</td>\n      <td>6CD3BF</td>\n      <td>mercedes</td>\n      <td>George</td>\n      <td>Russell</td>\n      <td>George Russell</td>\n      <td>https://www.formula1.com/content/dam/fom-websi...</td>\n      <td>GBR</td>\n      <td>16.0</td>\n      <td>16.0</td>\n      <td>2.0</td>\n      <td>NaT</td>\n      <td>NaT</td>\n      <td>NaT</td>\n      <td>NaT</td>\n      <td>Finished</td>\n      <td>0</td>\n      <td>61</td>\n    </tr>\n    <tr>\n      <th>9</th>\n      <td>9165</td>\n      <td>20</td>\n      <td>K MAGNUSSEN</td>\n      <td>MAG</td>\n      <td>kevin_magnussen</td>\n      <td>Haas F1 Team</td>\n      <td>B6BABD</td>\n      <td>haas</td>\n      <td>Kevin</td>\n      <td>Magnussen</td>\n      <td>Kevin Magnussen</td>\n      <td>https://www.formula1.com/content/dam/fom-websi...</td>\n      <td>DEN</td>\n      <td>10.0</td>\n      <td>10.0</td>\n      <td>6.0</td>\n      <td>NaT</td>\n      <td>NaT</td>\n      <td>NaT</td>\n      <td>0 days 00:01:12.116000</td>\n      <td>Finished</td>\n      <td>1</td>\n      <td>62</td>\n    </tr>\n    <tr>\n      <th>10</th>\n      <td>9165</td>\n      <td>10</td>\n      <td>P GASLY</td>\n      <td>GAS</td>\n      <td>gasly</td>\n      <td>Alpine</td>\n      <td>2293D1</td>\n      <td>alpine</td>\n      <td>Pierre</td>\n      <td>Gasly</td>\n      <td>Pierre Gasly</td>\n      <td>https://www.formula1.com/content/dam/fom-websi...</td>\n      <td>FRA</td>\n      <td>6.0</td>\n      <td>6.0</td>\n      <td>12.0</td>\n      <td>NaT</td>\n      <td>NaT</td>\n      <td>NaT</td>\n      <td>0 days 00:00:38.441000</td>\n      <td>Finished</td>\n      <td>8</td>\n      <td>62</td>\n    </tr>\n    <tr>\n      <th>11</th>\n      <td>9165</td>\n      <td>81</td>\n      <td>O PIASTRI</td>\n      <td>PIA</td>\n      <td>piastri</td>\n      <td>McLaren</td>\n      <td>F58020</td>\n      <td>mclaren</td>\n      <td>Oscar</td>\n      <td>Piastri</td>\n      <td>Oscar Piastri</td>\n      <td>https://www.formula1.com/content/dam/fom-websi...</td>\n      <td>AUS</td>\n      <td>7.0</td>\n      <td>7.0</td>\n      <td>17.0</td>\n      <td>NaT</td>\n      <td>NaT</td>\n      <td>NaT</td>\n      <td>0 days 00:00:41.479000</td>\n      <td>Finished</td>\n      <td>6</td>\n      <td>62</td>\n    </tr>\n    <tr>\n      <th>12</th>\n      <td>9165</td>\n      <td>22</td>\n      <td>Y TSUNODA</td>\n      <td>TSU</td>\n      <td>tsunoda</td>\n      <td>AlphaTauri</td>\n      <td>5E8FAA</td>\n      <td>alphatauri</td>\n      <td>Yuki</td>\n      <td>Tsunoda</td>\n      <td>Yuki Tsunoda</td>\n      <td>https://www.formula1.com/content/dam/fom-websi...</td>\n      <td>JPN</td>\n      <td>19.0</td>\n      <td>NaN</td>\n      <td>15.0</td>\n      <td>NaT</td>\n      <td>NaT</td>\n      <td>NaT</td>\n      <td>NaT</td>\n      <td>Retired</td>\n      <td>0</td>\n      <td>0</td>\n    </tr>\n    <tr>\n      <th>13</th>\n      <td>9165</td>\n      <td>16</td>\n      <td>C LECLERC</td>\n      <td>LEC</td>\n      <td>leclerc</td>\n      <td>Ferrari</td>\n      <td>F91536</td>\n      <td>ferrari</td>\n      <td>Charles</td>\n      <td>Leclerc</td>\n      <td>Charles Leclerc</td>\n      <td>https://www.formula1.com/content/dam/fom-websi...</td>\n      <td>MON</td>\n      <td>4.0</td>\n      <td>4.0</td>\n      <td>3.0</td>\n      <td>NaT</td>\n      <td>NaT</td>\n      <td>NaT</td>\n      <td>0 days 00:00:21.177000</td>\n      <td>Finished</td>\n      <td>12</td>\n      <td>62</td>\n    </tr>\n    <tr>\n      <th>14</th>\n      <td>9165</td>\n      <td>4</td>\n      <td>L NORRIS</td>\n      <td>NOR</td>\n      <td>norris</td>\n      <td>McLaren</td>\n      <td>F58020</td>\n      <td>mclaren</td>\n      <td>Lando</td>\n      <td>Norris</td>\n      <td>Lando Norris</td>\n      <td>https://www.formula1.com/content/dam/fom-websi...</td>\n      <td>GBR</td>\n      <td>2.0</td>\n      <td>2.0</td>\n      <td>4.0</td>\n      <td>NaT</td>\n      <td>NaT</td>\n      <td>NaT</td>\n      <td>0 days 00:00:00.812000</td>\n      <td>Finished</td>\n      <td>18</td>\n      <td>62</td>\n    </tr>\n    <tr>\n      <th>15</th>\n      <td>9165</td>\n      <td>11</td>\n      <td>S PEREZ</td>\n      <td>PER</td>\n      <td>perez</td>\n      <td>Red Bull Racing</td>\n      <td>3671C6</td>\n      <td>red_bull</td>\n      <td>Sergio</td>\n      <td>Perez</td>\n      <td>Sergio Perez</td>\n      <td>https://www.formula1.com/content/dam/fom-websi...</td>\n      <td>MEX</td>\n      <td>8.0</td>\n      <td>8.0</td>\n      <td>13.0</td>\n      <td>NaT</td>\n      <td>NaT</td>\n      <td>NaT</td>\n      <td>0 days 00:00:59.534000</td>\n      <td>Finished</td>\n      <td>4</td>\n      <td>62</td>\n    </tr>\n    <tr>\n      <th>16</th>\n      <td>9165</td>\n      <td>27</td>\n      <td>N HULKENBERG</td>\n      <td>HUL</td>\n      <td>hulkenberg</td>\n      <td>Haas F1 Team</td>\n      <td>B6BABD</td>\n      <td>haas</td>\n      <td>Nico</td>\n      <td>Hulkenberg</td>\n      <td>Nico Hulkenberg</td>\n      <td>https://www.formula1.com/content/dam/fom-websi...</td>\n      <td>GER</td>\n      <td>13.0</td>\n      <td>13.0</td>\n      <td>9.0</td>\n      <td>NaT</td>\n      <td>NaT</td>\n      <td>NaT</td>\n      <td>0 days 00:01:26.201000</td>\n      <td>Finished</td>\n      <td>0</td>\n      <td>62</td>\n    </tr>\n    <tr>\n      <th>17</th>\n      <td>9165</td>\n      <td>40</td>\n      <td>L LAWSON</td>\n      <td>LAW</td>\n      <td>lawson</td>\n      <td>AlphaTauri</td>\n      <td>5E8FAA</td>\n      <td>alphatauri</td>\n      <td>Liam</td>\n      <td>Lawson</td>\n      <td>Liam Lawson</td>\n      <td>None</td>\n      <td>NZL</td>\n      <td>9.0</td>\n      <td>9.0</td>\n      <td>10.0</td>\n      <td>NaT</td>\n      <td>NaT</td>\n      <td>NaT</td>\n      <td>0 days 00:01:05.918000</td>\n      <td>Finished</td>\n      <td>2</td>\n      <td>62</td>\n    </tr>\n    <tr>\n      <th>18</th>\n      <td>9165</td>\n      <td>18</td>\n      <td>L STROLL</td>\n      <td>STR</td>\n      <td>stroll</td>\n      <td>Aston Martin</td>\n      <td>nan</td>\n      <td>aston_martin</td>\n      <td>Lance</td>\n      <td>Stroll</td>\n      <td>Lance Stroll</td>\n      <td>nan</td>\n      <td>nan</td>\n      <td>NaN</td>\n      <td>NaN</td>\n      <td>NaN</td>\n      <td>NaT</td>\n      <td>NaT</td>\n      <td>NaT</td>\n      <td>NaT</td>\n      <td>Withdrew</td>\n      <td>0</td>\n      <td>0</td>\n    </tr>\n    <tr>\n      <th>19</th>\n      <td>9165</td>\n      <td>23</td>\n      <td>A ALBON</td>\n      <td>ALB</td>\n      <td>albon</td>\n      <td>Williams</td>\n      <td>37BEDD</td>\n      <td>williams</td>\n      <td>Alexander</td>\n      <td>Albon</td>\n      <td>Alexander Albon</td>\n      <td>https://www.formula1.com/content/dam/fom-websi...</td>\n      <td>THA</td>\n      <td>11.0</td>\n      <td>11.0</td>\n      <td>14.0</td>\n      <td>NaT</td>\n      <td>NaT</td>\n      <td>NaT</td>\n      <td>0 days 00:01:13.417000</td>\n      <td>Finished</td>\n      <td>0</td>\n      <td>62</td>\n    </tr>\n  </tbody>\n</table>\n</div>"
     },
     "metadata": {},
     "output_type": "display_data"
    }
   ],
   "source": [
    "# This is great, but we don't know who these drivers are. There is more information in the results table\n",
    "display(conn.execute(staging.tables.results.sql).df())"
   ]
  },
  {
   "cell_type": "code",
   "execution_count": 8,
   "id": "8edd26d5bc3ddee2",
   "metadata": {
    "ExecuteTime": {
     "end_time": "2025-10-15T06:44:03.294371977Z",
     "start_time": "2025-10-15T06:44:03.209665490Z"
    }
   },
   "outputs": [
    {
     "data": {
      "text/plain": "   team_name broadcast_name  driver_number  n_gear  average_kmh\n0    McLaren       L NORRIS              4       0     0.496366\n1    McLaren       L NORRIS              4       1    52.428676\n2    McLaren       L NORRIS              4       2    91.924752\n3    McLaren       L NORRIS              4       3   128.131872\n4    McLaren       L NORRIS              4       4   175.163710\n5    McLaren       L NORRIS              4       5   208.123782\n6    McLaren       L NORRIS              4       6   238.447406\n7    McLaren       L NORRIS              4       7   272.832154\n8    McLaren       L NORRIS              4       8   297.107759\n9   Mercedes     L HAMILTON             44       0     0.335976\n10  Mercedes     L HAMILTON             44       1    39.801278\n11  Mercedes     L HAMILTON             44       2    80.840273\n12  Mercedes     L HAMILTON             44       3   104.501964\n13  Mercedes     L HAMILTON             44       4   138.789077\n14  Mercedes     L HAMILTON             44       5   179.288145\n15  Mercedes     L HAMILTON             44       6   219.569816\n16  Mercedes     L HAMILTON             44       7   244.438261\n17  Mercedes     L HAMILTON             44       8   260.925882\n18   Ferrari        C SAINZ             55       0     0.282270\n19   Ferrari        C SAINZ             55       1    43.789356\n20   Ferrari        C SAINZ             55       2    85.762841\n21   Ferrari        C SAINZ             55       3   110.793271\n22   Ferrari        C SAINZ             55       4   145.919832\n23   Ferrari        C SAINZ             55       5   199.238600\n24   Ferrari        C SAINZ             55       6   230.368296\n25   Ferrari        C SAINZ             55       7   256.002722\n26   Ferrari        C SAINZ             55       8   231.787879\n27  Mercedes      G RUSSELL             63       0     0.116812\n28  Mercedes      G RUSSELL             63       1    41.452890\n29  Mercedes      G RUSSELL             63       2    88.514847\n30  Mercedes      G RUSSELL             63       3    95.675230\n31  Mercedes      G RUSSELL             63       4   151.039049\n32  Mercedes      G RUSSELL             63       5   190.923609\n33  Mercedes      G RUSSELL             63       6   223.022022\n34  Mercedes      G RUSSELL             63       7   251.226202\n35  Mercedes      G RUSSELL             63       8   265.670873",
      "text/html": "<div>\n<style scoped>\n    .dataframe tbody tr th:only-of-type {\n        vertical-align: middle;\n    }\n\n    .dataframe tbody tr th {\n        vertical-align: top;\n    }\n\n    .dataframe thead th {\n        text-align: right;\n    }\n</style>\n<table border=\"1\" class=\"dataframe\">\n  <thead>\n    <tr style=\"text-align: right;\">\n      <th></th>\n      <th>team_name</th>\n      <th>broadcast_name</th>\n      <th>driver_number</th>\n      <th>n_gear</th>\n      <th>average_kmh</th>\n    </tr>\n  </thead>\n  <tbody>\n    <tr>\n      <th>0</th>\n      <td>McLaren</td>\n      <td>L NORRIS</td>\n      <td>4</td>\n      <td>0</td>\n      <td>0.496366</td>\n    </tr>\n    <tr>\n      <th>1</th>\n      <td>McLaren</td>\n      <td>L NORRIS</td>\n      <td>4</td>\n      <td>1</td>\n      <td>52.428676</td>\n    </tr>\n    <tr>\n      <th>2</th>\n      <td>McLaren</td>\n      <td>L NORRIS</td>\n      <td>4</td>\n      <td>2</td>\n      <td>91.924752</td>\n    </tr>\n    <tr>\n      <th>3</th>\n      <td>McLaren</td>\n      <td>L NORRIS</td>\n      <td>4</td>\n      <td>3</td>\n      <td>128.131872</td>\n    </tr>\n    <tr>\n      <th>4</th>\n      <td>McLaren</td>\n      <td>L NORRIS</td>\n      <td>4</td>\n      <td>4</td>\n      <td>175.163710</td>\n    </tr>\n    <tr>\n      <th>5</th>\n      <td>McLaren</td>\n      <td>L NORRIS</td>\n      <td>4</td>\n      <td>5</td>\n      <td>208.123782</td>\n    </tr>\n    <tr>\n      <th>6</th>\n      <td>McLaren</td>\n      <td>L NORRIS</td>\n      <td>4</td>\n      <td>6</td>\n      <td>238.447406</td>\n    </tr>\n    <tr>\n      <th>7</th>\n      <td>McLaren</td>\n      <td>L NORRIS</td>\n      <td>4</td>\n      <td>7</td>\n      <td>272.832154</td>\n    </tr>\n    <tr>\n      <th>8</th>\n      <td>McLaren</td>\n      <td>L NORRIS</td>\n      <td>4</td>\n      <td>8</td>\n      <td>297.107759</td>\n    </tr>\n    <tr>\n      <th>9</th>\n      <td>Mercedes</td>\n      <td>L HAMILTON</td>\n      <td>44</td>\n      <td>0</td>\n      <td>0.335976</td>\n    </tr>\n    <tr>\n      <th>10</th>\n      <td>Mercedes</td>\n      <td>L HAMILTON</td>\n      <td>44</td>\n      <td>1</td>\n      <td>39.801278</td>\n    </tr>\n    <tr>\n      <th>11</th>\n      <td>Mercedes</td>\n      <td>L HAMILTON</td>\n      <td>44</td>\n      <td>2</td>\n      <td>80.840273</td>\n    </tr>\n    <tr>\n      <th>12</th>\n      <td>Mercedes</td>\n      <td>L HAMILTON</td>\n      <td>44</td>\n      <td>3</td>\n      <td>104.501964</td>\n    </tr>\n    <tr>\n      <th>13</th>\n      <td>Mercedes</td>\n      <td>L HAMILTON</td>\n      <td>44</td>\n      <td>4</td>\n      <td>138.789077</td>\n    </tr>\n    <tr>\n      <th>14</th>\n      <td>Mercedes</td>\n      <td>L HAMILTON</td>\n      <td>44</td>\n      <td>5</td>\n      <td>179.288145</td>\n    </tr>\n    <tr>\n      <th>15</th>\n      <td>Mercedes</td>\n      <td>L HAMILTON</td>\n      <td>44</td>\n      <td>6</td>\n      <td>219.569816</td>\n    </tr>\n    <tr>\n      <th>16</th>\n      <td>Mercedes</td>\n      <td>L HAMILTON</td>\n      <td>44</td>\n      <td>7</td>\n      <td>244.438261</td>\n    </tr>\n    <tr>\n      <th>17</th>\n      <td>Mercedes</td>\n      <td>L HAMILTON</td>\n      <td>44</td>\n      <td>8</td>\n      <td>260.925882</td>\n    </tr>\n    <tr>\n      <th>18</th>\n      <td>Ferrari</td>\n      <td>C SAINZ</td>\n      <td>55</td>\n      <td>0</td>\n      <td>0.282270</td>\n    </tr>\n    <tr>\n      <th>19</th>\n      <td>Ferrari</td>\n      <td>C SAINZ</td>\n      <td>55</td>\n      <td>1</td>\n      <td>43.789356</td>\n    </tr>\n    <tr>\n      <th>20</th>\n      <td>Ferrari</td>\n      <td>C SAINZ</td>\n      <td>55</td>\n      <td>2</td>\n      <td>85.762841</td>\n    </tr>\n    <tr>\n      <th>21</th>\n      <td>Ferrari</td>\n      <td>C SAINZ</td>\n      <td>55</td>\n      <td>3</td>\n      <td>110.793271</td>\n    </tr>\n    <tr>\n      <th>22</th>\n      <td>Ferrari</td>\n      <td>C SAINZ</td>\n      <td>55</td>\n      <td>4</td>\n      <td>145.919832</td>\n    </tr>\n    <tr>\n      <th>23</th>\n      <td>Ferrari</td>\n      <td>C SAINZ</td>\n      <td>55</td>\n      <td>5</td>\n      <td>199.238600</td>\n    </tr>\n    <tr>\n      <th>24</th>\n      <td>Ferrari</td>\n      <td>C SAINZ</td>\n      <td>55</td>\n      <td>6</td>\n      <td>230.368296</td>\n    </tr>\n    <tr>\n      <th>25</th>\n      <td>Ferrari</td>\n      <td>C SAINZ</td>\n      <td>55</td>\n      <td>7</td>\n      <td>256.002722</td>\n    </tr>\n    <tr>\n      <th>26</th>\n      <td>Ferrari</td>\n      <td>C SAINZ</td>\n      <td>55</td>\n      <td>8</td>\n      <td>231.787879</td>\n    </tr>\n    <tr>\n      <th>27</th>\n      <td>Mercedes</td>\n      <td>G RUSSELL</td>\n      <td>63</td>\n      <td>0</td>\n      <td>0.116812</td>\n    </tr>\n    <tr>\n      <th>28</th>\n      <td>Mercedes</td>\n      <td>G RUSSELL</td>\n      <td>63</td>\n      <td>1</td>\n      <td>41.452890</td>\n    </tr>\n    <tr>\n      <th>29</th>\n      <td>Mercedes</td>\n      <td>G RUSSELL</td>\n      <td>63</td>\n      <td>2</td>\n      <td>88.514847</td>\n    </tr>\n    <tr>\n      <th>30</th>\n      <td>Mercedes</td>\n      <td>G RUSSELL</td>\n      <td>63</td>\n      <td>3</td>\n      <td>95.675230</td>\n    </tr>\n    <tr>\n      <th>31</th>\n      <td>Mercedes</td>\n      <td>G RUSSELL</td>\n      <td>63</td>\n      <td>4</td>\n      <td>151.039049</td>\n    </tr>\n    <tr>\n      <th>32</th>\n      <td>Mercedes</td>\n      <td>G RUSSELL</td>\n      <td>63</td>\n      <td>5</td>\n      <td>190.923609</td>\n    </tr>\n    <tr>\n      <th>33</th>\n      <td>Mercedes</td>\n      <td>G RUSSELL</td>\n      <td>63</td>\n      <td>6</td>\n      <td>223.022022</td>\n    </tr>\n    <tr>\n      <th>34</th>\n      <td>Mercedes</td>\n      <td>G RUSSELL</td>\n      <td>63</td>\n      <td>7</td>\n      <td>251.226202</td>\n    </tr>\n    <tr>\n      <th>35</th>\n      <td>Mercedes</td>\n      <td>G RUSSELL</td>\n      <td>63</td>\n      <td>8</td>\n      <td>265.670873</td>\n    </tr>\n  </tbody>\n</table>\n</div>"
     },
     "metadata": {},
     "output_type": "display_data"
    }
   ],
   "source": [
    "# Let's use a join object to combine our metrics and the results table\n",
    "# We will also require use of the ctes parameter of the table Core object\n",
    "\n",
    "left = tyr.lineage.tables.Select(car_telemetry_analysis)\n",
    "right = tyr.lineage.tables.Select(staging.tables.results)\n",
    "\n",
    "analysis_results_join = tyr.lineage.joins.Join(\n",
    "    join_expression=tyr.lineage.expressions.LeftJoin(left=left, right=right),\n",
    "    condition=tyr.lineage.core.Condition(\n",
    "        checks=[\n",
    "            tyr.lineage.expressions.Equal(\n",
    "                tyr.lineage.columns.Select(left.columns.driver_number),\n",
    "                tyr.lineage.columns.Select(right.columns.driver_number),\n",
    "            )\n",
    "        ]\n",
    "    ),\n",
    ")\n",
    "\n",
    "joined_analysis_results_1 = tyr.lineage.tables.Core(\n",
    "    name=\"joined_analysis_results\",\n",
    "    ctes=tyr.lineage.core.TableList([car_telemetry_analysis]),\n",
    "    source=analysis_results_join,\n",
    "    columns=tyr.lineage.core.ColumnList(\n",
    "        [\n",
    "            tyr.lineage.columns.Core(\n",
    "                name=name,\n",
    "                source=analysis_results_join.join_expression.right.columns[name],\n",
    "            )\n",
    "            for name in [\"team_name\", \"broadcast_name\"]\n",
    "        ]\n",
    "    )\n",
    "    + tyr.lineage.macros.columns.select_all(analysis_results_join.join_expression.left),\n",
    ")\n",
    "\n",
    "display(conn.execute(joined_analysis_results_1.sql + \" ORDER BY 3,4 ASC\").df())"
   ]
  },
  {
   "cell_type": "code",
   "execution_count": 9,
   "id": "5a383891cbcac4f0",
   "metadata": {
    "ExecuteTime": {
     "end_time": "2025-10-15T06:44:03.423690379Z",
     "start_time": "2025-10-15T06:44:03.256541171Z"
    }
   },
   "outputs": [
    {
     "name": "stdout",
     "output_type": "stream",
     "text": [
      "SELECT joined_analysis_results_source.team_name AS team_name,\n",
      "       joined_analysis_results_source.broadcast_name AS broadcast_name,\n",
      "       joined_analysis_results_source.driver_number AS driver_number,\n",
      "       joined_analysis_results_source.n_gear AS n_gear,\n",
      "       joined_analysis_results_source.average_kmh AS average_kmh\n",
      "FROM\n",
      "  (SELECT car_telemetry_analysis.driver_number AS driver_number,\n",
      "          car_telemetry_analysis.n_gear AS n_gear,\n",
      "          car_telemetry_analysis.average_kmh AS average_kmh,\n",
      "          results.session_key AS session_key,\n",
      "          results.broadcast_name AS broadcast_name,\n",
      "          results.abbreviation AS abbreviation,\n",
      "          results.driver_id AS driver_id,\n",
      "          results.team_name AS team_name,\n",
      "          results.team_colour AS team_colour,\n",
      "          results.team_id AS team_id,\n",
      "          results.first_name AS first_name,\n",
      "          results.last_name AS last_name,\n",
      "          results.full_name AS full_name,\n",
      "          results.headshot_url AS headshot_url,\n",
      "          results.country_code AS country_code,\n",
      "          results.position AS position,\n",
      "          results.classified_position AS classified_position,\n",
      "          results.grid_position AS grid_position,\n",
      "          results.qualifying_1 AS qualifying_1,\n",
      "          results.qualifying_2 AS qualifying_2,\n",
      "          results.qualifying_3 AS qualifying_3,\n",
      "          results.classified_time AS classified_time,\n",
      "          results.session_status AS session_status,\n",
      "          results.points AS points,\n",
      "          results.laps_completed AS laps_completed\n",
      "   FROM\n",
      "     (SELECT car_telemetry.driver_number AS driver_number,\n",
      "             car_telemetry.n_gear AS n_gear,\n",
      "             AVG(car_telemetry.kmh) AS average_kmh\n",
      "      FROM staging.car_telemetry AS car_telemetry\n",
      "      GROUP BY car_telemetry.driver_number,\n",
      "               car_telemetry.n_gear) AS car_telemetry_analysis\n",
      "   LEFT JOIN staging.results AS results ON car_telemetry_analysis.driver_number = results.driver_number) AS joined_analysis_results_source\n"
     ]
    },
    {
     "data": {
      "text/plain": "   team_name broadcast_name  driver_number  n_gear  average_kmh\n0    McLaren       L NORRIS              4       0     0.496366\n1    McLaren       L NORRIS              4       1    52.428676\n2    McLaren       L NORRIS              4       2    91.924752\n3    McLaren       L NORRIS              4       3   128.131872\n4    McLaren       L NORRIS              4       4   175.163710\n5    McLaren       L NORRIS              4       5   208.123782\n6    McLaren       L NORRIS              4       6   238.447406\n7    McLaren       L NORRIS              4       7   272.832154\n8    McLaren       L NORRIS              4       8   297.107759\n9   Mercedes     L HAMILTON             44       0     0.335976\n10  Mercedes     L HAMILTON             44       1    39.801278\n11  Mercedes     L HAMILTON             44       2    80.840273\n12  Mercedes     L HAMILTON             44       3   104.501964\n13  Mercedes     L HAMILTON             44       4   138.789077\n14  Mercedes     L HAMILTON             44       5   179.288145\n15  Mercedes     L HAMILTON             44       6   219.569816\n16  Mercedes     L HAMILTON             44       7   244.438261\n17  Mercedes     L HAMILTON             44       8   260.925882\n18   Ferrari        C SAINZ             55       0     0.282270\n19   Ferrari        C SAINZ             55       1    43.789356\n20   Ferrari        C SAINZ             55       2    85.762841\n21   Ferrari        C SAINZ             55       3   110.793271\n22   Ferrari        C SAINZ             55       4   145.919832\n23   Ferrari        C SAINZ             55       5   199.238600\n24   Ferrari        C SAINZ             55       6   230.368296\n25   Ferrari        C SAINZ             55       7   256.002722\n26   Ferrari        C SAINZ             55       8   231.787879\n27  Mercedes      G RUSSELL             63       0     0.116812\n28  Mercedes      G RUSSELL             63       1    41.452890\n29  Mercedes      G RUSSELL             63       2    88.514847\n30  Mercedes      G RUSSELL             63       3    95.675230\n31  Mercedes      G RUSSELL             63       4   151.039049\n32  Mercedes      G RUSSELL             63       5   190.923609\n33  Mercedes      G RUSSELL             63       6   223.022022\n34  Mercedes      G RUSSELL             63       7   251.226202\n35  Mercedes      G RUSSELL             63       8   265.670873",
      "text/html": "<div>\n<style scoped>\n    .dataframe tbody tr th:only-of-type {\n        vertical-align: middle;\n    }\n\n    .dataframe tbody tr th {\n        vertical-align: top;\n    }\n\n    .dataframe thead th {\n        text-align: right;\n    }\n</style>\n<table border=\"1\" class=\"dataframe\">\n  <thead>\n    <tr style=\"text-align: right;\">\n      <th></th>\n      <th>team_name</th>\n      <th>broadcast_name</th>\n      <th>driver_number</th>\n      <th>n_gear</th>\n      <th>average_kmh</th>\n    </tr>\n  </thead>\n  <tbody>\n    <tr>\n      <th>0</th>\n      <td>McLaren</td>\n      <td>L NORRIS</td>\n      <td>4</td>\n      <td>0</td>\n      <td>0.496366</td>\n    </tr>\n    <tr>\n      <th>1</th>\n      <td>McLaren</td>\n      <td>L NORRIS</td>\n      <td>4</td>\n      <td>1</td>\n      <td>52.428676</td>\n    </tr>\n    <tr>\n      <th>2</th>\n      <td>McLaren</td>\n      <td>L NORRIS</td>\n      <td>4</td>\n      <td>2</td>\n      <td>91.924752</td>\n    </tr>\n    <tr>\n      <th>3</th>\n      <td>McLaren</td>\n      <td>L NORRIS</td>\n      <td>4</td>\n      <td>3</td>\n      <td>128.131872</td>\n    </tr>\n    <tr>\n      <th>4</th>\n      <td>McLaren</td>\n      <td>L NORRIS</td>\n      <td>4</td>\n      <td>4</td>\n      <td>175.163710</td>\n    </tr>\n    <tr>\n      <th>5</th>\n      <td>McLaren</td>\n      <td>L NORRIS</td>\n      <td>4</td>\n      <td>5</td>\n      <td>208.123782</td>\n    </tr>\n    <tr>\n      <th>6</th>\n      <td>McLaren</td>\n      <td>L NORRIS</td>\n      <td>4</td>\n      <td>6</td>\n      <td>238.447406</td>\n    </tr>\n    <tr>\n      <th>7</th>\n      <td>McLaren</td>\n      <td>L NORRIS</td>\n      <td>4</td>\n      <td>7</td>\n      <td>272.832154</td>\n    </tr>\n    <tr>\n      <th>8</th>\n      <td>McLaren</td>\n      <td>L NORRIS</td>\n      <td>4</td>\n      <td>8</td>\n      <td>297.107759</td>\n    </tr>\n    <tr>\n      <th>9</th>\n      <td>Mercedes</td>\n      <td>L HAMILTON</td>\n      <td>44</td>\n      <td>0</td>\n      <td>0.335976</td>\n    </tr>\n    <tr>\n      <th>10</th>\n      <td>Mercedes</td>\n      <td>L HAMILTON</td>\n      <td>44</td>\n      <td>1</td>\n      <td>39.801278</td>\n    </tr>\n    <tr>\n      <th>11</th>\n      <td>Mercedes</td>\n      <td>L HAMILTON</td>\n      <td>44</td>\n      <td>2</td>\n      <td>80.840273</td>\n    </tr>\n    <tr>\n      <th>12</th>\n      <td>Mercedes</td>\n      <td>L HAMILTON</td>\n      <td>44</td>\n      <td>3</td>\n      <td>104.501964</td>\n    </tr>\n    <tr>\n      <th>13</th>\n      <td>Mercedes</td>\n      <td>L HAMILTON</td>\n      <td>44</td>\n      <td>4</td>\n      <td>138.789077</td>\n    </tr>\n    <tr>\n      <th>14</th>\n      <td>Mercedes</td>\n      <td>L HAMILTON</td>\n      <td>44</td>\n      <td>5</td>\n      <td>179.288145</td>\n    </tr>\n    <tr>\n      <th>15</th>\n      <td>Mercedes</td>\n      <td>L HAMILTON</td>\n      <td>44</td>\n      <td>6</td>\n      <td>219.569816</td>\n    </tr>\n    <tr>\n      <th>16</th>\n      <td>Mercedes</td>\n      <td>L HAMILTON</td>\n      <td>44</td>\n      <td>7</td>\n      <td>244.438261</td>\n    </tr>\n    <tr>\n      <th>17</th>\n      <td>Mercedes</td>\n      <td>L HAMILTON</td>\n      <td>44</td>\n      <td>8</td>\n      <td>260.925882</td>\n    </tr>\n    <tr>\n      <th>18</th>\n      <td>Ferrari</td>\n      <td>C SAINZ</td>\n      <td>55</td>\n      <td>0</td>\n      <td>0.282270</td>\n    </tr>\n    <tr>\n      <th>19</th>\n      <td>Ferrari</td>\n      <td>C SAINZ</td>\n      <td>55</td>\n      <td>1</td>\n      <td>43.789356</td>\n    </tr>\n    <tr>\n      <th>20</th>\n      <td>Ferrari</td>\n      <td>C SAINZ</td>\n      <td>55</td>\n      <td>2</td>\n      <td>85.762841</td>\n    </tr>\n    <tr>\n      <th>21</th>\n      <td>Ferrari</td>\n      <td>C SAINZ</td>\n      <td>55</td>\n      <td>3</td>\n      <td>110.793271</td>\n    </tr>\n    <tr>\n      <th>22</th>\n      <td>Ferrari</td>\n      <td>C SAINZ</td>\n      <td>55</td>\n      <td>4</td>\n      <td>145.919832</td>\n    </tr>\n    <tr>\n      <th>23</th>\n      <td>Ferrari</td>\n      <td>C SAINZ</td>\n      <td>55</td>\n      <td>5</td>\n      <td>199.238600</td>\n    </tr>\n    <tr>\n      <th>24</th>\n      <td>Ferrari</td>\n      <td>C SAINZ</td>\n      <td>55</td>\n      <td>6</td>\n      <td>230.368296</td>\n    </tr>\n    <tr>\n      <th>25</th>\n      <td>Ferrari</td>\n      <td>C SAINZ</td>\n      <td>55</td>\n      <td>7</td>\n      <td>256.002722</td>\n    </tr>\n    <tr>\n      <th>26</th>\n      <td>Ferrari</td>\n      <td>C SAINZ</td>\n      <td>55</td>\n      <td>8</td>\n      <td>231.787879</td>\n    </tr>\n    <tr>\n      <th>27</th>\n      <td>Mercedes</td>\n      <td>G RUSSELL</td>\n      <td>63</td>\n      <td>0</td>\n      <td>0.116812</td>\n    </tr>\n    <tr>\n      <th>28</th>\n      <td>Mercedes</td>\n      <td>G RUSSELL</td>\n      <td>63</td>\n      <td>1</td>\n      <td>41.452890</td>\n    </tr>\n    <tr>\n      <th>29</th>\n      <td>Mercedes</td>\n      <td>G RUSSELL</td>\n      <td>63</td>\n      <td>2</td>\n      <td>88.514847</td>\n    </tr>\n    <tr>\n      <th>30</th>\n      <td>Mercedes</td>\n      <td>G RUSSELL</td>\n      <td>63</td>\n      <td>3</td>\n      <td>95.675230</td>\n    </tr>\n    <tr>\n      <th>31</th>\n      <td>Mercedes</td>\n      <td>G RUSSELL</td>\n      <td>63</td>\n      <td>4</td>\n      <td>151.039049</td>\n    </tr>\n    <tr>\n      <th>32</th>\n      <td>Mercedes</td>\n      <td>G RUSSELL</td>\n      <td>63</td>\n      <td>5</td>\n      <td>190.923609</td>\n    </tr>\n    <tr>\n      <th>33</th>\n      <td>Mercedes</td>\n      <td>G RUSSELL</td>\n      <td>63</td>\n      <td>6</td>\n      <td>223.022022</td>\n    </tr>\n    <tr>\n      <th>34</th>\n      <td>Mercedes</td>\n      <td>G RUSSELL</td>\n      <td>63</td>\n      <td>7</td>\n      <td>251.226202</td>\n    </tr>\n    <tr>\n      <th>35</th>\n      <td>Mercedes</td>\n      <td>G RUSSELL</td>\n      <td>63</td>\n      <td>8</td>\n      <td>265.670873</td>\n    </tr>\n  </tbody>\n</table>\n</div>"
     },
     "metadata": {},
     "output_type": "display_data"
    }
   ],
   "source": [
    "# There is no single method of achieving this result. Here is another method using a Subquery\n",
    "\n",
    "left = tyr.lineage.tables.Subquery(car_telemetry_analysis)\n",
    "right = tyr.lineage.tables.Select(staging.tables.results)\n",
    "\n",
    "analysis_results_join = tyr.lineage.joins.Join(\n",
    "    join_expression=tyr.lineage.expressions.LeftJoin(left=left, right=right),\n",
    "    condition=tyr.lineage.core.Condition(\n",
    "        checks=[\n",
    "            tyr.lineage.expressions.Equal(\n",
    "                tyr.lineage.columns.Select(left.columns.driver_number),\n",
    "                tyr.lineage.columns.Select(right.columns.driver_number),\n",
    "            )\n",
    "        ]\n",
    "    ),\n",
    ")\n",
    "\n",
    "joined_analysis_results_source = tyr.lineage.tables.Core(\n",
    "    name=\"joined_analysis_results_source\",\n",
    "    source=analysis_results_join,\n",
    "    columns=tyr.lineage.macros.columns.select_all(analysis_results_join),\n",
    "    primary_key=tyr.lineage.macros.columns.select_all(\n",
    "        analysis_results_join,\n",
    "        filter_regex=rf\"^(?!{'|'.join([column for column in analysis_results_join.join_expression.left.columns.list_names_()])}).*\",\n",
    "    ),\n",
    ")\n",
    "\n",
    "joined_analysis_results_source_subquery = tyr.lineage.tables.Subquery(\n",
    "    source=joined_analysis_results_source,\n",
    ")\n",
    "\n",
    "joined_analysis_results_2 = tyr.lineage.tables.Core(\n",
    "    name=\"joined_analysis_results\",\n",
    "    source=joined_analysis_results_source_subquery,\n",
    "    columns=tyr.lineage.core.ColumnList(\n",
    "        tyr.lineage.macros.columns.select_all(joined_analysis_results_source_subquery)[\n",
    "            [\"team_name\", \"broadcast_name\", \"driver_number\", \"n_gear\", \"average_kmh\"]\n",
    "        ]\n",
    "    ),\n",
    "    inherit_primary_key=True,\n",
    ")\n",
    "\n",
    "print(joined_analysis_results_2.sql)\n",
    "display(conn.execute(joined_analysis_results_2.sql + \" ORDER BY 3, 4 ASC\").df())"
   ]
  },
  {
   "cell_type": "code",
   "execution_count": 10,
   "id": "e1a7b845-0a46-4a54-b0ae-5b1c66fca1d3",
   "metadata": {
    "ExecuteTime": {
     "end_time": "2025-10-15T06:44:03.477478757Z",
     "start_time": "2025-10-15T06:44:03.384309450Z"
    }
   },
   "outputs": [
    {
     "data": {
      "text/plain": "True"
     },
     "execution_count": 10,
     "metadata": {},
     "output_type": "execute_result"
    }
   ],
   "source": [
    "# We can confirm that these two methods produce the same result\n",
    "\n",
    "conn.execute(joined_analysis_results_1.sql).df().equals(\n",
    "    conn.execute(joined_analysis_results_2.sql).df()\n",
    ")"
   ]
  },
  {
   "cell_type": "code",
   "execution_count": 11,
   "id": "38c7b696-7e09-4e24-8ead-e92beff67c92",
   "metadata": {
    "ExecuteTime": {
     "end_time": "2025-10-15T06:44:03.477628027Z",
     "start_time": "2025-10-15T06:44:03.428447175Z"
    }
   },
   "outputs": [],
   "source": [
    "conn.close()"
   ]
  },
  {
   "cell_type": "code",
   "execution_count": 11,
   "outputs": [],
   "source": [],
   "metadata": {
    "collapsed": false,
    "ExecuteTime": {
     "end_time": "2025-10-15T06:44:03.477688626Z",
     "start_time": "2025-10-15T06:44:03.428570175Z"
    }
   },
   "id": "cfa17c68ddd25199"
  }
 ],
 "metadata": {
  "kernelspec": {
   "display_name": "Python 3 (ipykernel)",
   "language": "python",
   "name": "python3"
  },
  "language_info": {
   "codemirror_mode": {
    "name": "ipython",
    "version": 3
   },
   "file_extension": ".py",
   "mimetype": "text/x-python",
   "name": "python",
   "nbconvert_exporter": "python",
   "pygments_lexer": "ipython3",
   "version": "3.9.19"
  }
 },
 "nbformat": 4,
 "nbformat_minor": 5
}
